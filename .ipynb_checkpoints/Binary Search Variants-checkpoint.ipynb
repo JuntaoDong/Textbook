{
 "cells": [
  {
   "cell_type": "markdown",
   "metadata": {},
   "source": [
    "4 Common Variants of Binary Search Problems\n",
    "\n",
    "1. Find the first value in the sequence that equals the target value.\n",
    "2. Find the last value in the sequence that equals the target value.\n",
    "3. Find the first value in the sequence that is equal or larger than the target value.\n",
    "4. Find the last value in the sequence that is equal or smaller than the target value."
   ]
  },
  {
   "cell_type": "code",
   "execution_count": null,
   "metadata": {},
   "outputs": [],
   "source": [
    "# Iteration\n",
    "def binary_search(lst, target):\n",
    "    start = 0\n",
    "    end = len(lst) - 1\n",
    "    while start <= end:\n",
    "        mid = start + ((end - start) >> 1)\n",
    "        if lst[mid] == target:\n",
    "            return mid\n",
    "        elif lst[mid] < target:\n",
    "            end = mid - 1\n",
    "        else:\n",
    "            start = mid + 1\n",
    "    return None"
   ]
  },
  {
   "cell_type": "code",
   "execution_count": null,
   "metadata": {},
   "outputs": [],
   "source": [
    "# Recursion\n",
    "def binary_search(lst, target):\n",
    "    return _binary_search_helper(lst, 0, len(lst) - 1, target)\n",
    "\n",
    "def _binary_search_helper(lst, start, end, target):\n",
    "    mid = start + ((end - start) >> 1)\n",
    "    if lst[mid] == target:\n",
    "        return mid\n",
    "    return _binary_search_helper(lst, start, mid - 1, target) if lst[mid] < target  \n",
    "           else _binary_search_helper(lst, mid + 1, end, target)"
   ]
  },
  {
   "cell_type": "code",
   "execution_count": null,
   "metadata": {},
   "outputs": [],
   "source": [
    "# Q1 \n",
    "def binary_search_1(lst, target):\n",
    "    start = 0\n",
    "    end = len(lst) - 1\n",
    "    while start <= end:\n",
    "        mid = start + ((end - start) >> 2)\n",
    "        if lst[mid] < target:\n",
    "            start = mid + 1\n",
    "        elif lst[mid] > target:\n",
    "            end = mid - 1\n",
    "        else:\n",
    "            if mid == 0 or lst[mid - 1] != lst[mid]:\n",
    "                return mid\n",
    "            else:\n",
    "                end = mid - 1\n",
    "    return None"
   ]
  },
  {
   "cell_type": "code",
   "execution_count": null,
   "metadata": {},
   "outputs": [],
   "source": [
    "# Q2\n",
    "def binary_search_2(lst, target):\n",
    "    start = 0\n",
    "    end = len(lst) - 1\n",
    "    while start <= end:\n",
    "        mid = start + ((end - start) >> 2)\n",
    "        if lst[mid] < target:\n",
    "            start = mid + 1\n",
    "        elif lst[mid] > target:\n",
    "            end = mid - 1\n",
    "        else:\n",
    "            if mid == len(lst) - 1 or lst[mid + 1] != lst[mid]:\n",
    "                return mid\n",
    "            else:\n",
    "                start = mid + 1\n",
    "    return None"
   ]
  },
  {
   "cell_type": "code",
   "execution_count": null,
   "metadata": {},
   "outputs": [],
   "source": [
    "# Q3\n",
    "def binary_search_3(lst, target):\n",
    "    start = 0\n",
    "    end = len(lst) - 1\n",
    "    while start <= end:\n",
    "        mid = start + ((end - start) >> 2)\n",
    "        if lst[mid] < target:\n",
    "            start = mid + 1\n",
    "        elif lst[mid] > target:\n",
    "            end = mid - 1\n",
    "        else:\n",
    "            if mid == 0 or lst[mid - 1] < target:\n",
    "                return mid\n",
    "            else:\n",
    "                end = mid - 1\n",
    "    return None"
   ]
  },
  {
   "cell_type": "code",
   "execution_count": null,
   "metadata": {},
   "outputs": [],
   "source": [
    "# Q4\n",
    "def binary_search_4(lst, target):\n",
    "    start = 0\n",
    "    end = len(lst) - 1\n",
    "    while start <= end:\n",
    "        mid = start + ((end - start) >> 2)\n",
    "        if lst[mid] < target:\n",
    "            start = mid + 1\n",
    "        elif lst[mid] > target:\n",
    "            end = mid - 1\n",
    "        else:\n",
    "            if mid = len(lst) - 1 or lst[mid + 1] > target:\n",
    "                return mid\n",
    "            else:\n",
    "                start = mid + 1\n",
    "    return None"
   ]
  }
 ],
 "metadata": {
  "kernelspec": {
   "display_name": "Python 3",
   "language": "python",
   "name": "python3"
  },
  "language_info": {
   "codemirror_mode": {
    "name": "ipython",
    "version": 3
   },
   "file_extension": ".py",
   "mimetype": "text/x-python",
   "name": "python",
   "nbconvert_exporter": "python",
   "pygments_lexer": "ipython3",
   "version": "3.7.3"
  }
 },
 "nbformat": 4,
 "nbformat_minor": 2
}
