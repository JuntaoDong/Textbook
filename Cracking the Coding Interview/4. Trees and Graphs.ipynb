{
 "cells": [
  {
   "cell_type": "code",
   "execution_count": 30,
   "metadata": {},
   "outputs": [],
   "source": [
    "class Vertex:\n",
    "    def __init__(self, key):\n",
    "        self.id = key\n",
    "        self.connectedTo = []\n",
    "        self.marked = False\n",
    "        self.state = 'blank' # 'blank' / 'partial' / 'complete'\n",
    "    def __str__(self):\n",
    "        return str(self.id) + ': ' + str(self.connectedTo)\n",
    "    def addNeighbor(self, nbr):\n",
    "        self.connectedTo.append(nbr)\n",
    "    def getConnections(self):\n",
    "        return self.connectedTo\n",
    "    def getId(self):\n",
    "        return self.id\n",
    "\n",
    "class Graph:\n",
    "    def __init__(self):\n",
    "        self.vertList = {} # key: Vertex object\n",
    "        self.numVertices = 0\n",
    "    def addVertex(self, key):\n",
    "        self.numVertices += 1\n",
    "        newVert = Vertex(key)\n",
    "        self.vertList[key] = newVert\n",
    "        return newVert\n",
    "    def addEdge(self, f, t):\n",
    "        if f not in self.vertList:\n",
    "            self.addVertex(f)\n",
    "        if t not in self.vertList:\n",
    "            self.addVertex(t)\n",
    "        self.vertList[f].addNeighbor(self.vertList[t])\n",
    "    def getVertex(self, n):\n",
    "        if n in self.vertList:\n",
    "            return self.vertList[n]\n",
    "        else:\n",
    "            return None\n",
    "    def setBlank(self):\n",
    "        for key in vertList:\n",
    "            key.state = 'blank'\n",
    "    def __contains__(self, n):\n",
    "        return n in self.vertList\n",
    "    def getVertices(self):\n",
    "        return self.vertList.keys()\n",
    "    def __iter__(self):\n",
    "        return iter(self.vertList.values())\n",
    "\n",
    "class Queue:\n",
    "    def __init__(self):\n",
    "        self.items = []\n",
    "    def enqueue(self, item):\n",
    "        self.items.append(item)\n",
    "    def dequeue(self):\n",
    "        return self.items.pop(0)\n",
    "    def peek(self):\n",
    "        return self.items[0]\n",
    "    def isEmpty(self):\n",
    "        return self.items==[]\n",
    "    \n",
    "class TreeNode:\n",
    "    def __init__(self, key):\n",
    "        self.key = key\n",
    "        self.left = None\n",
    "        self.right = None\n",
    "        self.parent = None"
   ]
  },
  {
   "cell_type": "markdown",
   "metadata": {},
   "source": [
    "4.1 **Route Between Nodes:** Given a directed graph, design an algorithm to find out whether there is a route between two nodes."
   ]
  },
  {
   "cell_type": "code",
   "execution_count": 9,
   "metadata": {},
   "outputs": [
    {
     "data": {
      "text/plain": [
       "False"
      ]
     },
     "execution_count": 9,
     "metadata": {},
     "output_type": "execute_result"
    }
   ],
   "source": [
    "#BFS: use queue and iteration\n",
    "def findRoute(n1, n2):\n",
    "    if n1 == n2:\n",
    "        return True\n",
    "    queue = Queue()\n",
    "    n1.marked = True\n",
    "    queue.enqueue(n1)\n",
    "    \n",
    "    while not queue.isEmpty():\n",
    "        r = queue.dequeue()\n",
    "        for nbr in r.connectedTo:\n",
    "            if nbr.marked == False:\n",
    "                nbr.marked = True\n",
    "                if nbr == n2:\n",
    "                    return True\n",
    "                else:\n",
    "                    queue.enqueue(nbr)\n",
    "    return False\n",
    "\n",
    "g = Graph()\n",
    "v0 = g.addVertex(0)\n",
    "v1 = g.addVertex(1)\n",
    "v2 = g.addVertex(2)\n",
    "v3 = g.addVertex(3)\n",
    "v4 = g.addVertex(4)\n",
    "g.addEdge(0,4)\n",
    "g.addEdge(1,4)\n",
    "g.addEdge(3,2)\n",
    "g.addEdge(4,2)\n",
    "g.addEdge(2,0)\n",
    "findRoute(v0,v3)"
   ]
  },
  {
   "cell_type": "markdown",
   "metadata": {},
   "source": [
    "4.2 **Minimal Tree:** Given a sorted (increasing order) array with unique integer elements, write an algorithm to create a binary search tree with minimal height."
   ]
  },
  {
   "cell_type": "code",
   "execution_count": 54,
   "metadata": {},
   "outputs": [],
   "source": [
    "def minBST(sortedLst):\n",
    "    if sortedLst == []:\n",
    "        return None\n",
    "    mid = len(sortedLst) // 2\n",
    "    newNode = TreeNode(sortedLst[mid])\n",
    "    newNode.left = minBST(sortedLst[:mid])\n",
    "    newNode.right = minBST(sortedLst[mid+1:])\n",
    "    return newNode\n"
   ]
  },
  {
   "cell_type": "markdown",
   "metadata": {},
   "source": [
    "4.3 **List of Depths:** Given a binary tree, design an algorithm which creates a linked list of all the nodes at each depth (e.g., if you have a tree with depth D, you'll have D linked lists)."
   ]
  },
  {
   "cell_type": "code",
   "execution_count": 21,
   "metadata": {},
   "outputs": [],
   "source": [
    "def ListOfDepth(root):\n",
    "    if root == None:\n",
    "        return None\n",
    "    # root level\n",
    "    lists = []\n",
    "    LinkedList_curr = []\n",
    "    LinkedList_next = []\n",
    "    LinkedList_curr.append(root)\n",
    "    lists.append(LinkedList_curr)\n",
    "    # level by level traversal\n",
    "    while LinkedList_curr != []:\n",
    "        for node in LinkedList_curr:\n",
    "            if node.left:\n",
    "                LinkedList_next.append(node.left)\n",
    "            if node.right:\n",
    "                LinkedList_next.append(node.right)\n",
    "        LinkedList_curr = LinkedList_next\n",
    "        lists.append(LinkedList_curr)\n",
    "        LinkedList_next = []\n",
    "    return lists"
   ]
  },
  {
   "cell_type": "markdown",
   "metadata": {},
   "source": [
    "4.4 **Check Balanced:** Implement a function to check if a binary tree is balanced. For the purposes of this question, a balanced tree is defined to be a tree such that the heights of the two subtrees of any node never differ by more than one."
   ]
  },
  {
   "cell_type": "code",
   "execution_count": 69,
   "metadata": {},
   "outputs": [],
   "source": [
    "def getHeight(root):\n",
    "    if root is None:\n",
    "        return -1\n",
    "    leftHeight = getHeight(root.left)\n",
    "    rightHeight = getHeight(root.right)\n",
    "    if leftHeight == -2:\n",
    "        return -2\n",
    "    if rightHeight == -2:\n",
    "        return -2\n",
    "    if abs(leftHeight - rightHeight) > 1:\n",
    "        return -2\n",
    "    else:\n",
    "        return max(leftHeight, rightHeight) + 1\n",
    "    \n",
    "def isBalanced(root):\n",
    "    return getHeight(root) != -2\n"
   ]
  },
  {
   "cell_type": "markdown",
   "metadata": {},
   "source": [
    "4.5 **Validate BST:** Implement a function to check if a binary tree is a binary search tree."
   ]
  },
  {
   "cell_type": "code",
   "execution_count": 29,
   "metadata": {},
   "outputs": [],
   "source": [
    "# in-order traversal\n",
    "# one issue is that i cannot handle duplicate values\n",
    "def inorder(root, lst=[]):\n",
    "    if root is None:\n",
    "        return None\n",
    "    inorder(root.left, lst)\n",
    "    lst.append(root.key)\n",
    "    inorder(root.right, lst)\n",
    "    return lst\n",
    "\n",
    "def validateBST(root):\n",
    "    lst = inorder(root)\n",
    "    i = 0\n",
    "    while i < len(lst) - 1:\n",
    "        if lst[i] > lst[i+1]:\n",
    "            return False\n",
    "        i += 1\n",
    "    return True\n",
    "        "
   ]
  },
  {
   "cell_type": "code",
   "execution_count": 56,
   "metadata": {},
   "outputs": [],
   "source": [
    "# in-order wihtout using addtional list\n",
    "latest = None # global variable\n",
    "def validateBST2(root):\n",
    "    global latest\n",
    "    if root is None:\n",
    "        return True\n",
    "    # pass error info from the bottom to the top\n",
    "    if not validateBST2(root.left):\n",
    "        return False\n",
    "    if latest != None and root.key < latest:\n",
    "        return False\n",
    "    latest = root.key \n",
    "    if not validateBST2(root.right):\n",
    "        return False\n",
    "    return True"
   ]
  },
  {
   "cell_type": "code",
   "execution_count": 65,
   "metadata": {},
   "outputs": [],
   "source": [
    "# Best solution: the min/max solution\n",
    "def validateBST3(root, bot=None, top=None):\n",
    "    if root == None:\n",
    "        return True\n",
    "    if (bot!=None and root.key<=bot) or (top!=None and root.key>top):\n",
    "        return False\n",
    "    if (not validateBST3(root.left, top=root.key)) or (not validateBST3(root.right, bot=root.key)):\n",
    "        return False\n",
    "    return True"
   ]
  },
  {
   "cell_type": "markdown",
   "metadata": {},
   "source": [
    "4.6 **Successor:** Write an algorithm to find the \"next\" node (i.e., in-order successor) of a given node in a binary search tree. You may assume that each node has a link to its parent."
   ]
  },
  {
   "cell_type": "code",
   "execution_count": 83,
   "metadata": {},
   "outputs": [
    {
     "name": "stdout",
     "output_type": "stream",
     "text": [
      "<__main__.TreeNode object at 0x0000017C96582CC0>\n"
     ]
    }
   ],
   "source": [
    "def successor(treenode):\n",
    "    if treenode == None:\n",
    "        return None\n",
    "    if treenode.right:\n",
    "        curr = treenode.right\n",
    "        while curr.left:\n",
    "            curr = curr.left\n",
    "        return curr\n",
    "    else:\n",
    "        curr = treenode\n",
    "        while curr.parent.left != curr:\n",
    "            curr = curr.parent\n",
    "            if curr.parent == None:\n",
    "                return None\n",
    "        return curr.parent\n",
    "            \n",
    "        \n",
    "\n",
    "root = TreeNode(5)\n",
    "root.left = TreeNode(3)\n",
    "root.left.parent = root\n",
    "root.left.right = TreeNode(4)\n",
    "root.left.right.parent = root.left\n",
    "root.right = TreeNode(8)\n",
    "root.right.parent = root\n",
    "root.left.left = TreeNode(1)\n",
    "root.left.left.parent = root.left\n",
    "#root.left.left.left = TreeNode(3)\n",
    "a = successor(root.left)\n",
    "print(a)"
   ]
  },
  {
   "cell_type": "markdown",
   "metadata": {},
   "source": [
    "4.7 **Build Order:** You are given a list of projects and a list of dependencies (which is a list of pairs of projects, where the second project is dependent on the first project). All of a project's dependencies must be built before the project is. Find a build order that will allow the projects to be built. If there is no valid build order, return an error."
   ]
  },
  {
   "cell_type": "code",
   "execution_count": 52,
   "metadata": {},
   "outputs": [
    {
     "ename": "Exception",
     "evalue": "Graph contains a cycle",
     "output_type": "error",
     "traceback": [
      "\u001b[1;31m---------------------------------------------------------------------------\u001b[0m",
      "\u001b[1;31mException\u001b[0m                                 Traceback (most recent call last)",
      "\u001b[1;32m<ipython-input-52-8cead6df873c>\u001b[0m in \u001b[0;36m<module>\u001b[1;34m\u001b[0m\n\u001b[0;32m     26\u001b[0m \u001b[0mprojects\u001b[0m \u001b[1;33m=\u001b[0m \u001b[1;33m[\u001b[0m\u001b[1;36m0\u001b[0m\u001b[1;33m,\u001b[0m \u001b[1;36m1\u001b[0m\u001b[1;33m,\u001b[0m \u001b[1;36m2\u001b[0m\u001b[1;33m,\u001b[0m \u001b[1;36m3\u001b[0m\u001b[1;33m,\u001b[0m \u001b[1;36m4\u001b[0m\u001b[1;33m]\u001b[0m\u001b[1;33m\u001b[0m\u001b[1;33m\u001b[0m\u001b[0m\n\u001b[0;32m     27\u001b[0m \u001b[0mdependencies\u001b[0m \u001b[1;33m=\u001b[0m \u001b[1;33m{\u001b[0m\u001b[1;36m0\u001b[0m\u001b[1;33m:\u001b[0m\u001b[1;36m4\u001b[0m\u001b[1;33m,\u001b[0m \u001b[1;36m1\u001b[0m\u001b[1;33m:\u001b[0m\u001b[1;36m4\u001b[0m\u001b[1;33m,\u001b[0m \u001b[1;36m3\u001b[0m\u001b[1;33m:\u001b[0m\u001b[1;36m2\u001b[0m\u001b[1;33m,\u001b[0m \u001b[1;36m2\u001b[0m\u001b[1;33m:\u001b[0m\u001b[1;36m0\u001b[0m\u001b[1;33m,\u001b[0m \u001b[1;36m4\u001b[0m\u001b[1;33m:\u001b[0m\u001b[1;36m2\u001b[0m\u001b[1;33m}\u001b[0m\u001b[1;33m\u001b[0m\u001b[1;33m\u001b[0m\u001b[0m\n\u001b[1;32m---> 28\u001b[1;33m \u001b[0mbuildOrder\u001b[0m\u001b[1;33m(\u001b[0m\u001b[0mprojects\u001b[0m\u001b[1;33m,\u001b[0m \u001b[0mdependencies\u001b[0m\u001b[1;33m)\u001b[0m\u001b[1;33m\u001b[0m\u001b[1;33m\u001b[0m\u001b[0m\n\u001b[0m",
      "\u001b[1;32m<ipython-input-52-8cead6df873c>\u001b[0m in \u001b[0;36mbuildOrder\u001b[1;34m(projects, dependencies)\u001b[0m\n\u001b[0;32m      8\u001b[0m     \u001b[1;32mfor\u001b[0m \u001b[0mnode\u001b[0m \u001b[1;32min\u001b[0m \u001b[0mg\u001b[0m\u001b[1;33m.\u001b[0m\u001b[0mvertList\u001b[0m\u001b[1;33m.\u001b[0m\u001b[0mvalues\u001b[0m\u001b[1;33m(\u001b[0m\u001b[1;33m)\u001b[0m\u001b[1;33m:\u001b[0m\u001b[1;33m\u001b[0m\u001b[1;33m\u001b[0m\u001b[0m\n\u001b[0;32m      9\u001b[0m         \u001b[1;32mif\u001b[0m \u001b[0mnode\u001b[0m\u001b[1;33m.\u001b[0m\u001b[0mstate\u001b[0m \u001b[1;33m==\u001b[0m \u001b[1;34m'blank'\u001b[0m\u001b[1;33m:\u001b[0m\u001b[1;33m\u001b[0m\u001b[1;33m\u001b[0m\u001b[0m\n\u001b[1;32m---> 10\u001b[1;33m             \u001b[0mtopologicalSortUtil\u001b[0m\u001b[1;33m(\u001b[0m\u001b[0mnode\u001b[0m\u001b[1;33m,\u001b[0m \u001b[0mstack\u001b[0m\u001b[1;33m)\u001b[0m\u001b[1;33m\u001b[0m\u001b[1;33m\u001b[0m\u001b[0m\n\u001b[0m\u001b[0;32m     11\u001b[0m         \u001b[1;32melif\u001b[0m \u001b[0mnode\u001b[0m\u001b[1;33m.\u001b[0m\u001b[0mstate\u001b[0m \u001b[1;33m==\u001b[0m \u001b[1;34m'partial'\u001b[0m\u001b[1;33m:\u001b[0m\u001b[1;33m\u001b[0m\u001b[1;33m\u001b[0m\u001b[0m\n\u001b[0;32m     12\u001b[0m             \u001b[1;32mraise\u001b[0m \u001b[0mException\u001b[0m\u001b[1;33m(\u001b[0m\u001b[1;34m'Graph contains a cycle'\u001b[0m\u001b[1;33m)\u001b[0m\u001b[1;33m\u001b[0m\u001b[1;33m\u001b[0m\u001b[0m\n",
      "\u001b[1;32m<ipython-input-52-8cead6df873c>\u001b[0m in \u001b[0;36mtopologicalSortUtil\u001b[1;34m(v, stack)\u001b[0m\n\u001b[0;32m     18\u001b[0m     \u001b[1;32mfor\u001b[0m \u001b[0mi\u001b[0m \u001b[1;32min\u001b[0m \u001b[0mv\u001b[0m\u001b[1;33m.\u001b[0m\u001b[0mconnectedTo\u001b[0m\u001b[1;33m:\u001b[0m\u001b[1;33m\u001b[0m\u001b[1;33m\u001b[0m\u001b[0m\n\u001b[0;32m     19\u001b[0m         \u001b[1;32mif\u001b[0m \u001b[0mi\u001b[0m\u001b[1;33m.\u001b[0m\u001b[0mstate\u001b[0m \u001b[1;33m==\u001b[0m \u001b[1;34m'blank'\u001b[0m\u001b[1;33m:\u001b[0m\u001b[1;33m\u001b[0m\u001b[1;33m\u001b[0m\u001b[0m\n\u001b[1;32m---> 20\u001b[1;33m             \u001b[0mtopologicalSortUtil\u001b[0m\u001b[1;33m(\u001b[0m\u001b[0mi\u001b[0m\u001b[1;33m,\u001b[0m \u001b[0mstack\u001b[0m\u001b[1;33m)\u001b[0m\u001b[1;33m\u001b[0m\u001b[1;33m\u001b[0m\u001b[0m\n\u001b[0m\u001b[0;32m     21\u001b[0m         \u001b[1;32melif\u001b[0m \u001b[0mi\u001b[0m\u001b[1;33m.\u001b[0m\u001b[0mstate\u001b[0m \u001b[1;33m==\u001b[0m \u001b[1;34m'partial'\u001b[0m\u001b[1;33m:\u001b[0m\u001b[1;33m\u001b[0m\u001b[1;33m\u001b[0m\u001b[0m\n\u001b[0;32m     22\u001b[0m             \u001b[1;32mraise\u001b[0m \u001b[0mException\u001b[0m\u001b[1;33m(\u001b[0m\u001b[1;34m'Graph contains a cycle'\u001b[0m\u001b[1;33m)\u001b[0m\u001b[1;33m\u001b[0m\u001b[1;33m\u001b[0m\u001b[0m\n",
      "\u001b[1;32m<ipython-input-52-8cead6df873c>\u001b[0m in \u001b[0;36mtopologicalSortUtil\u001b[1;34m(v, stack)\u001b[0m\n\u001b[0;32m     18\u001b[0m     \u001b[1;32mfor\u001b[0m \u001b[0mi\u001b[0m \u001b[1;32min\u001b[0m \u001b[0mv\u001b[0m\u001b[1;33m.\u001b[0m\u001b[0mconnectedTo\u001b[0m\u001b[1;33m:\u001b[0m\u001b[1;33m\u001b[0m\u001b[1;33m\u001b[0m\u001b[0m\n\u001b[0;32m     19\u001b[0m         \u001b[1;32mif\u001b[0m \u001b[0mi\u001b[0m\u001b[1;33m.\u001b[0m\u001b[0mstate\u001b[0m \u001b[1;33m==\u001b[0m \u001b[1;34m'blank'\u001b[0m\u001b[1;33m:\u001b[0m\u001b[1;33m\u001b[0m\u001b[1;33m\u001b[0m\u001b[0m\n\u001b[1;32m---> 20\u001b[1;33m             \u001b[0mtopologicalSortUtil\u001b[0m\u001b[1;33m(\u001b[0m\u001b[0mi\u001b[0m\u001b[1;33m,\u001b[0m \u001b[0mstack\u001b[0m\u001b[1;33m)\u001b[0m\u001b[1;33m\u001b[0m\u001b[1;33m\u001b[0m\u001b[0m\n\u001b[0m\u001b[0;32m     21\u001b[0m         \u001b[1;32melif\u001b[0m \u001b[0mi\u001b[0m\u001b[1;33m.\u001b[0m\u001b[0mstate\u001b[0m \u001b[1;33m==\u001b[0m \u001b[1;34m'partial'\u001b[0m\u001b[1;33m:\u001b[0m\u001b[1;33m\u001b[0m\u001b[1;33m\u001b[0m\u001b[0m\n\u001b[0;32m     22\u001b[0m             \u001b[1;32mraise\u001b[0m \u001b[0mException\u001b[0m\u001b[1;33m(\u001b[0m\u001b[1;34m'Graph contains a cycle'\u001b[0m\u001b[1;33m)\u001b[0m\u001b[1;33m\u001b[0m\u001b[1;33m\u001b[0m\u001b[0m\n",
      "\u001b[1;32m<ipython-input-52-8cead6df873c>\u001b[0m in \u001b[0;36mtopologicalSortUtil\u001b[1;34m(v, stack)\u001b[0m\n\u001b[0;32m     20\u001b[0m             \u001b[0mtopologicalSortUtil\u001b[0m\u001b[1;33m(\u001b[0m\u001b[0mi\u001b[0m\u001b[1;33m,\u001b[0m \u001b[0mstack\u001b[0m\u001b[1;33m)\u001b[0m\u001b[1;33m\u001b[0m\u001b[1;33m\u001b[0m\u001b[0m\n\u001b[0;32m     21\u001b[0m         \u001b[1;32melif\u001b[0m \u001b[0mi\u001b[0m\u001b[1;33m.\u001b[0m\u001b[0mstate\u001b[0m \u001b[1;33m==\u001b[0m \u001b[1;34m'partial'\u001b[0m\u001b[1;33m:\u001b[0m\u001b[1;33m\u001b[0m\u001b[1;33m\u001b[0m\u001b[0m\n\u001b[1;32m---> 22\u001b[1;33m             \u001b[1;32mraise\u001b[0m \u001b[0mException\u001b[0m\u001b[1;33m(\u001b[0m\u001b[1;34m'Graph contains a cycle'\u001b[0m\u001b[1;33m)\u001b[0m\u001b[1;33m\u001b[0m\u001b[1;33m\u001b[0m\u001b[0m\n\u001b[0m\u001b[0;32m     23\u001b[0m     \u001b[0mv\u001b[0m\u001b[1;33m.\u001b[0m\u001b[0mstate\u001b[0m \u001b[1;33m=\u001b[0m \u001b[1;34m'complete'\u001b[0m\u001b[1;33m\u001b[0m\u001b[1;33m\u001b[0m\u001b[0m\n\u001b[0;32m     24\u001b[0m     \u001b[0mstack\u001b[0m\u001b[1;33m.\u001b[0m\u001b[0mappend\u001b[0m\u001b[1;33m(\u001b[0m\u001b[0mv\u001b[0m\u001b[1;33m.\u001b[0m\u001b[0mid\u001b[0m\u001b[1;33m)\u001b[0m\u001b[1;33m\u001b[0m\u001b[1;33m\u001b[0m\u001b[0m\n",
      "\u001b[1;31mException\u001b[0m: Graph contains a cycle"
     ]
    }
   ],
   "source": [
    "def buildOrder(projects, dependencies):\n",
    "    g = Graph()\n",
    "    for p in projects:\n",
    "        g.addVertex(p)\n",
    "    for p1, p2 in dependencies.items():\n",
    "        g.addEdge(p1, p2)\n",
    "    stack = []\n",
    "    for node in g.vertList.values():\n",
    "        if node.state == 'blank':\n",
    "            topologicalSortUtil(node, stack)\n",
    "        elif node.state == 'partial':\n",
    "            raise Exception('Graph contains a cycle')\n",
    "    stack.reverse()\n",
    "    print(stack)\n",
    "    \n",
    "def topologicalSortUtil(v, stack):\n",
    "    v.state = 'partial'\n",
    "    for i in v.connectedTo:\n",
    "        if i.state == 'blank':\n",
    "            topologicalSortUtil(i, stack)\n",
    "        elif i.state == 'partial':\n",
    "            raise Exception('Graph contains a cycle')\n",
    "    v.state = 'complete'\n",
    "    stack.append(v.id)\n",
    "    \n",
    "projects = [0, 1, 2, 3, 4]\n",
    "dependencies = {0:4, 1:4, 3:2, 2:0, 4:2}\n",
    "buildOrder(projects, dependencies)\n"
   ]
  },
  {
   "cell_type": "markdown",
   "metadata": {},
   "source": [
    "4.8 **First Common Ancestor:** Design an algorithm and write code to find the first common ancestor of two nodes in a binary tree. Avoid storing additional nodes in a data structure. NOTE: This is not necessarily a binary search tree."
   ]
  },
  {
   "cell_type": "code",
   "execution_count": 60,
   "metadata": {},
   "outputs": [
    {
     "data": {
      "text/plain": [
       "5"
      ]
     },
     "execution_count": 60,
     "metadata": {},
     "output_type": "execute_result"
    }
   ],
   "source": [
    "'''\n",
    "Ask if the tree node has the pointer to its parent.\n",
    "With the link to the parent, we can traverse up from the two nodes to find the first common ancestor.\n",
    "If the pointer to the parent is forbidden, we can traverse the binary tree from the root to find a node that the two child nodes are located in its left subtree and right subtree.\n",
    "'''\n",
    "# When parent node is accessible\n",
    "def commonAncestor1(node1, node2):\n",
    "    parent = node1.parent\n",
    "    curr = node1\n",
    "    foundNode2 = False\n",
    "    if parent is None:\n",
    "        return node1\n",
    "    while not foundNode2:\n",
    "        if parent.left == curr:\n",
    "            foundNode2 = findNode(node2, parent.right)\n",
    "        else:\n",
    "            foundNode2 = findNode(node2, parent.left)\n",
    "        curr = parent\n",
    "        parent = parent.parent\n",
    "    return curr\n",
    "            \n",
    "def findNode(target, curr):\n",
    "    if curr == None:\n",
    "        return False\n",
    "    if curr == target:\n",
    "        return True\n",
    "    res1 = findNode(target, curr.left)\n",
    "    res2 = findNode(target, curr.right)\n",
    "    return res1 or res2\n",
    "        \n",
    "root = TreeNode(5)\n",
    "root.left = TreeNode(3)\n",
    "root.left.parent = root\n",
    "root.left.right = TreeNode(4)\n",
    "root.left.right.parent = root.left\n",
    "root.right = TreeNode(8)\n",
    "root.right.parent = root\n",
    "root.left.left = TreeNode(1)\n",
    "root.left.left.parent = root.left\n",
    "\n",
    "tmp = commonAncestor1(root.left.left, root.right)\n",
    "tmp.key"
   ]
  },
  {
   "cell_type": "code",
   "execution_count": null,
   "metadata": {},
   "outputs": [],
   "source": [
    "# without links to parents\n",
    "def commonAncestor2(root, node1, node2):\n",
    "    "
   ]
  },
  {
   "cell_type": "markdown",
   "metadata": {},
   "source": [
    "4.9 **BST Sequences:** A binary search tree was created by traversing through an array from left to right and inserting each element. Given a binary search tree with distinct elements, print all possible arrays that could have let to this tree."
   ]
  },
  {
   "cell_type": "code",
   "execution_count": 66,
   "metadata": {},
   "outputs": [],
   "source": [
    "\n",
    "    "
   ]
  },
  {
   "cell_type": "markdown",
   "metadata": {},
   "source": [
    "4.10 **Check Subtree:** T1 and T2 are two very large binary trees, with T1 much bigger than T2. Create an algorithm to determine if T2 is a subtree of T1."
   ]
  },
  {
   "cell_type": "code",
   "execution_count": 114,
   "metadata": {},
   "outputs": [
    {
     "data": {
      "text/plain": [
       "False"
      ]
     },
     "execution_count": 114,
     "metadata": {},
     "output_type": "execute_result"
    }
   ],
   "source": [
    "# Simple method use modified preorder sequence, append X when meet None\n",
    "def checkSubtree(t1, t2):\n",
    "    order1 = []\n",
    "    order2 = []\n",
    "    getPreOrder(t1, order1)\n",
    "    getPreOrder(t2, order2)\n",
    "    seq1 = ''.join(order1)\n",
    "    seq2 = ''.join(order2)\n",
    "    if seq2 in seq1:\n",
    "        return True\n",
    "    else:\n",
    "        return False\n",
    "    \n",
    "def getPreOrder(root, seq):\n",
    "    if root == None:\n",
    "        seq.append('X')\n",
    "        return\n",
    "    seq.append(str(root.key))\n",
    "    getPreOrder(root.left, seq)\n",
    "    getPreOrder(root.right, seq)\n",
    "\n",
    "    \n",
    "root = TreeNode(5)\n",
    "root.left = TreeNode(3)\n",
    "root.left.right = TreeNode(4)\n",
    "root.right = TreeNode(8)\n",
    "root.left.left = TreeNode(1)\n",
    "\n",
    "root2 = TreeNode(3)\n",
    "root2.right = TreeNode(4)\n",
    "root2.left = TreeNode(2)\n",
    "\n",
    "checkSubtree(root, root2)"
   ]
  },
  {
   "cell_type": "code",
   "execution_count": 116,
   "metadata": {},
   "outputs": [
    {
     "data": {
      "text/plain": [
       "False"
      ]
     },
     "execution_count": 116,
     "metadata": {},
     "output_type": "execute_result"
    }
   ],
   "source": [
    "# Alternative method, find nodes whose data equals the data \n",
    "# of the root of the subtree, then start matching each node\n",
    "def checkSubtree2(t1, t2):\n",
    "    if t2 == None:    # subtree is empty return true\n",
    "        return True\n",
    "    if t1 == None:    # meet leaf node of the bigger tree, return false\n",
    "        return False\n",
    "    elif t1.key == t2.key and matchTree(t1, t2):\n",
    "        return True\n",
    "    return checkSubtree2(t1.left, t2) or checkSubtree2(t1.right, t2)\n",
    "\n",
    "def matchTree(t1, t2):\n",
    "    if t1 == None and t2 == None:\n",
    "        return True\n",
    "    elif t1 == None or t2 == None:\n",
    "        return False\n",
    "    elif t1.key != t2.key:\n",
    "        return False\n",
    "    else:\n",
    "        return matchTree(t1.left, t2.left) and matchTree(t1.right, t2.right)\n",
    "    \n",
    "checkSubtree2(root, root2)"
   ]
  },
  {
   "cell_type": "markdown",
   "metadata": {},
   "source": [
    "4.11 **Random Node:** You are implementing a binary search tree class from scratch which, in addition to insert, find, and delete, has a method getRandomNode() which returns a random node from the tree. All nodes should be equally likely to be chosen. Design and implement an algorithm for getRandomNode, and explain how you would implement the rest of the methods."
   ]
  },
  {
   "cell_type": "code",
   "execution_count": 180,
   "metadata": {},
   "outputs": [],
   "source": [
    "import random\n",
    "class TreeNode:\n",
    "    def __init__(self, key, left=None, right=None, parent=None):\n",
    "        self.key = key\n",
    "        self.left = left\n",
    "        self.right = right\n",
    "        self.parent = parent\n",
    "        self.size = 1\n",
    "        \n",
    "    def isLeftChild(self):\n",
    "        if self.parent == None:\n",
    "            return False\n",
    "        else:\n",
    "            if self.parent.left == self:\n",
    "                return True\n",
    "            else:\n",
    "                return False\n",
    "    \n",
    "    def isRightChild(self):\n",
    "        if self.parent == None:\n",
    "            return False\n",
    "        else:\n",
    "            if self.parent.right == self:\n",
    "                return True\n",
    "            else:\n",
    "                return False\n",
    "    \n",
    "    def isLeaf(self):\n",
    "        return not(self.left and self.right)\n",
    "    \n",
    "    def hasBothChildren(self):\n",
    "        return self.left and self.right\n",
    "    \n",
    "    def hasLeftChild(self):\n",
    "        return self.left\n",
    "    \n",
    "    def hasRightChild(self):\n",
    "        return self.right\n",
    "    \n",
    "    def hasAnyChildren(self):\n",
    "        return self.right or self.left\n",
    "    \n",
    "    def replaceNode(self, key, lc, rc):\n",
    "        self.key = key\n",
    "        self.left = lc\n",
    "        self.right = rc\n",
    "        if self.hasLeftChild():\n",
    "            self.left.parent = self\n",
    "        if self.hasRightChild():\n",
    "            self.right.parent = self\n",
    "    \n",
    "    def findSuccessor(self):\n",
    "        '''\n",
    "        1. If the node has a right child, then the successor is the smallest key in the right subtree.\n",
    "\n",
    "        2. If the node has no right child and is the left child of its parent, \n",
    "        then the parent is the successor.\n",
    "\n",
    "        3. If the node is the right child of its parent, and itself has no right child, \n",
    "        then the successor to this node is the successor of its parent, excluding this node.\n",
    "        '''\n",
    "        succ = None\n",
    "        if self.hasRightChild():\n",
    "            return self.right.findMin()\n",
    "        else:\n",
    "            if self.parent:\n",
    "                if self.isLeftChild():\n",
    "                    succ = self.parent\n",
    "                else:\n",
    "                    self.parent.right = None\n",
    "                    succ = self.parent.findSuccessor\n",
    "                    self.parent.right = self\n",
    "        return succ\n",
    "        \n",
    "    def findMin(self):\n",
    "        curr = self\n",
    "        while curr.hasLeftChild():\n",
    "            curr = curr.left\n",
    "        return curr\n",
    "    \n",
    "    def spliceOut(self):\n",
    "        if self.isLeaf():\n",
    "            if self.isLeftChild():\n",
    "                self.parent.left = None\n",
    "            else:\n",
    "                self.parent.right = None\n",
    "        elif self.hasBothChildren():\n",
    "            raise KeyError('Current node is supposed to have only on child node')\n",
    "        else:\n",
    "            if self.hasLeftChild():\n",
    "                if self.isLeftChild():\n",
    "                    self.parent.left = self.left\n",
    "                else:\n",
    "                    self.parent.right = self.left\n",
    "                self.left.parent = self.parent\n",
    "            else:\n",
    "                if self.isLeftChild():\n",
    "                    self.parent.left = self.right\n",
    "                else:\n",
    "                    self.parent.right = self.right\n",
    "                self.right.parent = self.parent\n",
    "    \n",
    "            \n",
    "\n",
    "class BST:\n",
    "    def __init__(self):\n",
    "        self.root = None\n",
    "        self.size = 0\n",
    "    def insert(self, value):\n",
    "        if self.root == None:\n",
    "            self.root = TreeNode(value)\n",
    "        else:\n",
    "            self._insert(self.root, value)\n",
    "        self.size += 1\n",
    "\n",
    "    def _insert(self, curr, value):\n",
    "        curr.size += 1\n",
    "        if curr.key >= value:\n",
    "            if curr.left == None:\n",
    "                curr.left = TreeNode(value, parent=curr) \n",
    "            else:\n",
    "                self._insert(curr.left, value)\n",
    "        else:\n",
    "            if curr.right == None:\n",
    "                curr.right = TreeNode(value, parent=curr)\n",
    "            else:\n",
    "                self._insert(curr.right, value)\n",
    "                    \n",
    "            \n",
    "    def find(self, value):\n",
    "        if self.root == None:\n",
    "            return None\n",
    "        else:\n",
    "            return self._find(self.root, value)\n",
    "        \n",
    "    def _find(self, curr, value):\n",
    "        if curr.key == value:\n",
    "            return curr\n",
    "        elif curr.key > value:\n",
    "            if curr.left == None:\n",
    "                return None\n",
    "            else:\n",
    "                return self._find(curr.left, value)\n",
    "        else:\n",
    "            if curr.right == None:\n",
    "                return None\n",
    "            else:\n",
    "                return self._find(curr.right, value)\n",
    "    \n",
    "    def delete(self, value):\n",
    "        if self.size > 1:\n",
    "            dNode = self._find(self.root, value)\n",
    "            if dNode == None:\n",
    "                raise KeyError('No such key in the BST')\n",
    "            else:\n",
    "                self._delete(dNode)\n",
    "                self.size -= 1\n",
    "        elif self.size == 1 and self.root.key == value:\n",
    "            self.root == None\n",
    "            self.size -= 1\n",
    "        else:\n",
    "            raise KeyError('No key in the BST')\n",
    "            \n",
    "    def _delete(self, curr):\n",
    "        if curr.isLeaf():\n",
    "            if curr.isLeftChild():\n",
    "                curr.parent.left = None\n",
    "            else:\n",
    "                curr.parent.right = None\n",
    "            curr.parent = None\n",
    "        elif curr.hasBothChildren():\n",
    "            # find inorder successor, successor is guranteed to have only one child\n",
    "            succ = curr.findSuccessor()\n",
    "            succ.spliceOut()\n",
    "            curr.key = succ.key        \n",
    "        else:\n",
    "            if curr.hasLeftChild():\n",
    "                if curr.isLeftChild():\n",
    "                    curr.left.parent = curr.parent\n",
    "                    curr.parent.left = curr.left\n",
    "                elif curr.isRightChild():\n",
    "                    curr.left.parent = curr.parent\n",
    "                    curr.parent.right = curr.left\n",
    "                else: # curr has no parent\n",
    "                    curr.replaceNode(curr.left.key, curr.left.left, curr.left.right)\n",
    "            else: \n",
    "                if curr.isLeftChild():\n",
    "                    curr.right.parent = curr.parent\n",
    "                    curr.parent.left = curr.right\n",
    "                elif curr.isRightChild():\n",
    "                    curr.right.parent = curr.parent\n",
    "                    curr.parent.right = curr.right\n",
    "                else:\n",
    "                    curr.replaceNode(curr.right.key, curr.right.left, curr.right.right)\n",
    "                    \n",
    "    def getRandomNode(self):\n",
    "        rand = random.randint(0, self.size-1)\n",
    "        if rand == self.root.left.size:\n",
    "            return self.root\n",
    "        elif rand < self.root.left.size:\n",
    "            return self.RandHelper(self.root.left, rand)\n",
    "        else:\n",
    "            return self.RandHelper(self.root.right, rand-self.root.left.size-1)\n",
    "            \n",
    "    def RandHelper(self, curr, rand):\n",
    "        leftsize = 0 if curr.left==None else curr.left.size\n",
    "        if rand < leftsize:\n",
    "            return self.RandHelper(curr.left, rand)\n",
    "        elif rand == leftsize:\n",
    "            return curr\n",
    "        else:\n",
    "            return self.RandHelper(curr.right, rand-(leftsize+1))\n",
    "        "
   ]
  },
  {
   "cell_type": "code",
   "execution_count": 267,
   "metadata": {},
   "outputs": [
    {
     "name": "stdout",
     "output_type": "stream",
     "text": [
      "{10: 164, 2: 146, 0: 143, 15: 128, 5: 133, 3: 143, 4: 136}\n"
     ]
    }
   ],
   "source": [
    "bst = BST()\n",
    "bst.insert(5)\n",
    "bst.insert(2)\n",
    "bst.insert(10)\n",
    "bst.insert(15)\n",
    "bst.insert(3)\n",
    "bst.insert(4)\n",
    "bst.insert(0)\n",
    "# test: 1000 times & 7 nodes, average should be 1000/7=143\n",
    "stat = {}\n",
    "for i in range(1000):\n",
    "    tmp = bst.getRandomNode().key\n",
    "    if tmp in stat:\n",
    "        stat[tmp] += 1\n",
    "    else:\n",
    "        stat[tmp] = 0\n",
    "print(stat)"
   ]
  },
  {
   "cell_type": "markdown",
   "metadata": {},
   "source": [
    "4.12 **Paths with Sum:** You are given a binary tree in which each node contains an integer value (which might be positive or negative). Desgin an algorithm to count the number of paths that sum to a given value. The path does not need to start or end at the root or a leaf, but it must go downwards (traveling only from parent nodes to child nodes)."
   ]
  },
  {
   "cell_type": "code",
   "execution_count": null,
   "metadata": {},
   "outputs": [],
   "source": [
    "def pathsSum(value):\n",
    "    "
   ]
  }
 ],
 "metadata": {
  "kernelspec": {
   "display_name": "Python 3",
   "language": "python",
   "name": "python3"
  },
  "language_info": {
   "codemirror_mode": {
    "name": "ipython",
    "version": 3
   },
   "file_extension": ".py",
   "mimetype": "text/x-python",
   "name": "python",
   "nbconvert_exporter": "python",
   "pygments_lexer": "ipython3",
   "version": "3.7.3"
  }
 },
 "nbformat": 4,
 "nbformat_minor": 2
}
