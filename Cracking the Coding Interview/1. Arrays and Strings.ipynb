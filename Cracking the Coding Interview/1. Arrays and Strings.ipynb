{
 "cells": [
  {
   "cell_type": "markdown",
   "metadata": {},
   "source": [
    "1.1 **Is Unique:** Implement an algorithm to determine if a string has all unique characters. What if you cannot use additional data structures?"
   ]
  },
  {
   "cell_type": "code",
   "execution_count": 2,
   "metadata": {},
   "outputs": [
    {
     "name": "stdout",
     "output_type": "stream",
     "text": [
      "False\n",
      "True\n"
     ]
    }
   ],
   "source": [
    "# O(N^2)\n",
    "def isUnique(astring):\n",
    "    for i in range(len(astring)):\n",
    "        for j in range(i+1, len(astring)):\n",
    "            if astring[i] == astring[j]:\n",
    "                return False\n",
    "    return True\n",
    "\n",
    "# test\n",
    "a = 'aabcd'\n",
    "b = 'abcde'\n",
    "print(isUnique(a))\n",
    "print(isUnique(b))"
   ]
  },
  {
   "cell_type": "markdown",
   "metadata": {},
   "source": [
    "1.2 **Check Permutation:** Given two strings, write a method to decide if one is a permutation of the other."
   ]
  },
  {
   "cell_type": "code",
   "execution_count": 4,
   "metadata": {},
   "outputs": [
    {
     "name": "stdout",
     "output_type": "stream",
     "text": [
      "True\n",
      "False\n"
     ]
    }
   ],
   "source": [
    "def checkPerm(string1, string2):\n",
    "    map1 = {}\n",
    "    map2 = {}\n",
    "    for i in string1:\n",
    "        if i not in map1:\n",
    "            map1[i] = 1\n",
    "        else:\n",
    "            map1[i] += 1\n",
    "    for j in string2:\n",
    "        if j not in map1:\n",
    "            return False\n",
    "        if j not in map2:\n",
    "            map2[j] = 1\n",
    "        else:\n",
    "            map2[j] += 1\n",
    "    for key, value in map1.items():\n",
    "        if value != map2[key]:\n",
    "            return False\n",
    "    return True\n",
    "        \n",
    "# test\n",
    "c = 'accden'\n",
    "d = 'cdcane'\n",
    "e = 'sdfe'\n",
    "print(checkPerm(c,d))\n",
    "print(checkPerm(c,e))"
   ]
  },
  {
   "cell_type": "markdown",
   "metadata": {},
   "source": [
    "1.3 **URLify:** Write a method to replace all spaces in a string with '%20'. You may assume that the string has sfficient space at the end to hold the additional characters, and that you are given the \"true\" length of the string."
   ]
  },
  {
   "cell_type": "code",
   "execution_count": null,
   "metadata": {},
   "outputs": [],
   "source": [
    "def urlify(string):\n",
    "    "
   ]
  }
 ],
 "metadata": {
  "kernelspec": {
   "display_name": "Python 3",
   "language": "python",
   "name": "python3"
  },
  "language_info": {
   "codemirror_mode": {
    "name": "ipython",
    "version": 3
   },
   "file_extension": ".py",
   "mimetype": "text/x-python",
   "name": "python",
   "nbconvert_exporter": "python",
   "pygments_lexer": "ipython3",
   "version": "3.7.3"
  }
 },
 "nbformat": 4,
 "nbformat_minor": 2
}
