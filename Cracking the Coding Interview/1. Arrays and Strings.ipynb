{
 "cells": [
  {
   "cell_type": "markdown",
   "metadata": {},
   "source": [
    "1.1 **Is Unique:** Implement an algorithm to determine if a string has all unique characters. What if you cannot use additional data structures?"
   ]
  },
  {
   "cell_type": "code",
   "execution_count": 2,
   "metadata": {},
   "outputs": [
    {
     "name": "stdout",
     "output_type": "stream",
     "text": [
      "False\n",
      "True\n"
     ]
    }
   ],
   "source": [
    "# O(N^2)\n",
    "def isUnique(astring):\n",
    "    \n",
    "    \"\"\"\n",
    "    >>> a = 'aabcd'\n",
    "    >>> b = 'abcde'\n",
    "    >>> print(isUnique(a))\n",
    "    False\n",
    "    >>> print(isUnique(b))\n",
    "    True\n",
    "    \"\"\"\n",
    "    \n",
    "    for i in range(len(astring)):\n",
    "        for j in range(i+1, len(astring)):\n",
    "            if astring[i] == astring[j]:\n",
    "                return False\n",
    "    return True"
   ]
  },
  {
   "cell_type": "markdown",
   "metadata": {},
   "source": [
    "1.2 **Check Permutation:** Given two strings, write a method to decide if one is a permutation of the other."
   ]
  },
  {
   "cell_type": "code",
   "execution_count": 6,
   "metadata": {},
   "outputs": [],
   "source": [
    "def checkPerm(string1, string2):\n",
    "    \n",
    "    \"\"\"\n",
    "    >>> c = 'accden'\n",
    "    >>> d = 'cdcane'\n",
    "    >>> e = 'sdfe'\n",
    "    >>> print(checkPerm(c,d))\n",
    "    True\n",
    "    >>> print(checkPerm(c,e))\n",
    "    False\n",
    "    \"\"\"\n",
    "    \n",
    "    map1 = {}\n",
    "    map2 = {}\n",
    "    for i in string1:\n",
    "        if i not in map1:\n",
    "            map1[i] = 1\n",
    "        else:\n",
    "            map1[i] += 1\n",
    "    for j in string2:\n",
    "        if j not in map1:\n",
    "            return False\n",
    "        if j not in map2:\n",
    "            map2[j] = 1\n",
    "        else:\n",
    "            map2[j] += 1\n",
    "    for key, value in map1.items():\n",
    "        if value != map2[key]:\n",
    "            return False\n",
    "    return True"
   ]
  },
  {
   "cell_type": "markdown",
   "metadata": {},
   "source": [
    "1.3 **URLify:** Write a method to replace all spaces in a string with '%20'. You may assume that the string has sfficient space at the end to hold the additional characters, and that you are given the \"true\" length of the string."
   ]
  },
  {
   "cell_type": "code",
   "execution_count": 7,
   "metadata": {},
   "outputs": [],
   "source": [
    "def urlify(string, trueLen):\n",
    "    \n",
    "    \"\"\" \n",
    "    >>> s = list('hello world from JT      ')\n",
    "    >>> print(urlify(s, 19))\n",
    "    ['h', 'e', 'l', 'l', 'o', '%', '2', '0', 'w', 'o', 'r', 'l', 'd', '%', '2', '0', 'f', 'r', 'o', 'm', '%', '2', '0', 'J', 'T']\n",
    "    \"\"\"\n",
    "    \n",
    "    index = len(string) - 1\n",
    "    for i in range(trueLen-1, -1, -1):\n",
    "        if string[i] != ' ':\n",
    "            string[index] = string[i]\n",
    "            index -= 1\n",
    "        else:\n",
    "            string[index] = '0'\n",
    "            string[index-1] = '2'\n",
    "            string[index-2] = '%'\n",
    "            index -= 3\n",
    "    return string"
   ]
  },
  {
   "cell_type": "markdown",
   "metadata": {},
   "source": [
    "1.4 **Palindrome Permutation:** Given a string, write a function to check if it is a permutation of a palindrome. A palindrome is a word or phrase that is the same forwards and backwards. A permutation is a rearrangement of letters. The palindrome does not need to bee limited to just dictionary words."
   ]
  },
  {
   "cell_type": "code",
   "execution_count": 9,
   "metadata": {},
   "outputs": [
    {
     "name": "stdout",
     "output_type": "stream",
     "text": [
      "Trying:\n",
      "    c = 'accden'\n",
      "Expecting nothing\n",
      "ok\n",
      "Trying:\n",
      "    d = 'cdcane'\n",
      "Expecting nothing\n",
      "ok\n",
      "Trying:\n",
      "    e = 'sdfe'\n",
      "Expecting nothing\n",
      "ok\n",
      "Trying:\n",
      "    print(checkPerm(c,d))\n",
      "Expecting:\n",
      "    True\n",
      "ok\n",
      "Trying:\n",
      "    print(checkPerm(c,e))\n",
      "Expecting:\n",
      "    False\n",
      "ok\n",
      "Trying:\n",
      "    print(palindrome('abcdedcba'))\n",
      "Expecting:\n",
      "    True\n",
      "ok\n",
      "Trying:\n",
      "    print(palindrome('sdfe2'))\n",
      "Expecting:\n",
      "    False\n",
      "ok\n",
      "Trying:\n",
      "    s = list('hello world from JT      ')\n",
      "Expecting nothing\n",
      "ok\n",
      "Trying:\n",
      "    print(urlify(s, 19))\n",
      "Expecting:\n",
      "    ['h', 'e', 'l', 'l', 'o', '%', '2', '0', 'w', 'o', 'r', 'l', 'd', '%', '2', '0', 'f', 'r', 'o', 'm', '%', '2', '0', 'J', 'T']\n",
      "ok\n",
      "1 items had no tests:\n",
      "    __main__\n",
      "3 items passed all tests:\n",
      "   5 tests in __main__.checkPerm\n",
      "   2 tests in __main__.palindrome\n",
      "   2 tests in __main__.urlify\n",
      "9 tests in 4 items.\n",
      "9 passed and 0 failed.\n",
      "Test passed.\n"
     ]
    }
   ],
   "source": [
    "import doctest\n",
    "\n",
    "def palindrome(string):\n",
    "    \n",
    "    \"\"\"\n",
    "    >>> print(palindrome('abcdedcba'))\n",
    "    True\n",
    "    >>> print(palindrome('sdfe2'))\n",
    "    False\n",
    "    \"\"\"\n",
    "    \n",
    "    for index in range(len(string)//2):\n",
    "        if string[index] == string[-index-1]:\n",
    "            continue\n",
    "        else:\n",
    "            return False\n",
    "    return True\n",
    "\n",
    "if __name__ == \"__main__\":\n",
    "    doctest.testmod(verbose=True)\n"
   ]
  },
  {
   "cell_type": "markdown",
   "metadata": {},
   "source": [
    "1.5 **One Away:** There are three types of edits that can be performed on strings: insert a character, remove a character, or replace a character. Given two strings, write a function to check if they are one edit (or zero edits) away."
   ]
  },
  {
   "cell_type": "code",
   "execution_count": null,
   "metadata": {},
   "outputs": [],
   "source": [
    "def oneAwayCheck(string1, string2):\n",
    "    if abs(len(string1)-len(string2)) > 1:\n",
    "        return False\n",
    "    if string1 == string2:\n",
    "        return True\n",
    "    "
   ]
  },
  {
   "cell_type": "markdown",
   "metadata": {},
   "source": [
    "1.6 **String Compression:** Implement a method to perform basic string compression using the counts of repeated characters. For example, the string aabbcccccaaa would become a2b1c5a3. If the \"compressed\" string would not become smaller than the original string, your method should return the original string. You can assume the string has only uppercase and lowercase letters (a-z)."
   ]
  },
  {
   "cell_type": "code",
   "execution_count": null,
   "metadata": {},
   "outputs": [],
   "source": []
  },
  {
   "cell_type": "markdown",
   "metadata": {},
   "source": [
    "1.7 **Rotate Matrix:** Given an image represented by an NxN matrix, where each pixel in the image is 4 bytes, write a method to rotate the image by 90 degrees. Can you do this in place?"
   ]
  },
  {
   "cell_type": "code",
   "execution_count": null,
   "metadata": {},
   "outputs": [],
   "source": []
  },
  {
   "cell_type": "markdown",
   "metadata": {},
   "source": [
    "1.8 **Zero Matrix:** write an algorithm such that if an element in an MxN matrix is 0, its entire row and column are set to 0."
   ]
  },
  {
   "cell_type": "code",
   "execution_count": null,
   "metadata": {},
   "outputs": [],
   "source": []
  },
  {
   "cell_type": "markdown",
   "metadata": {},
   "source": [
    "1.9 StringRotation: Assume you have a method isSubstring which checks if one word is a substring of another. Given two strings, s1 and s2, write code to check if s2 is a rotation of s1 using only one call to isSubstring (e.g. \"waterbottle\" is a rotation of \"erbottlewat\")."
   ]
  }
 ],
 "metadata": {
  "kernelspec": {
   "display_name": "Python 3",
   "language": "python",
   "name": "python3"
  },
  "language_info": {
   "codemirror_mode": {
    "name": "ipython",
    "version": 3
   },
   "file_extension": ".py",
   "mimetype": "text/x-python",
   "name": "python",
   "nbconvert_exporter": "python",
   "pygments_lexer": "ipython3",
   "version": "3.7.3"
  }
 },
 "nbformat": 4,
 "nbformat_minor": 2
}
