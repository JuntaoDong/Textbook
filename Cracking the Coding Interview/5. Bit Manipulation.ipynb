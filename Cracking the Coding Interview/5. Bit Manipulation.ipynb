{
 "cells": [
  {
   "cell_type": "markdown",
   "metadata": {},
   "source": [
    "5.1 **Insertion:** You are given two 32-bit numbers, N and M, and two bit positions, i and j. Write a method to insert M into N such that M starts at bit j and ends at bit i. You can assume that the bits j throuogh i have enough space to fit all of M. That is, if M = 10011, you can assume that there are at least 5 bits between j and i. You would not, for example, have j = 3 and i = 2, because M could not fully fit between bit 3 and bit2."
   ]
  },
  {
   "cell_type": "code",
   "execution_count": 55,
   "metadata": {},
   "outputs": [
    {
     "name": "stderr",
     "output_type": "stream",
     "text": [
      "test_insertion (__main__.Test) ... ok\n",
      "\n",
      "----------------------------------------------------------------------\n",
      "Ran 1 test in 0.001s\n",
      "\n",
      "OK\n"
     ]
    }
   ],
   "source": [
    "def insertion(N, M, i, j):\n",
    "    N_cleared = ~((1 << j + 1) - (1 << i)) & N\n",
    "    M_shifted = M << i\n",
    "    return N_cleared | M_shifted\n",
    "\n",
    "\n",
    "import unittest\n",
    "\n",
    "class Test(unittest.TestCase):\n",
    "    def test_insertion(self):\n",
    "        self.assertEqual(insertion(0b11111111, 0b10, 2, 5), 0b11001011)\n",
    "        self.assertEqual(insertion(0b00000000, 0b1010, 4, 7), 0b10100000)\n",
    "\n",
    "if __name__ == \"__main__\":\n",
    "    unittest.main(argv=[''], verbosity=2, exit=False)"
   ]
  },
  {
   "cell_type": "markdown",
   "metadata": {},
   "source": [
    "5.2 **Binary to String:** Given a real number between 0 and 1 (e.g., 0.72) that is passed in as a double, print the binary representation. If the number cannot be represented accurately in binary with at most 32 characters, print \"ERROR.\""
   ]
  },
  {
   "cell_type": "code",
   "execution_count": 16,
   "metadata": {},
   "outputs": [
    {
     "name": "stdout",
     "output_type": "stream",
     "text": [
      "0.01\n",
      "ERROR\n"
     ]
    }
   ],
   "source": [
    "def BinToStr(num):\n",
    "    if num >= 1 or num <= 0:\n",
    "        return \"ERROR\"\n",
    "    result = '0.'\n",
    "    num *= 2\n",
    "    while num > 0:\n",
    "        if len(result) >= 32:\n",
    "            return \"ERROR\"\n",
    "        if num >= 1:\n",
    "            result += '1'\n",
    "            num -= 1\n",
    "        else:\n",
    "            result += '0'\n",
    "        num *= 2\n",
    "    return result\n",
    "\n",
    "print(BinToStr(0.25))\n",
    "print(BinToStr(0.1))"
   ]
  },
  {
   "cell_type": "markdown",
   "metadata": {},
   "source": [
    "5.3 **Flip Bit to Win:** You have an integer and you can flip exactly one bit from a 0 to a 1. Write code to find the length of the longest sequence of 1s you could create.\n"
   ]
  },
  {
   "cell_type": "code",
   "execution_count": 43,
   "metadata": {},
   "outputs": [
    {
     "data": {
      "text/plain": [
       "8"
      ]
     },
     "execution_count": 43,
     "metadata": {},
     "output_type": "execute_result"
    }
   ],
   "source": [
    "import sys\n",
    "def longestSeq(num):\n",
    "    int_len = sys.getsizeof(num) * 8\n",
    "    bit = 1 << (int_len - 1)\n",
    "    curr_len = 0\n",
    "    prev_len = 0\n",
    "    max_len = 1\n",
    "    while bit > 0:\n",
    "        if bit & num != 0:\n",
    "            curr_len += 1\n",
    "        else:\n",
    "            max_len = max(max_len, curr_len + prev_len + 1)\n",
    "            prev_len = curr_len\n",
    "            curr_len = 0\n",
    "        bit >>= 1\n",
    "    max_len = max(max_len, curr_len + prev_len + 1)\n",
    "    return max_len\n",
    "\n",
    "longestSeq(1775)"
   ]
  },
  {
   "cell_type": "markdown",
   "metadata": {},
   "source": [
    "5.4 **Next number:** Given a positive integer, print the next smallest and the next largest number that have the same number of 1 bits in their binary representation.\n"
   ]
  },
  {
   "cell_type": "code",
   "execution_count": 77,
   "metadata": {},
   "outputs": [
    {
     "data": {
      "text/plain": [
       "(124, 151)"
      ]
     },
     "execution_count": 77,
     "metadata": {},
     "output_type": "execute_result"
    }
   ],
   "source": [
    "def nxtNum(number):\n",
    "    if number % 2:\n",
    "        # Larger X011...1 --> X101...1\n",
    "        negated = ~number\n",
    "        lsz = negated & -negated\n",
    "        larger = number ^ (lsz | (lsz >> 1))\n",
    "        # Smaller X100...01...1 --> X011...10...0\n",
    "        end_ones = lsz - 1\n",
    "        cleared = number ^ end_ones\n",
    "        if cleared:\n",
    "            next_bit = cleared & -cleared\n",
    "            flip_bits1 = next_bit | (next_bit >> 1)\n",
    "            extra_zeros = ((next_bit >> 1) - 1) ^ end_ones\n",
    "            flip_bits2 = extra_zeros | (extra_zeros >> end_ones.bit_length())\n",
    "            smaller = number ^ flip_bits1 ^ flip_bits2\n",
    "        else:\n",
    "            smaller = None\n",
    "    else:\n",
    "        # Smaller X100...0 --> X010...0\n",
    "        lsb = number & -number\n",
    "        smaller = number ^ (lsb | (lsb >> 1))\n",
    "        # Larger X011...10...0 --> X100...01...1\n",
    "        end_zeros = lsb - 1\n",
    "        cleared_negated = ~number ^ end_zeros\n",
    "        next_zero = cleared_negated & -cleared_negated\n",
    "        flip_bits1 = next_zero | (next_zero >> 1)\n",
    "        extra_ones = ((next_zero >> 1) - 1) ^ end_zeros\n",
    "        flip_bits2 = extra_ones | (extra_ones >> end_zeros.bit_length())\n",
    "        larger = number ^ flip_bits1 ^ flip_bits2\n",
    "    return (smaller, larger)\n",
    "\n",
    "nxtNum(143)"
   ]
  },
  {
   "cell_type": "markdown",
   "metadata": {},
   "source": [
    "5.5 **Debugger:** Explain what the following code does ((n & (n - 1)) == 0).\n",
    "\n",
    "Check if n equals 2^x where x and n are both integers."
   ]
  },
  {
   "cell_type": "markdown",
   "metadata": {},
   "source": [
    "5.6 **Conversion:** Write a function to determine the number of bits you would need to flip to convert integer A to integer B.\n"
   ]
  },
  {
   "cell_type": "code",
   "execution_count": 85,
   "metadata": {},
   "outputs": [
    {
     "data": {
      "text/plain": [
       "5"
      ]
     },
     "execution_count": 85,
     "metadata": {},
     "output_type": "execute_result"
    }
   ],
   "source": [
    "# trick: use a & (a-1) to clear the least significant bit to 0\n",
    "def conversion(A, B):\n",
    "    diff = A ^ B\n",
    "    count = 0\n",
    "    while diff & (diff - 1) != 0:\n",
    "        count += 1\n",
    "        diff = diff & (diff - 1)\n",
    "    count += 1\n",
    "    return count\n",
    "conversion(15,97)"
   ]
  },
  {
   "cell_type": "markdown",
   "metadata": {},
   "source": [
    "5.7 **Pairwise Swap:** Write a program to swap odd and even bits in an integer with as few instructions as possible (e.g., bit 0 and bit 1 are swapped, bit 2 and bit 3 are swapped, and so on).\n"
   ]
  },
  {
   "cell_type": "code",
   "execution_count": 86,
   "metadata": {},
   "outputs": [],
   "source": [
    "EVEN = 0x5555555555555555\n",
    "ODD  = 0xAAAAAAAAAAAAAAAA\n",
    "\n",
    "def swap_odd_even_bits(n):\n",
    "    return ((n & ODD) >> 1) | ((n & EVEN) << 1)"
   ]
  },
  {
   "cell_type": "markdown",
   "metadata": {},
   "source": [
    "5.8 **Draw Line:** A monochrome screen is stored as a single array of bytes, allowing eight consecutive pixels to be stored in one byte. The screen has width w, where w is divisible by 8 (that is, no byte will be split across rows). The height of the screen of course, can be derived from the length of the array and the width. Implement a function that draws a horizontal line from (x1, y) to (x2, y)."
   ]
  },
  {
   "cell_type": "code",
   "execution_count": null,
   "metadata": {},
   "outputs": [],
   "source": []
  }
 ],
 "metadata": {
  "kernelspec": {
   "display_name": "Python 3",
   "language": "python",
   "name": "python3"
  },
  "language_info": {
   "codemirror_mode": {
    "name": "ipython",
    "version": 3
   },
   "file_extension": ".py",
   "mimetype": "text/x-python",
   "name": "python",
   "nbconvert_exporter": "python",
   "pygments_lexer": "ipython3",
   "version": "3.7.3"
  }
 },
 "nbformat": 4,
 "nbformat_minor": 2
}
