{
 "cells": [
  {
   "cell_type": "markdown",
   "metadata": {},
   "source": [
    "10.1 **Sorted Merge:** You are given two sorted arrays, A and B, where A has a large enough buffer at the end to hold B. Write a method to merge B into A in sorted order."
   ]
  },
  {
   "cell_type": "code",
   "execution_count": 2,
   "metadata": {},
   "outputs": [],
   "source": [
    "def merge(A, B, lenA, lenB):\n",
    "    # lenA is the length of the occupied entries in array A\n",
    "    indexA = lenA - 1\n",
    "    indexB = lenB - 1\n",
    "    indexLast = lenA + lenB - 1\n",
    "    while indexB >= 0:\n",
    "        if A[indexA] >= B[indexB]:\n",
    "            A[indexA], A[indexLast] = A[indexLast], A[indexA]\n",
    "            indexA -= 1\n",
    "        else:\n",
    "            A[indexLast] = B[indexB]\n",
    "            indexB -= 1\n",
    "        indexLast -= 1"
   ]
  },
  {
   "cell_type": "markdown",
   "metadata": {},
   "source": [
    "10.2 **Group Anagrams:** Write a method to sort an array of strings so that all the anagrams are next to each other."
   ]
  },
  {
   "cell_type": "code",
   "execution_count": null,
   "metadata": {},
   "outputs": [],
   "source": [
    "def group_anagram(array):\n",
    "    pairs = [(s, sorted(s)) for s in array]\n",
    "    pairs.sort(key=lambda p: p[1])\n",
    "    return [s[0] for s in pairs]"
   ]
  },
  {
   "cell_type": "markdown",
   "metadata": {},
   "source": [
    "10.3 **Search in Rotated Array:** Given a sorted array of n integers that has been rotated an unknown number of times, write code to find an element in the array. You may assume that the array was originally sorted in increasing order."
   ]
  }
 ],
 "metadata": {
  "kernelspec": {
   "display_name": "Python 3",
   "language": "python",
   "name": "python3"
  },
  "language_info": {
   "codemirror_mode": {
    "name": "ipython",
    "version": 3
   },
   "file_extension": ".py",
   "mimetype": "text/x-python",
   "name": "python",
   "nbconvert_exporter": "python",
   "pygments_lexer": "ipython3",
   "version": "3.7.3"
  }
 },
 "nbformat": 4,
 "nbformat_minor": 2
}
