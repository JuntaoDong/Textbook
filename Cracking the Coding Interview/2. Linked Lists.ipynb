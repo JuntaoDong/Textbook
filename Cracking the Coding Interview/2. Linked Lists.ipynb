{
 "cells": [
  {
   "cell_type": "markdown",
   "metadata": {},
   "source": [
    "**Code for Node and Linked List**"
   ]
  },
  {
   "cell_type": "code",
   "execution_count": 1,
   "metadata": {},
   "outputs": [],
   "source": [
    "class Node:\n",
    "    def __init__(self, data):\n",
    "        self.data = data\n",
    "        self.next = None\n",
    "    def getData(self):\n",
    "        return self.data\n",
    "    def getNext(self):\n",
    "        return self.next\n",
    "    def setData(self, newData):\n",
    "        # newData here is a number or a character\n",
    "        self.data = newData\n",
    "    def setNext(self, newNext):\n",
    "        # newNext here is another Node object\n",
    "        self.next = newNext\n",
    "\n",
    "# Singly linked list\n",
    "class LinkedList:\n",
    "    def __init__(self):\n",
    "        self.head = None\n",
    "    def isEmpty(self):\n",
    "        if self.head:\n",
    "            return False\n",
    "        else:\n",
    "            return True\n",
    "    def add(self, item):\n",
    "        # item here is a number or a character, we first create a new Node object and assign this item as the data of the object\n",
    "        newNode = Node(item)\n",
    "        if self.head:\n",
    "            newNode.setNext(self.head)\n",
    "            self.head = newNode\n",
    "        else:\n",
    "            self.head = newNode\n",
    "    def search(self, item):\n",
    "        curr = self.head\n",
    "        while curr:\n",
    "            if curr.data == item:\n",
    "                return True\n",
    "            curr = curr.next\n",
    "        return False\n",
    "    def remove(self, item):\n",
    "        # item here must be already included in the linked list\n",
    "        if self.head.data == item:\n",
    "            temp = self.head\n",
    "            self.head = self.head.next\n",
    "            temp.next = None\n",
    "        else:\n",
    "            curr = self.head\n",
    "            while curr.next:\n",
    "                if curr.next.data == item:\n",
    "                    temp = curr.next\n",
    "                    curr.next = temp.next\n",
    "                    temp.next = None\n",
    "                    break\n",
    "    def size(self):\n",
    "        curr = self.head\n",
    "        count = 0\n",
    "        while curr:\n",
    "            count += 1\n",
    "            curr = curr.getNext()\n",
    "        return count"
   ]
  },
  {
   "cell_type": "markdown",
   "metadata": {},
   "source": [
    "2.1 **Remove Dups:** Write code to remove duplicates from an unsorted linked list. How would you solve this problem if a temporary buffer is not allowed?"
   ]
  },
  {
   "cell_type": "code",
   "execution_count": 2,
   "metadata": {},
   "outputs": [
    {
     "name": "stdout",
     "output_type": "stream",
     "text": [
      "10\n",
      "7\n"
     ]
    }
   ],
   "source": [
    "def removeDups(llist):\n",
    "    '''\n",
    "    First ask: singly linked list vs doubly linked list\n",
    "    If we can use additional space, we can use a hash table (set or dictionary in Python) to keep track of the elements and counts of the linked list. The totl time complexity could be O(n)\n",
    "    However, if we cannot use a temporary buffer, a brute-fore method could be scan the linked list n times which takes O(n^2) by using two pointers\n",
    "    '''\n",
    "    tbl = set()\n",
    "    curr = llist.head\n",
    "    prev = None\n",
    "    while curr:\n",
    "        if curr.getData() not in tbl:\n",
    "            tbl.add(curr.getData())\n",
    "            prev = curr\n",
    "            curr = curr.getNext()\n",
    "        else:\n",
    "            prev.setNext(curr.getNext())\n",
    "            curr.setNext(None)\n",
    "            curr = prev.getNext()\n",
    "\n",
    "llist = LinkedList()\n",
    "llist.add(1)\n",
    "llist.add(2)\n",
    "llist.add(3)\n",
    "llist.add(4)\n",
    "llist.add(5)\n",
    "llist.add(6)\n",
    "llist.add(3)\n",
    "llist.add(2)\n",
    "llist.add(7)\n",
    "llist.add(6)\n",
    "print(llist.size())\n",
    "removeDups(llist)\n",
    "print(llist.size())"
   ]
  },
  {
   "cell_type": "code",
   "execution_count": null,
   "metadata": {},
   "outputs": [],
   "source": [
    "# remove duplicates without buffer\n",
    "def removeDups2(llist):\n",
    "    slow = llist.head\n",
    "    while slow.getNext():\n",
    "        fast = slow.getNext()\n",
    "        prev = slow\n",
    "        value = slow.getData()\n",
    "        while fast:\n",
    "            if fast.getData() == value \n",
    "    "
   ]
  }
 ],
 "metadata": {
  "kernelspec": {
   "display_name": "Python 3",
   "language": "python",
   "name": "python3"
  },
  "language_info": {
   "codemirror_mode": {
    "name": "ipython",
    "version": 3
   },
   "file_extension": ".py",
   "mimetype": "text/x-python",
   "name": "python",
   "nbconvert_exporter": "python",
   "pygments_lexer": "ipython3",
   "version": "3.7.3"
  }
 },
 "nbformat": 4,
 "nbformat_minor": 2
}
