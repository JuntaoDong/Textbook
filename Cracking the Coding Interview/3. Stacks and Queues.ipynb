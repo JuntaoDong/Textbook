{
 "cells": [
  {
   "cell_type": "markdown",
   "metadata": {},
   "source": [
    "3.1 **Three in One:** Describe how you could use a single array to implement three stacks."
   ]
  },
  {
   "cell_type": "code",
   "execution_count": 13,
   "metadata": {},
   "outputs": [
    {
     "name": "stdout",
     "output_type": "stream",
     "text": [
      "[None, None, None, None, None, None, None, None, None]\n",
      "[2, None, None, None, None, None, None, None, None]\n",
      "[2, None, None, 3, 3, None, None, None, None]\n"
     ]
    }
   ],
   "source": [
    "# Fixed division\n",
    "class MultiStack:\n",
    "    def __init__(self, capacity):\n",
    "        self.capacity = capacity\n",
    "        self.stack = [None] * capacity\n",
    "        self.starts = [0, capacity//3, 2*(capacity // 3)]\n",
    "        self.currs = self.starts\n",
    "        self.sizes = [capacity//3, capacity//3, capacity-2*(capacity//3)]\n",
    "        self.numStacks = 3\n",
    "    def __str__(self):\n",
    "        return str(self.stack)\n",
    "    def push(self, item, stackNum):\n",
    "        self.stack[self.starts[stackNum]] = item\n",
    "        self.currs[stackNum] += 1\n",
    "    def pop(self, stackNum):\n",
    "        self.currs[stackNum] -= 1\n",
    "        item = self.stack[self.currs[stackNum]]\n",
    "        self.stack[self.currs[stackNum]] = None\n",
    "        return item\n",
    "    def peek(self, stackNum):\n",
    "        return self.stack[self.currs[stackNum]-1]\n",
    "    def isEmpty(self, stackNum):\n",
    "        if self.stack[self.starts[stackNum]] == None:\n",
    "            return True\n",
    "        else:\n",
    "            return False\n",
    "        \n",
    "a = MultiStack(9)\n",
    "print(a)\n",
    "a.push(2, 0)\n",
    "print(a)\n",
    "a.push(3,1)\n",
    "a.push(3,1)\n",
    "print(a)"
   ]
  },
  {
   "cell_type": "markdown",
   "metadata": {},
   "source": [
    "3.2 **Stack Min:** How would you design a stack which, in addition to push and pop, has a function min which returns the minimum element? Push, pop and min should all operate in O(1) time."
   ]
  },
  {
   "cell_type": "markdown",
   "metadata": {},
   "source": [
    "3.3 **Stack of Plates:** Imagine a stack of plates. If the stack gets too high, it might topple. Therefore, inreal life, we would likely start a new stack when the previous stack exceeds some threshold. Implement a data structure SetOfStacks that mimics this. SetOfStacks should be composed of several stacks and should create a new stack once thre preicous one exceeds capacity. SetOfStacks.push() and SetOfStacks.pop() should be behave identically to a single stack (that is, pop() should return the same values as it would if there were just a single stack)."
   ]
  },
  {
   "cell_type": "markdown",
   "metadata": {},
   "source": [
    "FOLLOW UP: Implement a function popAt(int index) which performs a pop operation on a specific sub-stack."
   ]
  },
  {
   "cell_type": "markdown",
   "metadata": {},
   "source": [
    "3.4 **Queue via Stacks:** Implement a MyQueue class which implements a queue using two stacks."
   ]
  },
  {
   "cell_type": "markdown",
   "metadata": {},
   "source": [
    "3.5 **Sort Stack:** Write a program to sort a stack such that the smallest items are on the top. You can use an additional temporary stack, but you may not copy the elements into any other data structure (such as an array). The stack supports the following operations: push, pop, peek, and isEmpty."
   ]
  },
  {
   "cell_type": "markdown",
   "metadata": {},
   "source": [
    "3.6 **Animal Shelter:** An animal shelter, which holds only dogs and cats, operates on a strictly \"first in, first out\" basis. People must adopt either the \"oldest\" (based on arrival time) of all animals at the shelter, or they can select whether they would prefer a dog or a cat (and will receive the oldest animal of that type). They cannot select which specific animal they would like. Create the data structures to maintain this system and implement operations such as enqueue, dequeueAny, dequeueDog, and dequeueCat. You may use the built-in LinkedList data structure."
   ]
  }
 ],
 "metadata": {
  "kernelspec": {
   "display_name": "Python 3",
   "language": "python",
   "name": "python3"
  },
  "language_info": {
   "codemirror_mode": {
    "name": "ipython",
    "version": 3
   },
   "file_extension": ".py",
   "mimetype": "text/x-python",
   "name": "python",
   "nbconvert_exporter": "python",
   "pygments_lexer": "ipython3",
   "version": "3.7.3"
  }
 },
 "nbformat": 4,
 "nbformat_minor": 2
}
