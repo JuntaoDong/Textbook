{
 "cells": [
  {
   "cell_type": "markdown",
   "metadata": {},
   "source": [
    "# How to Approach OOD\n",
    "\n",
    "## Step 1: Handle Ambiguity\n",
    "\n",
    "Inquire who is going to use it and how they are going to use it. You may even go through who, what, where, when, how, why.\n",
    "\n",
    "## Step 2: Define the Core Objects\n",
    "\n",
    "## Step 3: Analyze Relationships\n",
    "\n",
    "## Step 4: Investigate Actions\n",
    "\n",
    "# Design Patterns\n",
    "\n",
    "Singleton and Factory Method\n",
    "\n",
    "-----------\n",
    "\n",
    "7.1 **Deck of Cards:** Design the data structures for a generic deck of cards. Explain how you would subclass the data structures to implement blackjack.\n",
    "\n",
    "![balckjack](http://i.imgur.com/abePXvq.png)"
   ]
  },
  {
   "cell_type": "code",
   "execution_count": 8,
   "metadata": {},
   "outputs": [],
   "source": [
    "import random\n",
    "\n",
    "\n",
    "class Card:\n",
    "    def __init__(self, suit, value):\n",
    "        self.suit = suit\n",
    "        self.value = value\n",
    "    \n",
    "    def __str__(self):\n",
    "        return str(self.suit) + '_' + str(self.value)\n",
    "\n",
    "    \n",
    "class CardDeck:\n",
    "    def __init__(self):\n",
    "        self.cards = []\n",
    "        self.build()\n",
    "        \n",
    "    def build(self):\n",
    "        suits = ['Club', 'Diamond', 'Heart', 'Spade']\n",
    "        for n in range(1, 14):\n",
    "            for s in suits:\n",
    "                self.cards.append(Card(s, n))\n",
    "                \n",
    "    def show_deck(self):\n",
    "        for i in self.cards:\n",
    "            print(i)\n",
    "            \n",
    "    def shuffle(self):\n",
    "        for i in range(len(self.cards)):\n",
    "            rand = random.randint(0, 51)\n",
    "            self.cards[i], self.cards[rand] = self.cards[rand], self.cards[i]\n",
    "            \n",
    "    def draw_card(self):\n",
    "        return self.cards.pop()\n",
    "    \n",
    "    \n",
    "class BlackJackPlayer:\n",
    "    def __init__(self, name):\n",
    "        self.name = name\n",
    "        self.cards = []\n",
    "        self.sum = 0\n",
    "    \n",
    "    def draw_card(self, card):\n",
    "        self.cards.append(card)\n",
    "    \n",
    "    def calculate_sum(self):\n",
    "        self.sum = 0\n",
    "        for card in self.cards:\n",
    "            if card.value > 10:\n",
    "                self.sum += 10\n",
    "            elif card.value == 1:\n",
    "                if self.sum + 11 > 21:\n",
    "                    self.sum += 1\n",
    "                else:\n",
    "                    self.sum += 11\n",
    "            else:\n",
    "                self.sum += card.value\n",
    "        return self.sum\n",
    "                           \n",
    "\n",
    "class BlackJackGame:\n",
    "    def __init__(self, numOfPlayers):\n",
    "        self.deck = CardDeck()\n",
    "        self.numOfPlayers = numOfPlayers\n",
    "        self.dealer = BlackJackPlayer('Dealer')\n",
    "        self.players = []\n",
    "        for i in range(1, numOfPlayers):\n",
    "            self.players.append(BlackJackPlayer('Player'+str(i)))\n",
    "            \n",
    "    def game_start(self):\n",
    "        winners = []\n",
    "        # draw two cards for each player and dealer\n",
    "        self.dealer.draw_card(self.deck.draw_card())\n",
    "        self.dealer.draw_card(self.deck.draw_card())\n",
    "        for player in self.players:\n",
    "            player.draw_card(self.deck.draw_card())\n",
    "            player.draw_card(self.deck.draw_card())\n",
    "            while player.calculate_sum() < 21:\n",
    "                rand_num = random.uniform(0, 1)\n",
    "                if rand_num > 0.8:\n",
    "                    player.draw_card(self.deck.draw_card())\n",
    "                else:\n",
    "                    break\n",
    "            \n",
    "        while self.dealer.calculate_sum() < 17:\n",
    "            self.dealer.draw_card(self.deck.draw_card())\n",
    "\n",
    "        if self.dealer.calculate_sum() > 21:\n",
    "            winners = [player.name for player in self.players if player.calculate_sum() <= 21]\n",
    "        else:\n",
    "            winners = [player.name for player in self.players if player.calculate_sum() > self.dealer.sum]\n",
    "            if winners == []:\n",
    "                winners = [self.dealer.name]\n",
    "        return winners\n",
    "            \n",
    "                "
   ]
  },
  {
   "cell_type": "code",
   "execution_count": 33,
   "metadata": {},
   "outputs": [
    {
     "data": {
      "text/plain": [
       "['Player1', 'Player4']"
      ]
     },
     "execution_count": 33,
     "metadata": {},
     "output_type": "execute_result"
    }
   ],
   "source": [
    "game = BlackJackGame(5)\n",
    "game.game_start()"
   ]
  },
  {
   "cell_type": "markdown",
   "metadata": {},
   "source": [
    "7.2 **Call Center:** Imagine you have a call center with three levels of employees: respondent, manager, and director. An incoming telephone call must be first allocated to a respondednt who is free. If the respondent can't handle the call, he or she must escalate the call to manager. If the manager is not free or not able to handle it, then the call should be escalated to a director. Design the classes and data structures for this problem. Implement a method dispatchCall() which assigns a call to the first available employee."
   ]
  }
 ],
 "metadata": {
  "kernelspec": {
   "display_name": "Python 3",
   "language": "python",
   "name": "python3"
  },
  "language_info": {
   "codemirror_mode": {
    "name": "ipython",
    "version": 3
   },
   "file_extension": ".py",
   "mimetype": "text/x-python",
   "name": "python",
   "nbconvert_exporter": "python",
   "pygments_lexer": "ipython3",
   "version": "3.7.3"
  }
 },
 "nbformat": 4,
 "nbformat_minor": 2
}
