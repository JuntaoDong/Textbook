{
 "cells": [
  {
   "cell_type": "markdown",
   "metadata": {},
   "source": [
    "3.1 **Three in One:** Describe how you could use a single array to implement three stacks."
   ]
  },
  {
   "cell_type": "code",
   "execution_count": 13,
   "metadata": {},
   "outputs": [
    {
     "name": "stdout",
     "output_type": "stream",
     "text": [
      "[None, None, None, None, None, None, None, None, None]\n",
      "[2, None, None, None, None, None, None, None, None]\n",
      "[2, None, None, 3, 3, None, None, None, None]\n"
     ]
    }
   ],
   "source": [
    "# Fixed division\n",
    "class MultiStack:\n",
    "    def __init__(self, capacity):\n",
    "        self.capacity = capacity\n",
    "        self.stack = [None] * capacity\n",
    "        self.starts = [0, capacity//3, 2*(capacity // 3)]\n",
    "        self.currs = self.starts\n",
    "        self.sizes = [capacity//3, capacity//3, capacity-2*(capacity//3)]\n",
    "        self.numStacks = 3\n",
    "    def __str__(self):\n",
    "        return str(self.stack)\n",
    "    def push(self, item, stackNum):\n",
    "        self.stack[self.starts[stackNum]] = item\n",
    "        self.currs[stackNum] += 1\n",
    "    def pop(self, stackNum):\n",
    "        self.currs[stackNum] -= 1\n",
    "        item = self.stack[self.currs[stackNum]]\n",
    "        self.stack[self.currs[stackNum]] = None\n",
    "        return item\n",
    "    def peek(self, stackNum):\n",
    "        return self.stack[self.currs[stackNum]-1]\n",
    "    def isEmpty(self, stackNum):\n",
    "        if self.stack[self.starts[stackNum]] == None:\n",
    "            return True\n",
    "        else:\n",
    "            return False\n",
    "        \n",
    "a = MultiStack(9)\n",
    "print(a)\n",
    "a.push(2, 0)\n",
    "print(a)\n",
    "a.push(3,1)\n",
    "a.push(3,1)\n",
    "print(a)"
   ]
  },
  {
   "cell_type": "markdown",
   "metadata": {},
   "source": [
    "3.2 **Stack Min:** How would you design a stack which, in addition to push and pop, has a function min which returns the minimum element? Push, pop and min should all operate in O(1) time."
   ]
  },
  {
   "cell_type": "code",
   "execution_count": 4,
   "metadata": {},
   "outputs": [
    {
     "name": "stdout",
     "output_type": "stream",
     "text": [
      "[2, 3]\n",
      "2\n",
      "1\n"
     ]
    }
   ],
   "source": [
    "class NodeWithMin:\n",
    "    def __init__(self, item):\n",
    "        self.item = item\n",
    "        self.min = item\n",
    "        \n",
    "class Stack:\n",
    "    def __init__(self):\n",
    "        self.items = []\n",
    "        \n",
    "    def __str__(self):\n",
    "        s = []\n",
    "        for i in self.items:\n",
    "            s.append(i.item)\n",
    "        return str(s)\n",
    "    \n",
    "    def push(self, item):\n",
    "        newNode = NodeWithMin(item)\n",
    "        if self.items == []:\n",
    "            self.items.append(newNode)\n",
    "        else:\n",
    "            if newNode.min > self.items[-1].min:\n",
    "                newNode.min = self.items[-1].min\n",
    "            self.items.append(newNode)\n",
    "\n",
    "    def pop(self):\n",
    "        result = self.items.pop()\n",
    "        return result.item\n",
    "    \n",
    "    def min(self):\n",
    "        return self.items[-1].min\n",
    "    \n",
    "ss = Stack()\n",
    "ss.push(2)\n",
    "ss.push(3)\n",
    "print(ss)\n",
    "print(ss.min())\n",
    "ss.push(1)\n",
    "print(ss.min())"
   ]
  },
  {
   "cell_type": "markdown",
   "metadata": {},
   "source": [
    "3.3 **Stack of Plates:** Imagine a stack of plates. If the stack gets too high, it might topple. Therefore, in real life, we would likely start a new stack when the previous stack exceeds some threshold. Implement a data structure SetOfStacks that mimics this. SetOfStacks should be composed of several stacks and should create a new stack once thre preicous one exceeds capacity. SetOfStacks.push() and SetOfStacks.pop() should be behave identically to a single stack (that is, pop() should return the same values as it would if there were just a single stack).\n",
    "\n",
    "**FOLLOW UP:** Implement a function popAt(int index) which performs a pop operation on a specific sub-stack."
   ]
  },
  {
   "cell_type": "code",
   "execution_count": 36,
   "metadata": {},
   "outputs": [
    {
     "name": "stdout",
     "output_type": "stream",
     "text": [
      "[[1, 2], [3, 4], [5]]\n",
      "[[1, 2], [3, 4]]\n",
      "[[1, 2], [3]]\n",
      "[[1], [3]]\n",
      "[[1]]\n",
      "[[1, 4], [8]]\n"
     ]
    }
   ],
   "source": [
    "class SetOfStacks:\n",
    "    def __init__(self, threshold):\n",
    "        self.stacks = [[]]\n",
    "        self.threshold = threshold\n",
    "        self.pointer = 0\n",
    "    def __str__(self):\n",
    "        return str(self.stacks)\n",
    "    def push(self, item):\n",
    "        if len(self.stacks[self.pointer]) == self.threshold:\n",
    "            self.stacks.append([item])\n",
    "            self.pointer += 1\n",
    "        else:\n",
    "            self.stacks[self.pointer].append(item)\n",
    "    def pop(self):\n",
    "        rm = self.stacks[self.pointer].pop()\n",
    "        if len(self.stacks[self.pointer]) == 0:\n",
    "            self.stacks.pop()\n",
    "            self.pointer -= 1\n",
    "        return rm\n",
    "    def popAt(self, index):\n",
    "        rm = self.stacks[index].pop()\n",
    "        if len(self.stacks[index]) == 0:\n",
    "            self.stacks.pop(index)\n",
    "            self.pointer -= 1\n",
    "        return rm\n",
    "\n",
    "stacks = SetOfStacks(2)\n",
    "stacks.push(1)\n",
    "stacks.push(2)\n",
    "stacks.push(3)\n",
    "stacks.push(4)\n",
    "stacks.push(5)\n",
    "print(stacks)\n",
    "stacks.pop()\n",
    "print(stacks)\n",
    "stacks.pop()\n",
    "print(stacks)\n",
    "stacks.popAt(0)\n",
    "print(stacks)\n",
    "stacks.popAt(1)\n",
    "print(stacks)\n",
    "stacks.push(4)\n",
    "stacks.push(8)\n",
    "print(stacks)"
   ]
  },
  {
   "cell_type": "markdown",
   "metadata": {},
   "source": [
    "3.4 **Queue via Stacks:** Implement a MyQueue class which implements a queue using two stacks."
   ]
  },
  {
   "cell_type": "code",
   "execution_count": 56,
   "metadata": {},
   "outputs": [
    {
     "name": "stdout",
     "output_type": "stream",
     "text": [
      "[1, 2, 3, 4]\n",
      "1\n",
      "2\n",
      "[5]\n",
      "[4, 3]\n"
     ]
    }
   ],
   "source": [
    "class Stack:\n",
    "    def __init__(self):\n",
    "        self.items = []\n",
    "    def __str__(self):\n",
    "        return str(self.items)\n",
    "    def push(self, item):\n",
    "        self.items.append(item)\n",
    "    def pop(self):\n",
    "        return self.items.pop()\n",
    "    def peek(self):\n",
    "        return self.items[-1]\n",
    "    def isEmpty(self):\n",
    "        return self.items==[]\n",
    "    \n",
    "class MyQueue:\n",
    "    def __init__(self):\n",
    "        self.output = Stack()\n",
    "        self.input = Stack()\n",
    "    def enqueue(self, item):\n",
    "        self.input.push(item)\n",
    "    def dequeue(self):\n",
    "        if self.output.isEmpty():\n",
    "            while not self.input.isEmpty():\n",
    "                self.output.push(self.input.pop())\n",
    "        return self.output.pop()\n",
    "    def isEmpty(self):\n",
    "        return self.input==[] and self.output==[]\n",
    "    \n",
    "q = MyQueue()\n",
    "q.enqueue(1)\n",
    "q.enqueue(2)\n",
    "q.enqueue(3)\n",
    "q.enqueue(4)\n",
    "print(q.input)\n",
    "print(q.dequeue())\n",
    "q.enqueue(5)\n",
    "print(q.dequeue())\n",
    "print(q.input)\n",
    "print(q.output)"
   ]
  },
  {
   "cell_type": "markdown",
   "metadata": {},
   "source": [
    "3.5 **Sort Stack:** Write a program to sort a stack such that the smallest items are on the top. You can use an additional temporary stack, but you may not copy the elements into any other data structure (such as an array). The stack supports the following operations: push, pop, peek, and isEmpty."
   ]
  },
  {
   "cell_type": "code",
   "execution_count": 57,
   "metadata": {},
   "outputs": [
    {
     "name": "stdout",
     "output_type": "stream",
     "text": [
      "[2, 3, 8, 1]\n",
      "[8, 3, 2, 1]\n"
     ]
    }
   ],
   "source": [
    "def sortStack(r):\n",
    "    s = Stack()\n",
    "    while not r.isEmpty():\n",
    "        if s.isEmpty() or r.peek() >= s.peek():\n",
    "            s.push(r.pop())\n",
    "        else:\n",
    "            tmp = r.pop()\n",
    "            while tmp < s.peek():\n",
    "                r.push(s.pop())\n",
    "            s.push(tmp)\n",
    "    while not s.isEmpty():\n",
    "        r.push(s.pop())\n",
    "    return r\n",
    "\n",
    "r = Stack()\n",
    "r.push(2)\n",
    "r.push(3)\n",
    "r.push(8)\n",
    "r.push(1)\n",
    "print(r)\n",
    "print(sortStack(r))"
   ]
  },
  {
   "cell_type": "markdown",
   "metadata": {},
   "source": [
    "3.6 **Animal Shelter:** An animal shelter, which holds only dogs and cats, operates on a strictly \"first in, first out\" basis. People must adopt either the \"oldest\" (based on arrival time) of all animals at the shelter, or they can select whether they would prefer a dog or a cat (and will receive the oldest animal of that type). They cannot select which specific animal they would like. Create the data structures to maintain this system and implement operations such as enqueue, dequeueAny, dequeueDog, and dequeueCat. <s>You may use the built-in LinkedList data structure (for Java).<s>"
   ]
  },
  {
   "cell_type": "code",
   "execution_count": 60,
   "metadata": {},
   "outputs": [
    {
     "name": "stdout",
     "output_type": "stream",
     "text": [
      "Meme\n",
      "Apple\n",
      "Mia\n"
     ]
    }
   ],
   "source": [
    "# use two stacks for dogs and cats with timestamps\n",
    "class AnimalTS:\n",
    "    def __init__(self, animal, name, ts):\n",
    "        self.animal = animal\n",
    "        self.name = name\n",
    "        self.ts = ts\n",
    "class Shelter:\n",
    "    def __init__(self):\n",
    "        self.dogs = []\n",
    "        self.cats = []\n",
    "        self.ts = 0\n",
    "    def enqueue(self, animal, name):\n",
    "        new = AnimalTS(animal, name, self.ts)\n",
    "        if animal == 'dog':\n",
    "            self.dogs.append(new)\n",
    "        elif animal == 'cat':\n",
    "            self.cats.append(new)\n",
    "        else:\n",
    "            raise NameError(\"This animal shelter doestn't accept animal %s\" % animal)\n",
    "        self.ts += 1\n",
    "    def dequeueAny(self):\n",
    "        if self.dogs[0].ts < self.cats[0].ts:\n",
    "            return self.dogs.pop(0).name\n",
    "        else:\n",
    "            return self.cats.pop(0).name\n",
    "    def dequeueDog(self):\n",
    "        return self.dogs.pop(0).name\n",
    "    def dequeueCat(self):\n",
    "        return self.cats.pop(0).name\n",
    "    \n",
    "shelter = Shelter()\n",
    "shelter.enqueue('dog', 'Meme')\n",
    "shelter.enqueue('cat', 'Mia')\n",
    "shelter.enqueue('dog', 'Apple')\n",
    "shelter.enqueue('dog', 'Po')\n",
    "shelter.enqueue('cat', 'Tete')\n",
    "print(shelter.dequeueAny())\n",
    "print(shelter.dequeueDog())\n",
    "print(shelter.dequeueCat())"
   ]
  }
 ],
 "metadata": {
  "kernelspec": {
   "display_name": "Python 3",
   "language": "python",
   "name": "python3"
  },
  "language_info": {
   "codemirror_mode": {
    "name": "ipython",
    "version": 3
   },
   "file_extension": ".py",
   "mimetype": "text/x-python",
   "name": "python",
   "nbconvert_exporter": "python",
   "pygments_lexer": "ipython3",
   "version": "3.7.3"
  }
 },
 "nbformat": 4,
 "nbformat_minor": 2
}
