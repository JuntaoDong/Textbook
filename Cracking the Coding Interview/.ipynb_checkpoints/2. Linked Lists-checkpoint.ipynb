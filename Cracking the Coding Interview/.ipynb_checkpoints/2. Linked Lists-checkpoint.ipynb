{
 "cells": [
  {
   "cell_type": "markdown",
   "metadata": {},
   "source": [
    "**Code for Node and Linked List**"
   ]
  },
  {
   "cell_type": "code",
   "execution_count": 126,
   "metadata": {},
   "outputs": [],
   "source": [
    "class Node:\n",
    "    def __init__(self, data=None):\n",
    "        self.data = data\n",
    "        self.next = None\n",
    "    def getData(self):\n",
    "        return self.data\n",
    "    def getNext(self):\n",
    "        return self.next\n",
    "    def setData(self, newData):\n",
    "        # newData here is a number or a character\n",
    "        self.data = newData\n",
    "    def setNext(self, newNext):\n",
    "        # newNext here is another Node object\n",
    "        self.next = newNext\n",
    "\n",
    "# Singly linked list\n",
    "class LinkedList:\n",
    "    def __init__(self):\n",
    "        self.head = None\n",
    "        \n",
    "    def __str__(self):\n",
    "        curr = self.head\n",
    "        out = []\n",
    "        while curr:\n",
    "            out.append(curr.getData())\n",
    "            curr = curr.getNext()\n",
    "        finalstr = 'Linked list' + str(out)\n",
    "        return finalstr\n",
    "        \n",
    "    def isEmpty(self):\n",
    "        if self.head:\n",
    "            return False\n",
    "        else:\n",
    "            return True\n",
    "    def add(self, item):\n",
    "        # item here is a number or a character, we first create a new Node object and assign this item as the data of the object\n",
    "        if isinstance(item, Node):\n",
    "            newNode = item\n",
    "        else:\n",
    "            newNode = Node(item)\n",
    "        if self.head:\n",
    "            newNode.setNext(self.head)\n",
    "            self.head = newNode\n",
    "        else:\n",
    "            self.head = newNode\n",
    "    def search(self, item):\n",
    "        curr = self.head\n",
    "        while curr:\n",
    "            if curr.data == item:\n",
    "                return True\n",
    "            curr = curr.next\n",
    "        return False\n",
    "    def remove(self, item):\n",
    "        # item here must be already included in the linked list\n",
    "        if self.head.data == item:\n",
    "            temp = self.head\n",
    "            self.head = self.head.next\n",
    "            temp.next = None\n",
    "        else:\n",
    "            curr = self.head\n",
    "            while curr.next:\n",
    "                if curr.next.data == item:\n",
    "                    temp = curr.next\n",
    "                    curr.next = temp.next\n",
    "                    temp.next = None\n",
    "                    break\n",
    "    def size(self):\n",
    "        curr = self.head\n",
    "        count = 0\n",
    "        while curr:\n",
    "            count += 1\n",
    "            curr = curr.getNext()\n",
    "        return count"
   ]
  },
  {
   "cell_type": "markdown",
   "metadata": {},
   "source": [
    "2.1 **Remove Dups:** Write code to remove duplicates from an unsorted linked list. How would you solve this problem if a temporary buffer is not allowed?"
   ]
  },
  {
   "cell_type": "code",
   "execution_count": 83,
   "metadata": {},
   "outputs": [
    {
     "name": "stdout",
     "output_type": "stream",
     "text": [
      "Linked list[6, 7, 2, 3, 6, 5, 4, 3, 2, 1]\n",
      "Linked list[6, 7, 2, 3, 5, 4, 1]\n"
     ]
    }
   ],
   "source": [
    "def removeDups(llist):\n",
    "    '''\n",
    "    First ask: singly linked list vs doubly linked list\n",
    "    If we can use additional space, we can use a hash table (set or dictionary in Python) to keep track of the elements and counts of the linked list. The totl time complexity could be O(n)\n",
    "    However, if we cannot use a temporary buffer, a brute-fore method could be scan the linked list n times which takes O(n^2) by using two pointers\n",
    "    '''\n",
    "    tbl = set()\n",
    "    curr = llist.head\n",
    "    prev = None\n",
    "    while curr:\n",
    "        if curr.getData() not in tbl:\n",
    "            tbl.add(curr.getData())\n",
    "            prev = curr\n",
    "            curr = curr.getNext()\n",
    "        else:\n",
    "            prev.setNext(curr.getNext())\n",
    "            curr.setNext(None)\n",
    "            curr = prev.getNext()\n",
    "\n",
    "llist = LinkedList()\n",
    "llist.add(1)\n",
    "llist.add(2)\n",
    "llist.add(3)\n",
    "llist.add(4)\n",
    "llist.add(5)\n",
    "llist.add(6)\n",
    "llist.add(3)\n",
    "llist.add(2)\n",
    "llist.add(7)\n",
    "llist.add(6)\n",
    "\n",
    "print(llist)\n",
    "removeDups(llist)\n",
    "print(llist)"
   ]
  },
  {
   "cell_type": "code",
   "execution_count": 75,
   "metadata": {},
   "outputs": [
    {
     "name": "stdout",
     "output_type": "stream",
     "text": [
      "Linked list[3, 6, 7, 2, 3, 5, 4, 1]\n",
      "Linked list[3, 6, 7, 2, 5, 4, 1]\n"
     ]
    }
   ],
   "source": [
    "# remove duplicates without buffer\n",
    "def removeDups2(llist):\n",
    "    slow = llist.head\n",
    "    while slow.getNext():\n",
    "        fast = slow.getNext()\n",
    "        prev = slow\n",
    "        value = slow.getData()\n",
    "        while fast:\n",
    "            if fast.getData() == value:\n",
    "                prev.setNext(fast.getNext())\n",
    "                fast.setNext(None)\n",
    "                fast = prev.getNext()\n",
    "            else:\n",
    "                prev = fast\n",
    "                fast = fast.getNext()\n",
    "        slow = slow.getNext()\n",
    "\n",
    "llist.add(3)\n",
    "print(llist)\n",
    "removeDups2(llist)\n",
    "print(llist)"
   ]
  },
  {
   "cell_type": "markdown",
   "metadata": {},
   "source": [
    "2.2 **Return Kth to Last:** Implement and algorithm to find the kth to last element of a singly linked list."
   ]
  },
  {
   "cell_type": "code",
   "execution_count": 76,
   "metadata": {},
   "outputs": [
    {
     "name": "stdout",
     "output_type": "stream",
     "text": [
      "Linked list[3, 6, 7, 2, 5, 4, 1]\n",
      "4\n",
      "5\n"
     ]
    }
   ],
   "source": [
    "'''\n",
    "If the size of the linked list is known then the problem is too ez.\n",
    "The method below is a brute-force solution by count the size of the list first and then traverse to the kth last node.\n",
    "Getting the size of list takse O(n), traverse to the desired node requires n-k steps. \n",
    "O(n + n - k) -> O(n)\n",
    "'''\n",
    "def kthLast(llist, k):\n",
    "    size = llist.size()    #O(n)\n",
    "    curr = llist.head\n",
    "    i = 1\n",
    "    while size-k > i:\n",
    "        curr = curr.next\n",
    "        i += 1\n",
    "    return curr.data\n",
    "\n",
    "print(llist)\n",
    "print(kthLast(llist, 1))\n",
    "print(kthLast(llist, 2))"
   ]
  },
  {
   "cell_type": "code",
   "execution_count": 115,
   "metadata": {},
   "outputs": [
    {
     "name": "stdout",
     "output_type": "stream",
     "text": [
      "Linked list[1, 4, 3, 2, 6, 7, 5]\n",
      "5\n",
      "7\n"
     ]
    }
   ],
   "source": [
    "'''\n",
    "The second solution is to use recursion. It halves the time complexity: O(n)\n",
    "However, the program continues to run till the head of the linked list even at kth call from the bottom the element is already printed out.\n",
    "'''\n",
    "def kthLastRec(head, k):\n",
    "    curr = head\n",
    "    if curr is None:\n",
    "        return -1\n",
    "    else:\n",
    "        count = kthLastRec(curr.getNext(), k) + 1\n",
    "        if count == k:\n",
    "            print(curr.getData())\n",
    "        return count\n",
    "\n",
    "print(llist)\n",
    "print(kthLast(llist, 0))\n",
    "print(kthLast(llist, 1))"
   ]
  },
  {
   "cell_type": "code",
   "execution_count": 116,
   "metadata": {},
   "outputs": [
    {
     "name": "stdout",
     "output_type": "stream",
     "text": [
      "Linked list[1, 4, 3, 2, 6, 7, 5]\n",
      "5\n",
      "7\n"
     ]
    }
   ],
   "source": [
    "'''\n",
    "The optimal solution is using two pointers. The two pointers keep a distance of k, therefore when one pointer hit the end, the other one is exactly the problem wanted.\n",
    "'''\n",
    "def kthLastOpt(llist, k):\n",
    "    p1 = llist.head\n",
    "    p2 = p1\n",
    "    for _ in range(k):\n",
    "        p2 = p2.getNext()\n",
    "    while p2.getNext():\n",
    "        p1 = p1.getNext()\n",
    "        p2 = p2.getNext()\n",
    "    return p1.getData()\n",
    "\n",
    "print(llist)\n",
    "print(kthLast(llist, 0))\n",
    "print(kthLast(llist, 1))"
   ]
  },
  {
   "cell_type": "markdown",
   "metadata": {},
   "source": [
    "2.3 **Delete Middle Node:** Implement an algorithm to delete a node in the middle (i.e. any node but the first and last node, not necessarily the exact middle) of a singly linked list, given only access to that node."
   ]
  },
  {
   "cell_type": "code",
   "execution_count": null,
   "metadata": {},
   "outputs": [],
   "source": [
    "'''\n",
    "To delete the middle node, copy the data from the next node and remove the next node.\n",
    "'''\n",
    "def deleteMid(llistMid):\n",
    "    llistMid.setData(llistMid.getNext().getData())\n",
    "    temp = llistMid.getNext()\n",
    "    llistMid.setNext(llistMid.getNext().getNext())\n",
    "    temp.setNext(None)          \n"
   ]
  },
  {
   "cell_type": "markdown",
   "metadata": {},
   "source": [
    "2.4 **Partition:** Write code to partition a linked list around a value x, such that all nodes less than x come before all nodes greater than or equal to x. If x in contained within the list, the values of x only need to be after the elements less than x (see below). The partition element x can appear anywhere in the \"right partition\"; it does not need to appear between the left and right partitions."
   ]
  },
  {
   "cell_type": "code",
   "execution_count": 84,
   "metadata": {},
   "outputs": [
    {
     "name": "stdout",
     "output_type": "stream",
     "text": [
      "Linked list[6, 7, 2, 3, 5, 4, 1]\n",
      "Linked list[1, 4, 3, 2, 6, 7, 5]\n"
     ]
    }
   ],
   "source": [
    "# O(n)\n",
    "def partition(llist, partition):\n",
    "    curr = llist.head\n",
    "    smaller = []\n",
    "    if curr.getData() >= partition:\n",
    "        \n",
    "        while curr.next:\n",
    "            if curr.next.getData() < partition:\n",
    "                smaller.append(curr.next)\n",
    "                curr.next = curr.next.next\n",
    "            else:\n",
    "                curr = curr.next\n",
    "    else:\n",
    "        while curr.getData() < partition:\n",
    "            curr = curr.getNext()\n",
    "        while curr.next:\n",
    "            if curr.next.getData() < partition:\n",
    "                smaller.append(curr.next)\n",
    "                curr.next = curr.next.next\n",
    "            else:\n",
    "                curr = curr.next\n",
    "    for node in smaller:\n",
    "        llist.add(node)\n",
    "\n",
    "print(llist)\n",
    "partition(llist, 5)\n",
    "print(llist)"
   ]
  },
  {
   "cell_type": "markdown",
   "metadata": {},
   "source": [
    "2.5 **Sum Lists:** You have two numbers represented by a linked list, where each node contains a single digit. The digits are stored in reverse order, such that the 1's digit is at the head of the list. Write a function that adds the two numbers and returns the sum as a linked list."
   ]
  },
  {
   "cell_type": "code",
   "execution_count": 119,
   "metadata": {},
   "outputs": [
    {
     "name": "stdout",
     "output_type": "stream",
     "text": [
      "Linked list[7, 1, 6]\n",
      "Linked list[5, 9, 2]\n",
      "Linked list[2, 1, 9]\n"
     ]
    }
   ],
   "source": [
    "# O(n)\n",
    "def sumList(llist1, llist2):\n",
    "    curr1 = llist1.head\n",
    "    curr2 = llist2.head\n",
    "    lst = []\n",
    "    carry = 0\n",
    "    sumList = LinkedList()\n",
    "    while curr1 or curr2:\n",
    "        if curr1 is None:\n",
    "            lst.append(curr2.getData()+carry)\n",
    "            curr2 = curr2.getNext()\n",
    "        elif curr2 is None:\n",
    "            lst.append(curr1.getData()+carry)\n",
    "            curr1 = curr1.getNext()\n",
    "        else:\n",
    "            temp = curr1.getData() + curr2.getData() + carry\n",
    "            curr1 = curr1.getNext()\n",
    "            curr2 = curr2.getNext()\n",
    "            if temp < 10:\n",
    "                digit = temp\n",
    "                carry = 0\n",
    "            else:\n",
    "                digit = temp % 10\n",
    "                carry = temp // 10\n",
    "            lst.append(digit)\n",
    "            \n",
    "    for i in range(len(lst)-1, -1, -1):\n",
    "        sumList.add(lst[i])\n",
    "        \n",
    "    return sumList\n",
    "\n",
    "l1 = LinkedList()\n",
    "l2 = LinkedList()\n",
    "l1.add(6)\n",
    "l1.add(1)\n",
    "l1.add(7)\n",
    "l2.add(2)\n",
    "l2.add(9)\n",
    "l2.add(5)\n",
    "\n",
    "print(l1)\n",
    "print(l2)\n",
    "sum_ = sumList(l1,l2)\n",
    "print(sum_)      \n",
    "            \n",
    "            "
   ]
  },
  {
   "cell_type": "code",
   "execution_count": 129,
   "metadata": {},
   "outputs": [
    {
     "name": "stdout",
     "output_type": "stream",
     "text": [
      "Linked list[7, 1, 6]\n",
      "Linked list[5, 9, 2]\n",
      "Linked list[2, 1, 9]\n"
     ]
    }
   ],
   "source": [
    "'''\n",
    "A better solution could be using recursion instead of an additional list like the solution above.\n",
    "\n",
    "'''\n",
    "def sumListRec(l1, l2, carry=0):\n",
    "    if l1==None and l2==None and carry==0:\n",
    "        return None\n",
    "    result = Node()\n",
    "    value = carry\n",
    "    \n",
    "    if l1:\n",
    "        value += l1.getData()\n",
    "    if l2:\n",
    "        value += l2.getData()\n",
    "    result.setData(value%10)\n",
    "    result.setNext(sumListRec(l1.getNext() if l1 else None,\n",
    "                              l2.getNext() if l2 else None,\n",
    "                              1 if value>=10 else 0))\n",
    "    return result\n",
    "\n",
    "print(l1)\n",
    "print(l2)\n",
    "head = sumListRec(l1.head,l2.head)\n",
    "sum_ = LinkedList()\n",
    "sum_.add(head)\n",
    "print(sum_)   "
   ]
  },
  {
   "cell_type": "markdown",
   "metadata": {},
   "source": [
    "2.5 FOLLOW UP: Suppose the digits are stored in forward order. Repeat the above problem."
   ]
  },
  {
   "cell_type": "code",
   "execution_count": 136,
   "metadata": {},
   "outputs": [
    {
     "name": "stdout",
     "output_type": "stream",
     "text": [
      "Linked list[7, 1, 6]\n",
      "Linked list[5]\n",
      "Linked list[7, 2, 1]\n"
     ]
    }
   ],
   "source": [
    "# first method: use two additional linked list. one used to calculate all the digits without carries, another used to keep track of the carries. then sum these two linked list together to get the final sum linked list.\n",
    "# the time complexity should be O(4n) -> O(n)\n",
    "def sumListF(l1, l2):\n",
    "    digits = []\n",
    "    carries = []\n",
    "    sumList = LinkedList()\n",
    "    diff = l1.size() - l2.size()\n",
    "    if diff > 0:\n",
    "        padding(l2, diff)\n",
    "    elif diff < 0:\n",
    "        padding(l1, -diff)\n",
    "    curr1 = l1.head\n",
    "    curr2 = l2.head\n",
    "    while curr1:\n",
    "        temp = curr1.getData() + curr2.getData()\n",
    "        carries.append(temp // 10)\n",
    "        digits.append(temp % 10)\n",
    "        curr1 = curr1.getNext()\n",
    "        curr2 = curr2.getNext()\n",
    "    carries.append(0)\n",
    "    for i in range(-1, -len(carries), -1):\n",
    "        sumList.add(digits[i]+carries[i])\n",
    "    if carries[0] != 0:\n",
    "        sumList.add(carries[0])\n",
    "    return sumList\n",
    "                   \n",
    "\n",
    "def padding(shorter, diff):\n",
    "    for _ in range(diff):\n",
    "        shorter.add(0)\n",
    "    \n",
    "l3 = LinkedList()\n",
    "l3.add(5)\n",
    "print(l1)\n",
    "print(l3)\n",
    "print(sumListF(l1,l3))\n",
    "# helper of sum linked lists with different lengths\n",
    "#def sumHelper(longer, shorter, diff)"
   ]
  },
  {
   "cell_type": "markdown",
   "metadata": {},
   "source": [
    "2.6 **Palindrome:** Implement a function to check if a linked list is a palindrome."
   ]
  },
  {
   "cell_type": "code",
   "execution_count": 110,
   "metadata": {},
   "outputs": [
    {
     "name": "stdout",
     "output_type": "stream",
     "text": [
      "False\n",
      "True\n"
     ]
    }
   ],
   "source": [
    "# O(2n)\n",
    "def isPalindrome(llist):\n",
    "    curr = llist.head\n",
    "    reverseLst = LinkedList()\n",
    "    while curr:\n",
    "        reverseLst.add(curr.getData())\n",
    "        curr = curr.getNext()\n",
    "    curr1 = llist.head\n",
    "    curr2 = reverseLst.head\n",
    "    while curr1:\n",
    "        if curr1.getData() == curr2.getData():\n",
    "            curr1 = curr1.getNext()\n",
    "            curr2 = curr2.getNext()\n",
    "        else:\n",
    "            return False\n",
    "    return True\n",
    "\n",
    "l = LinkedList()\n",
    "l.add('a')\n",
    "l.add('c')\n",
    "l.add('b')\n",
    "l.add('c')\n",
    "print(isPalindrome(l))\n",
    "l.add('a')\n",
    "print(isPalindrome(l))\n",
    "\n",
    "'''\n",
    "An iterative approach could be using two runners: a slower runner and a faster runner. \n",
    "Simply put the data from the slower runner into a stack till the faster runner hits the end of the linked list. \n",
    "In this case, the first half is put into the stack in reverse order. Then we can compare the rest half with the stack one by one till the end.\n",
    "\n",
    "We can also solve the problem using recursion.\n",
    "0 (1 (2 (3) 2) 1) 0\n",
    "'''"
   ]
  },
  {
   "cell_type": "markdown",
   "metadata": {},
   "source": [
    "2.7 **Intersection:** Given two (singly) linked lists, determine if the two lists intersect. Return the intersecting node. Note that the intersection is defined based on reference, not value. That is, if the kth node of the first linked list is the exact same node (by reference) as the jth node of the second linked list, then they are interesecting."
   ]
  },
  {
   "cell_type": "code",
   "execution_count": 138,
   "metadata": {},
   "outputs": [
    {
     "name": "stdout",
     "output_type": "stream",
     "text": [
      "Two linked lists intersect with each other\n"
     ]
    },
    {
     "data": {
      "text/plain": [
       "2"
      ]
     },
     "execution_count": 138,
     "metadata": {},
     "output_type": "execute_result"
    }
   ],
   "source": [
    "'''\n",
    "To determine if two linked lists intersect, we can either use a hash table and throw the address of the node in \n",
    "or directly traverse to the end of the list to check if the nodes are the same one since intersected lists must have the same last node.\n",
    "\n",
    "To return the intersecting node, if we can't traverse backwards, we can chop off the excess nodes comparing with the shorter list and traverse two lists simultaneously.\n",
    "'''\n",
    "def intersection(l1, l2):\n",
    "    if l1.head is None or l2.head is None:\n",
    "        return \n",
    "    len1 = 1\n",
    "    len2 = 1\n",
    "    curr1 = l1.head\n",
    "    curr2 = l2.head\n",
    "    while curr1.getNext():\n",
    "        len1 += 1\n",
    "        curr1 = curr1.getNext()\n",
    "    while curr2.getNext():\n",
    "        len2 += 1\n",
    "        curr2 = curr2.getNext()\n",
    "    if curr1 == curr2:\n",
    "        print('Two linked lists intersect with each other')\n",
    "        curr1 = l1.head\n",
    "        curr2 = l2.head\n",
    "        if len1 > len2:\n",
    "            for _ in range(len1-len2):\n",
    "                curr1 = curr1.getNext()\n",
    "        elif len1 < len2:\n",
    "            for _ in range(len2-len1):\n",
    "                curr2 = curr2.getNext()\n",
    "        while curr1:\n",
    "            if curr1 == curr2:\n",
    "                return curr1\n",
    "            else:\n",
    "                curr1 = curr1.getNext()\n",
    "                curr2 = curr2.getNext()\n",
    "        \n",
    "    else:\n",
    "        print('No Intersection')\n",
    "        \n",
    "n1 = Node(1)\n",
    "n2 = Node(2)\n",
    "n3 = Node(3)\n",
    "n4 = Node(4)\n",
    "n1.setNext(n2)\n",
    "n2.setNext(n3)\n",
    "n4.setNext(n2)\n",
    "ll1 = LinkedList()\n",
    "ll2 = LinkedList()\n",
    "ll1.add(n1)\n",
    "ll2.add(n4)\n",
    "intersection = intersection(ll1,ll2)\n",
    "intersection.data"
   ]
  },
  {
   "cell_type": "markdown",
   "metadata": {},
   "source": [
    "2.8 **Loop Detection:** Given a circular linked list, implement an algorithm that returns the node at the beginning of the loop."
   ]
  },
  {
   "cell_type": "code",
   "execution_count": 111,
   "metadata": {},
   "outputs": [],
   "source": [
    "# TC: O(n)\n",
    "# SC: O(n)\n",
    "\n",
    "def loopDetection(llist):\n",
    "    curr = llist.head\n",
    "    temp = set()\n",
    "    while curr:\n",
    "        if curr not in temp:\n",
    "            temp.add(curr)\n",
    "        else:\n",
    "            return True\n",
    "    return False"
   ]
  },
  {
   "cell_type": "code",
   "execution_count": null,
   "metadata": {},
   "outputs": [],
   "source": [
    "'''\n",
    "If we're not allowed to use additional hash table, we can use the following method.\n",
    "part1 detect loop: use fastRunner / slowRunner\n",
    "FastRunner moves two steps at a time, while SlowRunner moves one step and they must eventually meet.\n",
    "Also pay attention that the FastRunner can never hop over SlowRunner completely without ever colliding.\n",
    "\n",
    "1. Create two pointers, FastPointer and SlowPointer\n",
    "2. Move FastPointer at a rate of 2 steps and SlowPointer at a rate of 1 step.\n",
    "3. When they collide, move SlowPointer to LinkedList head. Keep FastPointer where it is.\n",
    "4. Move SlowPointer and FastPointer at a rate of one step. Return the new collision point.\n",
    "'''"
   ]
  }
 ],
 "metadata": {
  "kernelspec": {
   "display_name": "Python 3",
   "language": "python",
   "name": "python3"
  },
  "language_info": {
   "codemirror_mode": {
    "name": "ipython",
    "version": 3
   },
   "file_extension": ".py",
   "mimetype": "text/x-python",
   "name": "python",
   "nbconvert_exporter": "python",
   "pygments_lexer": "ipython3",
   "version": "3.7.3"
  }
 },
 "nbformat": 4,
 "nbformat_minor": 2
}
