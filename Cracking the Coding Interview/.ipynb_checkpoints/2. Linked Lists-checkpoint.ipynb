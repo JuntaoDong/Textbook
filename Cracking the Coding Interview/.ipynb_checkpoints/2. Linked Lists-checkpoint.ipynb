{
 "cells": [
  {
   "cell_type": "markdown",
   "metadata": {},
   "source": [
    "**Code for Node and Linked List**"
   ]
  },
  {
   "cell_type": "code",
   "execution_count": 82,
   "metadata": {},
   "outputs": [],
   "source": [
    "class Node:\n",
    "    def __init__(self, data):\n",
    "        self.data = data\n",
    "        self.next = None\n",
    "    def getData(self):\n",
    "        return self.data\n",
    "    def getNext(self):\n",
    "        return self.next\n",
    "    def setData(self, newData):\n",
    "        # newData here is a number or a character\n",
    "        self.data = newData\n",
    "    def setNext(self, newNext):\n",
    "        # newNext here is another Node object\n",
    "        self.next = newNext\n",
    "\n",
    "# Singly linked list\n",
    "class LinkedList:\n",
    "    def __init__(self):\n",
    "        self.head = None\n",
    "        \n",
    "    def __str__(self):\n",
    "        curr = self.head\n",
    "        out = []\n",
    "        while curr:\n",
    "            out.append(curr.getData())\n",
    "            curr = curr.getNext()\n",
    "        finalstr = 'Linked list' + str(out)\n",
    "        return finalstr\n",
    "        \n",
    "    def isEmpty(self):\n",
    "        if self.head:\n",
    "            return False\n",
    "        else:\n",
    "            return True\n",
    "    def add(self, item):\n",
    "        # item here is a number or a character, we first create a new Node object and assign this item as the data of the object\n",
    "        if isinstance(item, Node):\n",
    "            newNode = item\n",
    "        else:\n",
    "            newNode = Node(item)\n",
    "        if self.head:\n",
    "            newNode.setNext(self.head)\n",
    "            self.head = newNode\n",
    "        else:\n",
    "            self.head = newNode\n",
    "    def search(self, item):\n",
    "        curr = self.head\n",
    "        while curr:\n",
    "            if curr.data == item:\n",
    "                return True\n",
    "            curr = curr.next\n",
    "        return False\n",
    "    def remove(self, item):\n",
    "        # item here must be already included in the linked list\n",
    "        if self.head.data == item:\n",
    "            temp = self.head\n",
    "            self.head = self.head.next\n",
    "            temp.next = None\n",
    "        else:\n",
    "            curr = self.head\n",
    "            while curr.next:\n",
    "                if curr.next.data == item:\n",
    "                    temp = curr.next\n",
    "                    curr.next = temp.next\n",
    "                    temp.next = None\n",
    "                    break\n",
    "    def size(self):\n",
    "        curr = self.head\n",
    "        count = 0\n",
    "        while curr:\n",
    "            count += 1\n",
    "            curr = curr.getNext()\n",
    "        return count"
   ]
  },
  {
   "cell_type": "markdown",
   "metadata": {},
   "source": [
    "2.1 **Remove Dups:** Write code to remove duplicates from an unsorted linked list. How would you solve this problem if a temporary buffer is not allowed?"
   ]
  },
  {
   "cell_type": "code",
   "execution_count": 83,
   "metadata": {},
   "outputs": [
    {
     "name": "stdout",
     "output_type": "stream",
     "text": [
      "Linked list[6, 7, 2, 3, 6, 5, 4, 3, 2, 1]\n",
      "Linked list[6, 7, 2, 3, 5, 4, 1]\n"
     ]
    }
   ],
   "source": [
    "def removeDups(llist):\n",
    "    '''\n",
    "    First ask: singly linked list vs doubly linked list\n",
    "    If we can use additional space, we can use a hash table (set or dictionary in Python) to keep track of the elements and counts of the linked list. The totl time complexity could be O(n)\n",
    "    However, if we cannot use a temporary buffer, a brute-fore method could be scan the linked list n times which takes O(n^2) by using two pointers\n",
    "    '''\n",
    "    tbl = set()\n",
    "    curr = llist.head\n",
    "    prev = None\n",
    "    while curr:\n",
    "        if curr.getData() not in tbl:\n",
    "            tbl.add(curr.getData())\n",
    "            prev = curr\n",
    "            curr = curr.getNext()\n",
    "        else:\n",
    "            prev.setNext(curr.getNext())\n",
    "            curr.setNext(None)\n",
    "            curr = prev.getNext()\n",
    "\n",
    "llist = LinkedList()\n",
    "llist.add(1)\n",
    "llist.add(2)\n",
    "llist.add(3)\n",
    "llist.add(4)\n",
    "llist.add(5)\n",
    "llist.add(6)\n",
    "llist.add(3)\n",
    "llist.add(2)\n",
    "llist.add(7)\n",
    "llist.add(6)\n",
    "\n",
    "print(llist)\n",
    "removeDups(llist)\n",
    "print(llist)"
   ]
  },
  {
   "cell_type": "code",
   "execution_count": 75,
   "metadata": {},
   "outputs": [
    {
     "name": "stdout",
     "output_type": "stream",
     "text": [
      "Linked list[3, 6, 7, 2, 3, 5, 4, 1]\n",
      "Linked list[3, 6, 7, 2, 5, 4, 1]\n"
     ]
    }
   ],
   "source": [
    "# remove duplicates without buffer\n",
    "def removeDups2(llist):\n",
    "    slow = llist.head\n",
    "    while slow.getNext():\n",
    "        fast = slow.getNext()\n",
    "        prev = slow\n",
    "        value = slow.getData()\n",
    "        while fast:\n",
    "            if fast.getData() == value:\n",
    "                prev.setNext(fast.getNext())\n",
    "                fast.setNext(None)\n",
    "                fast = prev.getNext()\n",
    "            else:\n",
    "                prev = fast\n",
    "                fast = fast.getNext()\n",
    "        slow = slow.getNext()\n",
    "\n",
    "llist.add(3)\n",
    "print(llist)\n",
    "removeDups2(llist)\n",
    "print(llist)"
   ]
  },
  {
   "cell_type": "markdown",
   "metadata": {},
   "source": [
    "2.2 **Return Kth to Last:** Implement and algorithm to find the kth to last element of a singly linked list."
   ]
  },
  {
   "cell_type": "code",
   "execution_count": 76,
   "metadata": {},
   "outputs": [
    {
     "name": "stdout",
     "output_type": "stream",
     "text": [
      "Linked list[3, 6, 7, 2, 5, 4, 1]\n",
      "4\n",
      "5\n"
     ]
    }
   ],
   "source": [
    "# O(n + n - k) -> O(n)\n",
    "def kthLast(llist, k):\n",
    "    size = llist.size()    #O(n)\n",
    "    curr = llist.head\n",
    "    i = 1\n",
    "    while size-k > i:\n",
    "        curr = curr.next\n",
    "        i += 1\n",
    "    return curr.data\n",
    "\n",
    "print(llist)\n",
    "print(kthLast(llist, 1))\n",
    "print(kthLast(llist, 2))"
   ]
  },
  {
   "cell_type": "markdown",
   "metadata": {},
   "source": [
    "2.3 **Delete Middle Node:** Implement an algorithm to delete a node in the middle (i.e. any node but the first and last node, not necessarily the exact middle) of a singly linked list, given only access to that node."
   ]
  },
  {
   "cell_type": "code",
   "execution_count": null,
   "metadata": {},
   "outputs": [],
   "source": [
    "def deleteMid(llist, mid):\n",
    "    curr = llist.head\n",
    "    while curr.getNext():\n",
    "        if curr.getNext() == mid:\n",
    "            curr.setNext(mid.getNext())\n",
    "            mid.setNext(None)\n",
    "        else:\n",
    "            curr = curr.getNext()\n",
    "            \n"
   ]
  },
  {
   "cell_type": "markdown",
   "metadata": {},
   "source": [
    "2.4 **Partition:** Write code to partition a linked list around a value x, such that all nodes less than x come before all nodes greater than or equal to x. If x in contained within the list, the values of x only need to be after the elements less than x (see below). The partition element x can appear anywhere in the \"right partition\"; it does not need to appear between the left and right partitions."
   ]
  },
  {
   "cell_type": "code",
   "execution_count": 84,
   "metadata": {},
   "outputs": [
    {
     "name": "stdout",
     "output_type": "stream",
     "text": [
      "Linked list[6, 7, 2, 3, 5, 4, 1]\n",
      "Linked list[1, 4, 3, 2, 6, 7, 5]\n"
     ]
    }
   ],
   "source": [
    "# O(n)\n",
    "def partition(llist, partition):\n",
    "    curr = llist.head\n",
    "    smaller = []\n",
    "    if curr.getData() >= partition:\n",
    "        \n",
    "        while curr.next:\n",
    "            if curr.next.getData() < partition:\n",
    "                smaller.append(curr.next)\n",
    "                curr.next = curr.next.next\n",
    "            else:\n",
    "                curr = curr.next\n",
    "    else:\n",
    "        while curr.getData() < partition:\n",
    "            curr = curr.getNext()\n",
    "        while curr.next:\n",
    "            if curr.next.getData() < partition:\n",
    "                smaller.append(curr.next)\n",
    "                curr.next = curr.next.next\n",
    "            else:\n",
    "                curr = curr.next\n",
    "    for node in smaller:\n",
    "        llist.add(node)\n",
    "\n",
    "print(llist)\n",
    "partition(llist, 5)\n",
    "print(llist)"
   ]
  },
  {
   "cell_type": "markdown",
   "metadata": {},
   "source": [
    "2.5 **Sum Lists:** You have two numbers represented by a linked list, where each node contains a single digit. The digits are stored in reverse order, such that the 1's digit is at the head of the list. Write a function that adds the two numbers and returns the sum as a linked list."
   ]
  },
  {
   "cell_type": "code",
   "execution_count": null,
   "metadata": {},
   "outputs": [],
   "source": [
    "def sumList(llist1, llist2):\n",
    "    curr1 = llist1.head\n",
    "    curr2 = llist2.head\n",
    "    while curr1 or curr2:"
   ]
  }
 ],
 "metadata": {
  "kernelspec": {
   "display_name": "Python 3",
   "language": "python",
   "name": "python3"
  },
  "language_info": {
   "codemirror_mode": {
    "name": "ipython",
    "version": 3
   },
   "file_extension": ".py",
   "mimetype": "text/x-python",
   "name": "python",
   "nbconvert_exporter": "python",
   "pygments_lexer": "ipython3",
   "version": "3.7.3"
  }
 },
 "nbformat": 4,
 "nbformat_minor": 2
}
