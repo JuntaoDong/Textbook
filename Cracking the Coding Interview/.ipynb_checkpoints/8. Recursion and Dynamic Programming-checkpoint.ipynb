{
 "cells": [
  {
   "cell_type": "markdown",
   "metadata": {},
   "source": [
    "8.1 **Triple Step:** A child is running up a staircase with n steps and can hop either 1 step, 2 steps, or 3 steps at a time. Implement a method to count how many possible ways the child can run up the stairs."
   ]
  },
  {
   "cell_type": "code",
   "execution_count": 6,
   "metadata": {},
   "outputs": [
    {
     "data": {
      "text/plain": [
       "13"
      ]
     },
     "execution_count": 6,
     "metadata": {},
     "output_type": "execute_result"
    }
   ],
   "source": [
    "# O(n) Memoization\n",
    "def count_ways(n):\n",
    "    memo = [None] * (n + 1)\n",
    "    num_of_ways = count_ways_helper(n, memo)\n",
    "    return num_of_ways\n",
    "\n",
    "def count_ways_helper(n, memo):\n",
    "    if n < 0:\n",
    "        return 0\n",
    "    elif n == 0:\n",
    "        return 1\n",
    "    elif memo[n] != None:\n",
    "        return memo[n]\n",
    "    else:\n",
    "        memo[n] = count_ways_helper(n-1, memo) + count_ways_helper(n-2, memo) + count_ways_helper(n-3, memo)\n",
    "        return memo[n]\n",
    "    \n",
    "count_ways(5)"
   ]
  },
  {
   "cell_type": "markdown",
   "metadata": {},
   "source": [
    "8.2 **Robot in a Grid:** Imagine a robot sitting on the upper left corner of grid with r rows and c columns. The robot can only move in two directions, right and down, but certain cells are \"off limits\" such that the robot cannot step on them. Desgin an algorithm to find a path for the robot from the top left to the bottom right."
   ]
  },
  {
   "cell_type": "code",
   "execution_count": 16,
   "metadata": {},
   "outputs": [
    {
     "data": {
      "text/plain": [
       "[(0, 0),\n",
       " (0, 1),\n",
       " (0, 2),\n",
       " (0, 3),\n",
       " (1, 3),\n",
       " (2, 3),\n",
       " (2, 4),\n",
       " (2, 5),\n",
       " (2, 6),\n",
       " (3, 6)]"
      ]
     },
     "execution_count": 16,
     "metadata": {},
     "output_type": "execute_result"
    }
   ],
   "source": [
    "def find_path(maze):\n",
    "    path = []\n",
    "    failed_points = set()\n",
    "    find_path_helper(maze, len(maze)-1, len(maze[0])-1, path, failed_points)\n",
    "    return path\n",
    "\n",
    "def find_path_helper(maze, r, c, path, failed_points):\n",
    "    if r < 0 or c < 0 or maze[r][c] == 1:\n",
    "        return False \n",
    "    point = (r, c)\n",
    "    if point in failed_points:\n",
    "        return False\n",
    "    isOrigin = r == 0 and c == 0\n",
    "    if isOrigin or find_path_helper(maze, r-1, c, path, failed_points) or find_path_helper(maze, r, c-1, path, failed_points):\n",
    "        path.append(point)\n",
    "        return True\n",
    "    failed_points.add(point)\n",
    "    return False\n",
    "        \n",
    "        \n",
    "maze = [[0, 0, 0, 0, 0, 0, 1],\n",
    "        [0, 1, 1, 0, 1, 1, 0],\n",
    "        [0, 0, 1, 0, 0, 0, 0],\n",
    "        [1, 1, 0, 0, 0, 1, 0]]\n",
    "find_path(maze)"
   ]
  },
  {
   "cell_type": "markdown",
   "metadata": {},
   "source": [
    "8.3 **Magic Index:** A magic index in an array A[1...n-1] is defined to be an index such that A[i] = i. Given a sorted array of distinct integers, write a method to find a magic index, if one exists, in array A."
   ]
  },
  {
   "cell_type": "code",
   "execution_count": 20,
   "metadata": {},
   "outputs": [
    {
     "name": "stdout",
     "output_type": "stream",
     "text": [
      "7\n"
     ]
    }
   ],
   "source": [
    "def magic_index(sorted_lst):\n",
    "    return magic_index_helper(sorted_lst, 0, len(sorted_lst)-1)\n",
    "\n",
    "def magic_index_helper(lst, start, end):   \n",
    "    if start > end:\n",
    "        return None\n",
    "    mid = (start + end) // 2 \n",
    "    if lst[mid] == mid:\n",
    "        return mid\n",
    "    elif lst[mid] < mid:\n",
    "        return magic_index_helper(lst, mid+1, end)\n",
    "    else:\n",
    "        return magic_index_helper(lst, start, mid-1)\n",
    "    \n",
    "print(magic_index([-40, -20, -1, 1, 2, 3, 5, 7, 9, 12, 13]))"
   ]
  },
  {
   "cell_type": "markdown",
   "metadata": {},
   "source": [
    "**FOLLOW UP:** What if the values are not distinct?"
   ]
  },
  {
   "cell_type": "code",
   "execution_count": 35,
   "metadata": {},
   "outputs": [
    {
     "name": "stdout",
     "output_type": "stream",
     "text": [
      "2\n"
     ]
    }
   ],
   "source": [
    "# Follow up\n",
    "def magic_index2(lst):\n",
    "    return magic_index_helper2(lst, 0, len(lst)-1)\n",
    "def magic_index_helper2(lst, start, end):\n",
    "    if start > end:\n",
    "        return None\n",
    "    mid = (start + end) // 2\n",
    "    mid_value = lst[mid]\n",
    "    if mid == mid_value:\n",
    "        return mid\n",
    "    left_index = min(mid-1, mid_value)\n",
    "    if left_index >= 0:\n",
    "        return magic_index_helper2(lst, start, left_index)\n",
    "    right_index = max(mid+1, mid_value)\n",
    "    return magic_index_helper2(lst, right_index, end)\n",
    "\n",
    "print(magic_index2([-10, -5, 2, 2, 2, 3, 4, 7, 9, 12, 13]))"
   ]
  },
  {
   "cell_type": "markdown",
   "metadata": {},
   "source": [
    "8.4 **Power Set:** Write a method to return all subsets of a set."
   ]
  },
  {
   "cell_type": "code",
   "execution_count": null,
   "metadata": {},
   "outputs": [],
   "source": [
    "def sub_sets(alst):\n",
    "    l = len(alst)\n",
    "    result = []\n",
    "    result = sub_sets_helper(alst, l, result)\n",
    "    \n",
    "def sub_sets_helper(alst, l, result):\n",
    "    if l < 0:\n",
    "        return None\n",
    "    elif l == 0:\n",
    "        result.append([])\n",
    "    elif l == 1:\n",
    "        for item in alst:\n",
    "            result.append([item])\n",
    "    else:\n",
    "        sub_sets_helper(alst, l-1, result)\n",
    "        for subset in result:\n",
    "            result.append(subset.append(alst[]))"
   ]
  },
  {
   "cell_type": "markdown",
   "metadata": {},
   "source": [
    "8.5 **Recursive Multiply:** Write a recursive function to multiply two positive integers without using the * operator. You can use addition, subtraction, and bit shifting, but you should minimize the number of those operations.\n",
    "\n",
    "8.6 **Towers of Hanoi:** In the classic problem of the Towers of Hanoi, you have 3 towers and N disks of different sizes which can slide onto any tower. The puzzle starts with disks sorted in ascending order of size from top to bottom (i.e., each disk sits on top of an even larger one). You have the following constraints:\n",
    "\n",
    "(1)Only one disk can be moved at a time.\n",
    "\n",
    "(2) A disk is slid off the top of one tower onto another tower.\n",
    "\n",
    "(3) A disk cannot be placed on top of a smaller disk.\n",
    "\n",
    "Write a program to move the disks from the first tower to the last using stacks.\n",
    "\n",
    "8.7 **Permutations without Dups:** Write a method to compute all permutations of a string of unique characters.\n",
    "\n",
    "8.8 **Permutations with Dups:** Write a method to compute all permutations of a string whose characters are not necessarily unique. The list of permutations should not have duplicates.\n",
    "\n",
    "8.9 **Parens:** Implement an algorithm to print all valid (e.g., properly opened and closed) combinations of n pairs of parentheses.\n",
    "\n",
    "8.10 **Paint Fill:** Implement the \"paint fill\" function that one might see on many image editing programs. That is, given a screen (represented by a two-dimensional array of colors), a point, and a new color, fill in the surrounding area until the color changes from the original color.\n",
    "\n",
    "8.11 **Coins:** Given an infinite number of quaters (25 cents), dimes (10 cents), nickels (5 cents), and pennies (1 cent), write code to calculate the number of ways of representing n cents.\n",
    "\n",
    "8.12 **Eight Queens:** Write an algorithm to print all ways of arranging eight queens on an 8x8 chess board so that none of them share the same row, column, or diagonal. In this case, \"diagonal\" means all diagonals, not just the two that bisect the board.\n",
    "\n",
    "8.13 **Stack of Boxes:** You have a stack of n boxes, with widths wi, heights hi, and depths di. The boxes cannot be rotated and can only be stacked on top of one another if each box in the stack is strictly larger than the box above it in width, height, and depth. Implement a method to compute the height of the tallest possible stack. The height of a stack is the sum of the heights of each box.\n",
    "\n",
    "8.14 **Boolean Evaluation:** Given a boolean expression consisting of the symbols 0 (false), 1 (true), & (AND), | (OR), and ^ (XOR), and a desired boolean result value result, implement a function to count the number of ways of parenthesizing the expression such that it evaluates to result."
   ]
  }
 ],
 "metadata": {
  "kernelspec": {
   "display_name": "Python 3",
   "language": "python",
   "name": "python3"
  },
  "language_info": {
   "codemirror_mode": {
    "name": "ipython",
    "version": 3
   },
   "file_extension": ".py",
   "mimetype": "text/x-python",
   "name": "python",
   "nbconvert_exporter": "python",
   "pygments_lexer": "ipython3",
   "version": "3.7.3"
  }
 },
 "nbformat": 4,
 "nbformat_minor": 2
}
