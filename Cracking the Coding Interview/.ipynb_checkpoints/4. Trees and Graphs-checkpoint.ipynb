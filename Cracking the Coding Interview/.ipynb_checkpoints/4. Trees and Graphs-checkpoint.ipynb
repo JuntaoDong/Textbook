{
 "cells": [
  {
   "cell_type": "code",
   "execution_count": 6,
   "metadata": {},
   "outputs": [],
   "source": [
    "class Vertex:\n",
    "    def __init__(self, key):\n",
    "        self.id = key\n",
    "        self.connectedTo = []\n",
    "        self.marked = False\n",
    "    def __str__(self):\n",
    "        return self.id+': '+str(self.connectedTo)\n",
    "    def addNeighbor(self, nbr):\n",
    "        self.connectedTo.append(nbr)\n",
    "    def getConnections(self):\n",
    "        return self.connectedTo\n",
    "    def getId(self):\n",
    "        return self.id\n",
    "\n",
    "class Graph:\n",
    "    def __init__(self):\n",
    "        self.vertList = {} # key: Vertex object\n",
    "        self.numVertices = 0\n",
    "    def addVertex(self, key):\n",
    "        self.numVertices += 1\n",
    "        newVert = Vertex(key)\n",
    "        self.vertList[key] = newVert\n",
    "        return newVert\n",
    "    def addEdge(self, f, t):\n",
    "        if f not in self.vertList:\n",
    "            self.addVertex(f)\n",
    "        if t not in self.vertList:\n",
    "            self.addVertex(t)\n",
    "        self.vertList[f].addNeighbor(self.vertList[t])\n",
    "    def getVertex(self, n):\n",
    "        if n in self.vertList:\n",
    "            return self.vertList[n]\n",
    "        else:\n",
    "            return None\n",
    "    def __contains__(self, n):\n",
    "        return n in self.vertList\n",
    "    def getVertices(self):\n",
    "        self.vertList.keys()\n",
    "    def __iter__(self):\n",
    "        return iter(self.vertList.values())\n",
    "\n",
    "class Queue:\n",
    "    def __init__(self):\n",
    "        self.items = []\n",
    "    def enqueue(self, item):\n",
    "        self.items.append(item)\n",
    "    def dequeue(self):\n",
    "        return self.items.pop(0)\n",
    "    def peek(self):\n",
    "        return self.items[0]\n",
    "    def isEmpty(self):\n",
    "        return self.items==[]"
   ]
  },
  {
   "cell_type": "markdown",
   "metadata": {},
   "source": [
    "4.1 **Route Between Nodes:** Given a directed graph, design an algorithm to find out whether there is a route between two nodes."
   ]
  },
  {
   "cell_type": "code",
   "execution_count": 9,
   "metadata": {},
   "outputs": [
    {
     "data": {
      "text/plain": [
       "False"
      ]
     },
     "execution_count": 9,
     "metadata": {},
     "output_type": "execute_result"
    }
   ],
   "source": [
    "#BFS: use queue and iteration\n",
    "def findRoute(n1, n2):\n",
    "    if n1 == n2:\n",
    "        return True\n",
    "    queue = Queue()\n",
    "    n1.marked = True\n",
    "    queue.enqueue(n1)\n",
    "    \n",
    "    while not queue.isEmpty():\n",
    "        r = queue.dequeue()\n",
    "        for nbr in r.connectedTo:\n",
    "            if nbr.marked == False:\n",
    "                nbr.marked = True\n",
    "                if nbr == n2:\n",
    "                    return True\n",
    "                else:\n",
    "                    queue.enqueue(nbr)\n",
    "    return False\n",
    "\n",
    "g = Graph()\n",
    "v0 = g.addVertex(0)\n",
    "v1 = g.addVertex(1)\n",
    "v2 = g.addVertex(2)\n",
    "v3 = g.addVertex(3)\n",
    "v4 = g.addVertex(4)\n",
    "g.addEdge(0,4)\n",
    "g.addEdge(1,4)\n",
    "g.addEdge(3,2)\n",
    "g.addEdge(4,2)\n",
    "g.addEdge(2,0)\n",
    "findRoute(v0,v3)"
   ]
  },
  {
   "cell_type": "markdown",
   "metadata": {},
   "source": [
    "4.2 **Minimal Tree:** Given a sorted (increasing order) array with unique integer elements, write an algorithm to create a binary search tree with minimal height."
   ]
  },
  {
   "cell_type": "code",
   "execution_count": 68,
   "metadata": {},
   "outputs": [],
   "source": [
    "class TreeNode:\n",
    "    def __init__(self, key):\n",
    "        self.key = key\n",
    "        self.left = None\n",
    "        self.right = None\n",
    "        self.parent = None\n",
    "        \n",
    "def minBST(sortedLst):\n",
    "    if sortedLst == []:\n",
    "        return None\n",
    "    mid = len(sortedLst) // 2\n",
    "    newNode = TreeNode(sortedLst[mid])\n",
    "    newNode.left = minBST(sortedLst[:mid])\n",
    "    newNode.right = minBST(sortedLst[mid+1:])\n",
    "    return newNode\n"
   ]
  },
  {
   "cell_type": "markdown",
   "metadata": {},
   "source": [
    "4.3 **List of Depths:** Given a binary tree, design an algorithm which creates a linked list of all the nodes at each depth (e.g., if you have a tree with depth D, you'll have D linked lists)."
   ]
  },
  {
   "cell_type": "code",
   "execution_count": 21,
   "metadata": {},
   "outputs": [],
   "source": [
    "def ListOfDepth(root):\n",
    "    if root == None:\n",
    "        return None\n",
    "    # root level\n",
    "    lists = []\n",
    "    LinkedList_curr = []\n",
    "    LinkedList_next = []\n",
    "    LinkedList_curr.append(root)\n",
    "    lists.append(LinkedList_curr)\n",
    "    # level by level traversal\n",
    "    while LinkedList_curr != []:\n",
    "        for node in LinkedList_curr:\n",
    "            if node.left:\n",
    "                LinkedList_next.append(node.left)\n",
    "            if node.right:\n",
    "                LinkedList_next.append(node.right)\n",
    "        LinkedList_curr = LinkedList_next\n",
    "        lists.append(LinkedList_curr)\n",
    "        LinkedList_next = []\n",
    "    return lists"
   ]
  },
  {
   "cell_type": "markdown",
   "metadata": {},
   "source": [
    "4.4 **Check Balanced:** Implement a function to check if a binary tree is balanced. For the purposes of this question, a balanced tree is defined to be a tree such that the heights of the two subtrees of any node never differ by more than one."
   ]
  },
  {
   "cell_type": "code",
   "execution_count": 69,
   "metadata": {},
   "outputs": [],
   "source": [
    "def getHeight(root):\n",
    "    if root is None:\n",
    "        return -1\n",
    "    leftHeight = getHeight(root.left)\n",
    "    rightHeight = getHeight(root.right)\n",
    "    if leftHeight == -2:\n",
    "        return -2\n",
    "    if rightHeight == -2:\n",
    "        return -2\n",
    "    if abs(leftHeight - rightHeight) > 1:\n",
    "        return -2\n",
    "    else:\n",
    "        return max(leftHeight, rightHeight) + 1\n",
    "    \n",
    "def isBalanced(root):\n",
    "    return getHeight(root) != -2\n"
   ]
  },
  {
   "cell_type": "markdown",
   "metadata": {},
   "source": [
    "4.5 **Validate BST:** Implement a function to check if a binary tree is a binary search tree."
   ]
  },
  {
   "cell_type": "code",
   "execution_count": 29,
   "metadata": {},
   "outputs": [],
   "source": [
    "# in-order traversal\n",
    "# one issue is that i cannot handle duplicate values\n",
    "def inorder(root, lst=[]):\n",
    "    if root is None:\n",
    "        return None\n",
    "    inorder(root.left, lst)\n",
    "    lst.append(root.key)\n",
    "    inorder(root.right, lst)\n",
    "    return lst\n",
    "\n",
    "def validateBST(root):\n",
    "    lst = inorder(root)\n",
    "    i = 0\n",
    "    while i < len(lst) - 1:\n",
    "        if lst[i] > lst[i+1]:\n",
    "            return False\n",
    "        i += 1\n",
    "    return True\n",
    "        "
   ]
  },
  {
   "cell_type": "code",
   "execution_count": 56,
   "metadata": {},
   "outputs": [],
   "source": [
    "# in-order wihtout using addtional list\n",
    "latest = None # global variable\n",
    "def validateBST2(root):\n",
    "    global latest\n",
    "    if root is None:\n",
    "        return True\n",
    "    # pass error info from the bottom to the top\n",
    "    if not validateBST2(root.left):\n",
    "        return False\n",
    "    if latest != None and root.key < latest:\n",
    "        return False\n",
    "    latest = root.key \n",
    "    if not validateBST2(root.right):\n",
    "        return False\n",
    "    return True"
   ]
  },
  {
   "cell_type": "code",
   "execution_count": 65,
   "metadata": {},
   "outputs": [],
   "source": [
    "# Best solution: the min/max solution\n",
    "def validateBST3(root, bot=None, top=None):\n",
    "    if root == None:\n",
    "        return True\n",
    "    if (bot!=None and root.key<=bot) or (top!=None and root.key>top):\n",
    "        return False\n",
    "    if (not validateBST3(root.left, top=root.key)) or (not validateBST3(root.right, bot=root.key)):\n",
    "        return False\n",
    "    return True"
   ]
  },
  {
   "cell_type": "markdown",
   "metadata": {},
   "source": [
    "4.6 **Successor:** Write an algorithm to find the \"next\" node (i.e., in-order successor) of a given node in a binary search tree. You may assume that each node has a link to its parent."
   ]
  },
  {
   "cell_type": "code",
   "execution_count": 83,
   "metadata": {},
   "outputs": [
    {
     "name": "stdout",
     "output_type": "stream",
     "text": [
      "<__main__.TreeNode object at 0x0000017C96582CC0>\n"
     ]
    }
   ],
   "source": [
    "def successor(treenode):\n",
    "    if treenode == None:\n",
    "        return None\n",
    "    if treenode.right:\n",
    "        curr = treenode.right\n",
    "        while curr.left:\n",
    "            curr = curr.left\n",
    "        return curr\n",
    "    else:\n",
    "        curr = treenode\n",
    "        while curr.parent.left != curr:\n",
    "            curr = curr.parent\n",
    "            if curr.parent == None:\n",
    "                return None\n",
    "        return curr.parent\n",
    "            \n",
    "        \n",
    "\n",
    "root = TreeNode(5)\n",
    "root.left = TreeNode(3)\n",
    "root.left.parent = root\n",
    "root.left.right = TreeNode(4)\n",
    "root.left.right.parent = root.left\n",
    "root.right = TreeNode(8)\n",
    "root.right.parent = root\n",
    "root.left.left = TreeNode(1)\n",
    "root.left.left.parent = root.left\n",
    "#root.left.left.left = TreeNode(3)\n",
    "a = successor(root.left)\n",
    "print(a)"
   ]
  },
  {
   "cell_type": "markdown",
   "metadata": {},
   "source": [
    "4.7 **Build Order:** You are given a list of projects and a list of dependencies (which is a list of pairs of projects, where the second project is dependent on the first project). All of a project's dependencies must be built before the project is. Find a build order that will allow the projects to be built. If there is no valid build order, return an error."
   ]
  },
  {
   "cell_type": "code",
   "execution_count": null,
   "metadata": {},
   "outputs": [],
   "source": [
    "def buildOrder(projects, dependencies):\n",
    "    g = Graph()\n",
    "    for p in projects:\n",
    "        g.addVertex(p)\n",
    "    for p1, p2 in enumerate(dependencies):\n",
    "        g.addEdge(p1, p2)"
   ]
  },
  {
   "cell_type": "markdown",
   "metadata": {},
   "source": [
    "4.8 **First Common Ancestor:** Design an algorithm and write code to find the first common ancestor of two nodes in a binary tree. Avoid storing additional nodes in a data structure. NOTE: This is not necessarily a binary search tree."
   ]
  },
  {
   "cell_type": "markdown",
   "metadata": {},
   "source": [
    "4.9 **BST Sequences:** A binary search tree was created by traversing through an array from left to right and inserting each element. Given a binary search tree with distinct elements, print all possible arrays that could have let to this tree."
   ]
  },
  {
   "cell_type": "markdown",
   "metadata": {},
   "source": [
    "4.10 **Check Subtree:** T1 and T2 are two very large binary trees, with T1 much bigger than T2. Create an algorithm to determine if T2 is a subtree of T1."
   ]
  },
  {
   "cell_type": "markdown",
   "metadata": {},
   "source": [
    "4.11 **Random Node:** You are implementing a binary tree class from scratch which, in addition to insert, find, and delete, has a method getRandomNode() which returns a random node from the tree. All nodes should be equally likely to be chosen. Design and implement an algorithm for getRandomNode, and explain how you would implement the rest of the methods."
   ]
  },
  {
   "cell_type": "markdown",
   "metadata": {},
   "source": [
    "4.12 **Paths with Sum:** You are given a binary tree in which each node contains an integer value (which might be positive or negative). Desgin an algorithm to count the number of paths that sum to a given value. The path does not need to start or end at the root or a leaf, but it must go downwards (traveling only from parent nodes to child nodes)."
   ]
  }
 ],
 "metadata": {
  "kernelspec": {
   "display_name": "Python 3",
   "language": "python",
   "name": "python3"
  },
  "language_info": {
   "codemirror_mode": {
    "name": "ipython",
    "version": 3
   },
   "file_extension": ".py",
   "mimetype": "text/x-python",
   "name": "python",
   "nbconvert_exporter": "python",
   "pygments_lexer": "ipython3",
   "version": "3.7.3"
  }
 },
 "nbformat": 4,
 "nbformat_minor": 2
}
