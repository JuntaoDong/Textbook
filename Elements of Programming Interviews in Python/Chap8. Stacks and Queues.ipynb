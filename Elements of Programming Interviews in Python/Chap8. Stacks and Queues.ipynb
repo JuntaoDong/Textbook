{
 "cells": [
  {
   "cell_type": "markdown",
   "metadata": {},
   "source": [
    "1, 6, 2, 7, 3, 8, 4\n",
    "### 8.1 Implement a Stack with Max API\n",
    "\n",
    "Design a stack that includes a max operation, in addition to push and pop. The max method should return the maximum value stored in the stack."
   ]
  },
  {
   "cell_type": "code",
   "execution_count": null,
   "metadata": {},
   "outputs": [],
   "source": [
    "class Stack:\n",
    "    def __init__(self):\n",
    "        self.items = []\n",
    "        self.max_record = []\n",
    "    \n",
    "    def isEmpty(self):\n",
    "        return self.items == []\n",
    "    \n",
    "    def push(self, item):\n",
    "        self.items.append(item)\n",
    "        if self.max_record[-1] < item:\n",
    "            self.max_record.append(item)\n",
    "        else:\n",
    "            self.max_record.append(self.max_record[-1])\n",
    "        \n",
    "    def pop(self):\n",
    "        if self.isEmpty():\n",
    "            raise IndexError('Empty stack')\n",
    "        self.max_record.pop()\n",
    "        return self.items.pop()\n",
    "    \n",
    "    def stack_with_max(self):\n",
    "        if self.isEmpty():\n",
    "            raise IndexError('Empty stack')\n",
    "        return self.max_record[-1]"
   ]
  },
  {
   "cell_type": "markdown",
   "metadata": {},
   "source": [
    "### 8.6 Compute Binary Tree Nodes in Order of Increasing Depth\n",
    "\n",
    "Given a binary tree, return an array consisting of the keys at the same level. Keys should appear in the order of the corresponding nodes' depths, breaking ties from left to right."
   ]
  },
  {
   "cell_type": "code",
   "execution_count": null,
   "metadata": {},
   "outputs": [],
   "source": [
    "def tree_depth(root):\n",
    "    result = []\n",
    "    if not root:\n",
    "        return result\n",
    "    curr_depth_nodes = [root]\n",
    "    while curr_depth_nodes:\n",
    "        result.append([node.data for node in curr_depth_nodes])\n",
    "        curr_depth_nodes = [child for curr in curr_depth_nodes for child in (curr.left, curr.right) if child]\n",
    "    return result\n",
    "    "
   ]
  },
  {
   "cell_type": "markdown",
   "metadata": {},
   "source": [
    "### 8.2 Evaluate RPN Expressions\n",
    "\n",
    "Write a program that takes an arithmetical expression in RPN and returns the number that the expression evaluates to."
   ]
  },
  {
   "cell_type": "code",
   "execution_count": 4,
   "metadata": {},
   "outputs": [],
   "source": [
    "def evaluate_RPN(RPN):\n",
    "    stack = []\n",
    "    opers = {'+': lambda y, x: x + y, '-': lambda y, x: x - y, '*': lambda y, x: x * y, '/': lambda y, x: x / y}\n",
    "    for item in RPN.strip().split(','):\n",
    "        if item in opers:\n",
    "            stack.append(opers[item](stack.pop(), stack.pop()))\n",
    "        else:\n",
    "            stack.append(int(item))\n",
    "    return stack[0]"
   ]
  },
  {
   "cell_type": "markdown",
   "metadata": {},
   "source": [
    "### 8.7 Implement a Circular Queue\n",
    "\n",
    "Implement a queue API using an array for storing elements. Your API should include a constructor function, which takes as argument the initial capacity of the queue, enqueue and dequeue functions, and a function which returns the number of elements stored. Implement dynamic resizing to support storing an arbitrarily large number of elements."
   ]
  },
  {
   "cell_type": "code",
   "execution_count": 14,
   "metadata": {},
   "outputs": [
    {
     "name": "stdout",
     "output_type": "stream",
     "text": [
      "[0, None, None]\n",
      "[3, 0, 1, 2]\n",
      "1\n",
      "1\n",
      "[3, None, 1, 2]\n",
      "3\n"
     ]
    }
   ],
   "source": [
    "class Queue:\n",
    "    def __init__(self, capacity):\n",
    "        self.entries = [None] * capacity\n",
    "        self.head = 0\n",
    "        self.tail = 0\n",
    "        self.num_of_elements = 0\n",
    "        \n",
    "    def enqueue(self, data):\n",
    "        # resizing\n",
    "        if self.head == self.tail and self.num_of_elements > 0:\n",
    "            self.entries.insert(self.tail, data)\n",
    "            self.head += 1\n",
    "            self.tail += 1\n",
    "            self.head %= len(self.entries)\n",
    "            self.tail %= len(self.entries)\n",
    "            \n",
    "        else:\n",
    "            self.entries[self.tail] = data\n",
    "            self.tail += 1\n",
    "            self.tail %= len(self.entries)\n",
    "        self.num_of_elements += 1\n",
    "    \n",
    "    def dequeue(self):\n",
    "        result = self.entries[self.head]\n",
    "        self.entries[self.head] = None\n",
    "        self.head += 1\n",
    "        self.head %= len(self.entries)\n",
    "        self.num_of_elements -= 1\n",
    "        return result\n",
    "    \n",
    "    def __len__(self):\n",
    "        return self.num_of_elements\n",
    "    \n",
    "t = Queue(3)\n",
    "t.enqueue(0)\n",
    "print(t.entries)\n",
    "t.enqueue(1)\n",
    "t.enqueue(2)\n",
    "t.enqueue(3)\n",
    "print(t.entries)\n",
    "print(t.head) \n",
    "print(t.tail)\n",
    "t.dequeue()\n",
    "print(t.entries)\n",
    "print(len(t))"
   ]
  },
  {
   "cell_type": "markdown",
   "metadata": {},
   "source": [
    "### 8.3 Test a String Over \"{,},(,),[,]\" for Well-Formedness\n",
    "\n",
    "Write a program that tests if a string made up of the characters '(',')','[',']',\"{'and\"}' is well-formed."
   ]
  },
  {
   "cell_type": "code",
   "execution_count": 18,
   "metadata": {},
   "outputs": [
    {
     "data": {
      "text/plain": [
       "False"
      ]
     },
     "execution_count": 18,
     "metadata": {},
     "output_type": "execute_result"
    }
   ],
   "source": [
    "def test_well_formed(string):\n",
    "    mapping = {'[': ']', '(': ')', '{': '}'}\n",
    "    stack = []\n",
    "    for i in string:\n",
    "        if i in mapping:\n",
    "            stack.append(i)\n",
    "        elif stack == [] or mapping[stack.pop()] != i:\n",
    "            return False\n",
    "    return not stack            "
   ]
  },
  {
   "cell_type": "markdown",
   "metadata": {},
   "source": [
    "### 8.8 Implement a Queue Using Stacks\n",
    "\n",
    "Implement a queue given a library implementing stacks."
   ]
  },
  {
   "cell_type": "code",
   "execution_count": 19,
   "metadata": {},
   "outputs": [],
   "source": [
    "class Queue:\n",
    "    def __init__(self):\n",
    "        self.inStack = []\n",
    "        self.outStack = []\n",
    "    \n",
    "    def isEmpty(self):\n",
    "        return not (self.inStack or self.outStack)\n",
    "    \n",
    "    def enqueue(self, data):\n",
    "        self.inStack.append(data)\n",
    "        \n",
    "    def dequeue(self):\n",
    "        if self.isEmpty():\n",
    "            raise IndexError('Empty queue')\n",
    "        if self.outStack == []:\n",
    "            for _ in range(len(self.inStack)):\n",
    "                self.outStack.append(self.inStack.pop())\n",
    "        return self.outStack.pop()"
   ]
  },
  {
   "cell_type": "markdown",
   "metadata": {},
   "source": [
    "### 8.4 Normalize Pathnames\n",
    "\n",
    "Write a program which takes a pathname, and returns the shortest equivalent pathname. Assume indidual directories and files have names that use only alphanumeric characters. Subdirectory names may be combined using forward slashes (/), the current directory (.), and parent directory (..)."
   ]
  },
  {
   "cell_type": "code",
   "execution_count": 35,
   "metadata": {},
   "outputs": [
    {
     "data": {
      "text/plain": [
       "'/tc/awk'"
      ]
     },
     "execution_count": 35,
     "metadata": {},
     "output_type": "execute_result"
    }
   ],
   "source": [
    "def normalize_pathnames(path):\n",
    "    stack = []\n",
    "    if path[0] == '/':\n",
    "        stack.append('/')\n",
    "    for name in [name for name in path.strip().split('/') if name not in ['.', '']]:\n",
    "        if name == '..':\n",
    "            if not stack or stack[-1] == '..':\n",
    "                stack.append(name)\n",
    "            else:\n",
    "                if stack[-1] == '/':\n",
    "                    raise ValueError('Wrong path')\n",
    "                else:\n",
    "                    stack.pop()\n",
    "        else:\n",
    "            stack.append(name)\n",
    "    result = '/'.join(stack)\n",
    "    return result[result.startswith('//'):]"
   ]
  }
 ],
 "metadata": {
  "kernelspec": {
   "display_name": "Python 3",
   "language": "python",
   "name": "python3"
  },
  "language_info": {
   "codemirror_mode": {
    "name": "ipython",
    "version": 3
   },
   "file_extension": ".py",
   "mimetype": "text/x-python",
   "name": "python",
   "nbconvert_exporter": "python",
   "pygments_lexer": "ipython3",
   "version": "3.7.3"
  }
 },
 "nbformat": 4,
 "nbformat_minor": 2
}
