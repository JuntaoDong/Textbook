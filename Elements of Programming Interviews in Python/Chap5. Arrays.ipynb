{
 "cells": [
  {
   "cell_type": "markdown",
   "metadata": {},
   "source": [
    "# Array Boot Camp\n",
    "\n",
    "![51](./screenshots/Chap51.PNG)\n",
    "\n",
    "![52](\\screenshots\\Chap52.PNG)\n",
    "\n",
    "### 5.1 The Dutch National Flag Problem\n",
    "**Write a program that takes an array A and an index i into A, and rearranges the elements such that all elements less than A[i] (the \"pivot\") appear first, followed by elements equal to the pivot, followed by elements greater than the pivot.**\n",
    "#Quicksort #Pivot"
   ]
  },
  {
   "cell_type": "code",
   "execution_count": null,
   "metadata": {},
   "outputs": [],
   "source": [
    "# Time O(n)\n",
    "# Space O(1)\n",
    "def dutchFlag(alist, pivotIndex):\n",
    "    pivot = alist[pivotIndex]\n",
    "    smaller = 0\n",
    "    for i in range(len(alist)):\n",
    "        if alist[i] < pivot:\n",
    "            alist[i], alist[smaller] = alist[smaller], alist[i]\n",
    "            smaller += 1\n",
    "    larger = len(alist) - 1\n",
    "    for j in reversed(range(len(alist))):\n",
    "        if alist[j] > pivot:\n",
    "            alist[j], alist[larger] = alist[larger], alist[j]\n",
    "            larger -= 1\n",
    "        elif alist[j] < pivot:\n",
    "            break\n",
    "            "
   ]
  },
  {
   "cell_type": "code",
   "execution_count": null,
   "metadata": {},
   "outputs": [],
   "source": [
    "def dutchFlag2(alist, pivotIndex):\n",
    "    pivot = alist[pivotIndex]\n",
    "    bottom, equal = 0, 0\n",
    "    top = len(alist) - 1\n",
    "    while equal < top:\n",
    "        if alist[equal] < pivot:\n",
    "            alist[bottom], alist[equal] = alist[equal], alist[bottom]\n",
    "            bottom += 1\n",
    "            equal += 1\n",
    "        elif alist[equal] = pivot:\n",
    "            equal += 1\n",
    "        else:\n",
    "            alist[top], alist[equal] = alist[equal], alist[top]\n",
    "            top -= 1"
   ]
  },
  {
   "cell_type": "markdown",
   "metadata": {},
   "source": [
    "### 5.6 Buy and Sell a Stock Once\n",
    "**Write a program that takes an array denoting the daily stock price, and returns the maximum profit that could be made by buying and then selling one share of that stock. There is no need to buy if no profit is possible.**"
   ]
  },
  {
   "cell_type": "code",
   "execution_count": 45,
   "metadata": {},
   "outputs": [],
   "source": [
    "# Brute force\n",
    "def maxProfit(lst):\n",
    "    for i in range(len(lst)):\n",
    "        max_profit = 0\n",
    "        for j in range(i, len(lst)):\n",
    "            if lst[j] - lst[i] > max_profit:\n",
    "                max_profit = lst[j] - lst[i]\n",
    "        lst[i] = max_profit\n",
    "    return max(lst)"
   ]
  },
  {
   "cell_type": "code",
   "execution_count": 48,
   "metadata": {},
   "outputs": [],
   "source": [
    "def maxProfit2(lst):\n",
    "    min_price_so_far = float('inf')\n",
    "    max_profit = 0\n",
    "    for price in lst:\n",
    "        profit_today = price - min_price_so_far\n",
    "        max_profit = max(profit_today, max_profit)\n",
    "        min_price_so_far = min(price, min_price_so_far)\n",
    "    return max_profit"
   ]
  },
  {
   "cell_type": "markdown",
   "metadata": {},
   "source": [
    "### 5.12 Sample Offline Data\n",
    "**Implement an algorithm that takes as input an array of distinct elements and a size, and returns a subset of the given size of the array elements. All subsets should be equally likely. Return the result in input array itself.**"
   ]
  },
  {
   "cell_type": "code",
   "execution_count": 52,
   "metadata": {},
   "outputs": [],
   "source": [
    "import random\n",
    "def sample(lst, size):\n",
    "    for i in range(size):\n",
    "        rand_index = random.randint(i, len(lst)-1)\n",
    "        lst[i], lst[rand_index] = lst[rand_index], lst[i]\n",
    "    return lst[:size]"
   ]
  },
  {
   "cell_type": "markdown",
   "metadata": {},
   "source": [
    "### 5.18 Compute the Spiral Ordering of a 2D Array\n",
    "**Write a program which takes an nxn 2D array and returns the spiral ordering of the array.**"
   ]
  },
  {
   "cell_type": "code",
   "execution_count": 67,
   "metadata": {},
   "outputs": [
    {
     "data": {
      "text/plain": [
       "[1, 2, 3, 4, 8, 12, 16, 15, 14, 13, 9, 5, 6, 7, 11, 10]"
      ]
     },
     "execution_count": 67,
     "metadata": {},
     "output_type": "execute_result"
    }
   ],
   "source": [
    "#O(n^2)\n",
    "def spiralArray(arr, offset=0):\n",
    "    spiral = []\n",
    "    n = len(arr)\n",
    "    if n // 2 > offset:\n",
    "        spiral = arr[offset][offset:n-1-offset]\n",
    "        for i in range(offset, n-1-offset):\n",
    "            spiral.append(arr[i][-1-offset])\n",
    "        for j in range(n-1-offset, offset, -1):\n",
    "            spiral.append(arr[-1-offset][j])\n",
    "        for k in range(n-1-offset, offset, -1):\n",
    "            spiral.append(arr[k][offset])\n",
    "        offset += 1\n",
    "        return spiral + spiralArray(arr, offset)\n",
    "        \n",
    "    else:\n",
    "        if n % 2 == 1:\n",
    "            return [arr[offset][offset]]\n",
    "        else:\n",
    "            return []\n",
    "    \n",
    "\n",
    "spiralArray([[1,2,3,4],[5,6,7,8],[9,10,11,12],[13,14,15,16]])"
   ]
  },
  {
   "cell_type": "markdown",
   "metadata": {},
   "source": [
    "### 5.2 Increment an Arbitrary-Precision Integer\n",
    "**Write a program which takes as input an array of digits encoding a nonnegative decimal integer D and updates the array to represent the integer D + 1. For example, if the input is <1,2,9> then you should update the array to <1,3,0>. Your algorithm should work eve if it is implemented in a language that has finite-precision arithmetic.**"
   ]
  },
  {
   "cell_type": "code",
   "execution_count": 5,
   "metadata": {},
   "outputs": [
    {
     "data": {
      "text/plain": [
       "[1, 0, 0, 0]"
      ]
     },
     "execution_count": 5,
     "metadata": {},
     "output_type": "execute_result"
    }
   ],
   "source": [
    "# Time O(n)\n",
    "# Space O(1)\n",
    "def plusOne(alist):\n",
    "    carry = 1\n",
    "    for i in reversed(range(len(alist))):\n",
    "        value = alist[i] + carry\n",
    "        if value != 10:\n",
    "            alist[i] = value\n",
    "            carry = 0\n",
    "            break\n",
    "        else:\n",
    "            alist[i] = 0\n",
    "            carry = 1\n",
    "    if carry == 1:\n",
    "        alist.append(carry)\n",
    "        alist[0], alist[-1] = alist[-1], alist[0]\n",
    "    return alist\n",
    "\n",
    "a = [9,9,9]\n",
    "plusOne(a)"
   ]
  },
  {
   "cell_type": "markdown",
   "metadata": {},
   "source": [
    "### 5.17 The Soduku Checker Problem\n",
    "**Check whether a 9 x 9 2D array representing a partially completed Sudoku is valid. Specifically, check that no row, column, or 3 x 3 2D subarray containss duplicates. A 0-value in the 2D array indicates that entry is blank; every other entry is in [1,9].**"
   ]
  },
  {
   "cell_type": "code",
   "execution_count": 68,
   "metadata": {},
   "outputs": [],
   "source": [
    "import math\n",
    "def sodukuChecker(sudoku):\n",
    "    def hasDuplicate(block):\n",
    "        block = list(filter(lambda x: x!=0, block))\n",
    "        return len(block) == len(set(block))\n",
    "    n = len(sudoku)\n",
    "    # check rows and columns\n",
    "    if any(hasDuplicate([sudoku[i][j] for j in range(n)])\n",
    "          or hasDuplicate([sudoku[j][i] for j in range(n)])\n",
    "          for i in range(n)):\n",
    "        return False\n",
    "    # check sub blocks\n",
    "    sub_size = int(math.sqrt(n))\n",
    "    return all(not hasDuplicate([\n",
    "        sudoku[a][b]\n",
    "        for a in range(sub_size * I, sub_size * (I + 1))\n",
    "        for b in range(sub_size * J, sub_size * (J + 1))])\n",
    "        for I in range(sub_size)\n",
    "        for J in range(sub_size))"
   ]
  },
  {
   "cell_type": "markdown",
   "metadata": {},
   "source": [
    "### 5.5 Delete Duplicates from a Sorted Array\n",
    "**Write a program which takes as input a sorted array and updates it so that all duplicates have been removed and the remaining elements have been shifted left to fill the emptied indices. Retrun the number of valid elements.**"
   ]
  },
  {
   "cell_type": "code",
   "execution_count": null,
   "metadata": {},
   "outputs": [],
   "source": [
    "def delDuplicate(sortLst):\n",
    "    diff_i = 1\n",
    "    for i in range(1, len(sortLst)):\n",
    "        if sorLst[i] != sortLst[i-1]:\n",
    "            sortLst[diff_i] = sortLst[i]\n",
    "            diff_i += 1\n",
    "    return diff_i"
   ]
  },
  {
   "cell_type": "markdown",
   "metadata": {},
   "source": [
    "### 5.9 Enumerate All Primes to n\n",
    "**Write a program that takes an integer argument and returns all the primes between 1 and that integer. For example, if the input is 18, you should return <2,3,5,7,11,13,17>.**"
   ]
  },
  {
   "cell_type": "code",
   "execution_count": 70,
   "metadata": {},
   "outputs": [],
   "source": [
    "# remove all the multiples of primes to get all the primes within a range\n",
    "def primes(n):\n",
    "    is_prime = [False, False] + [True] * (n - 2)\n",
    "    result = []\n",
    "    for i in range(2, len(is_prime)):\n",
    "        if is_prime[i]:\n",
    "            result.append(i)\n",
    "        for j in range(i, len(is_prime), i):\n",
    "            is_prime[j] = False\n",
    "    return result"
   ]
  },
  {
   "cell_type": "markdown",
   "metadata": {},
   "source": [
    "### 5.3 Multiply Two Arbitrary-Precision Integers\n",
    "**Write a program that takes two arrays representing integeres, and returns an integer representing their product. For example, since 193707721 x -761838257287 = -147573952589676412927, if the inputs are <1,9,3,7,0,7,7,2,1> and <-7,6,1,8,3,8,2,5,7,2,8,7>, your function should return <-1,4,7,5,7,3,9,5,2,5,8,9,6,7,6,4,1,2,9,2,7>.**"
   ]
  },
  {
   "cell_type": "code",
   "execution_count": 43,
   "metadata": {},
   "outputs": [
    {
     "name": "stdout",
     "output_type": "stream",
     "text": [
      "[-1, 4, 7, 5, 7, 3, 9, 5, 2, 5, 8, 9, 6, 7, 6, 4, 1, 2, 9, 2, 7]\n"
     ]
    }
   ],
   "source": [
    "# O(mn)\n",
    "def multiplyLsts(l1, l2):\n",
    "    count = 0\n",
    "    final = [0] * (len(l1) + len(l2))\n",
    "    if l1[0] * l2[0] < 0:\n",
    "        negative = True\n",
    "    else:\n",
    "        negative = False\n",
    "    l1[0], l2[0] = abs(l1[0]), abs(l2[0])\n",
    "        \n",
    "    for i in reversed(range(len(l1))):\n",
    "        for j in reversed(range(len(l2))):\n",
    "            final[i+j+1] += l1[i] * l2[j]\n",
    "            final[i+j] += final[i+j+1] // 10\n",
    "            final[i+j+1] %= 10\n",
    "    final = final[next((i for i, x in enumerate(final) if x != 0), len(final)):] or [0]\n",
    "    if negative == True:\n",
    "        final[0] = -final[0]\n",
    "    return final\n",
    "\n",
    "l1 = [1,9,3,7,0,7,7,2,1]\n",
    "l2 = [-7,6,1,8,3,8,2,5,7,2,8,7]\n",
    "print(multiplyLsts(l1, l2))"
   ]
  },
  {
   "cell_type": "markdown",
   "metadata": {},
   "source": [
    "#### 5.10"
   ]
  },
  {
   "cell_type": "markdown",
   "metadata": {},
   "source": [
    "#### 5.15"
   ]
  },
  {
   "cell_type": "markdown",
   "metadata": {},
   "source": [
    "#### 5.4 Advancing Through an Array\n",
    "**Write a program which takes an array of n integers, where A[i] denotes the maximum you can advance from index i, and returns whether it is possible to advance to the last index starting from the beginning of the array.**"
   ]
  },
  {
   "cell_type": "code",
   "execution_count": 44,
   "metadata": {},
   "outputs": [],
   "source": [
    "# Time O(n)\n",
    "# Space O(1)\n",
    "def advancingArray(lst):\n",
    "    furthest, end = 0, len(lst) - 1\n",
    "    i = 0\n",
    "    while i <= furthest and furthest < end:\n",
    "        furthest = max(i + lst[i], furthest)\n",
    "        i += 1\n",
    "    return furthest >= end\n",
    "        "
   ]
  },
  {
   "cell_type": "markdown",
   "metadata": {},
   "source": []
  }
 ],
 "metadata": {
  "kernelspec": {
   "display_name": "Python 3",
   "language": "python",
   "name": "python3"
  },
  "language_info": {
   "codemirror_mode": {
    "name": "ipython",
    "version": 3
   },
   "file_extension": ".py",
   "mimetype": "text/x-python",
   "name": "python",
   "nbconvert_exporter": "python",
   "pygments_lexer": "ipython3",
   "version": "3.7.3"
  }
 },
 "nbformat": 4,
 "nbformat_minor": 2
}
