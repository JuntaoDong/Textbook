{
 "cells": [
  {
   "cell_type": "markdown",
   "metadata": {},
   "source": [
    "# Array boot camp\n",
    "\n",
    "![51](./screenshots/Chap51.PNG)\n",
    "\n",
    "![52](\\screenshots\\Chap52.PNG)\n",
    "\n",
    "### 5.1 The Dutch National Flag Problem\n",
    "#### Write a program that takes an array A and an index i into A, and rearranges the elements such that all elements less than A[i] (the \"pivot\") appear first, followed by elements equal to the pivot, followed by elements greater than the pivot.\n",
    "#Quicksort #Pivot"
   ]
  },
  {
   "cell_type": "code",
   "execution_count": null,
   "metadata": {},
   "outputs": [],
   "source": [
    "def dutchFlag(alist, pivotIndex):\n",
    "    pivot = alist[pivotIndex]\n",
    "    smaller = 0\n",
    "    for i in range(len(alist)):\n",
    "        if alist[i] < pivot:\n",
    "            alist[i], alist[smaller] = alist[smaller], alist[i]\n",
    "            smaller += 1\n",
    "    larger = len(alist) - 1\n",
    "    for j in reversed(range(len(alist))):\n",
    "        if alist[j] > pivot:\n",
    "            alist[j], alist[larger] = alist[larger], alist[j]\n",
    "            larger -= 1\n",
    "        elif alist[j] < pivot:\n",
    "            break\n",
    "            "
   ]
  },
  {
   "cell_type": "code",
   "execution_count": null,
   "metadata": {},
   "outputs": [],
   "source": [
    "def dutchFlag2(alist, pivotIndex):\n",
    "    pivot = alist[pivotIndex]\n",
    "    bottom, equal = 0, 0\n",
    "    top = len(alist) - 1\n",
    "    while equal < top:\n",
    "        if alist[equal] < pivot:\n",
    "            alist[bottom], alist[equal] = alist[equal], alist[bottom]\n",
    "            bottom += 1\n",
    "            equal += 1\n",
    "        elif alist[equal] = pivot:\n",
    "            equal += 1\n",
    "        else:\n",
    "            alist[top], alist[equal] = alist[equal], alist[top]\n",
    "            top -= 1"
   ]
  }
 ],
 "metadata": {
  "kernelspec": {
   "display_name": "Python 3",
   "language": "python",
   "name": "python3"
  },
  "language_info": {
   "codemirror_mode": {
    "name": "ipython",
    "version": 3
   },
   "file_extension": ".py",
   "mimetype": "text/x-python",
   "name": "python",
   "nbconvert_exporter": "python",
   "pygments_lexer": "ipython3",
   "version": "3.7.3"
  }
 },
 "nbformat": 4,
 "nbformat_minor": 2
}
