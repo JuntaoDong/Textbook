{
 "cells": [
  {
   "cell_type": "markdown",
   "metadata": {},
   "source": [
    "1, 2, 3, 4, 7, 10, 11\n",
    "\n",
    "### 7.1 Merge Two Sorted Lists\n",
    "\n",
    "Write a program that takes two lists, assumed to be sorted, and returns their merge. The only field your program can change in a node is its next field."
   ]
  },
  {
   "cell_type": "code",
   "execution_count": 4,
   "metadata": {},
   "outputs": [],
   "source": [
    "def merge_two_sorted_list(l1, l2):\n",
    "    head = tail = ListNode()\n",
    "    while l1 and l2:\n",
    "        if l1.data < l2.data:\n",
    "            tail.next = l1\n",
    "            l1 = l1.next\n",
    "        else:\n",
    "            tail.next = l2\n",
    "            l2 = l2.next\n",
    "        tail = tail.next\n",
    "    tail.next = l1 or l2\n",
    "    return head"
   ]
  },
  {
   "cell_type": "markdown",
   "metadata": {},
   "source": [
    "### 7.2 Reverse a Single Sublist\n",
    "\n",
    "Write a program which takes a singly linked list L and two integers s and f as arguments, and reverses the order of the nodes from the sth node to fth node, inclusive. The numbering begins at 1. Do not allocate additional nodes."
   ]
  },
  {
   "cell_type": "code",
   "execution_count": 1,
   "metadata": {},
   "outputs": [],
   "source": [
    "def reverse_single_sublist(L, s, f):\n",
    "    sub_head = L\n",
    "    for _ in range(1, s - 1):\n",
    "        sub_head = sub_head.next\n",
    "    curr = sub_head.next\n",
    "    for _ in range(f - s):\n",
    "        tmp = curr.next\n",
    "        curr.next = tmp.next\n",
    "        tmp.next = sub_head.next\n",
    "        sub_head.next = temp\n",
    "    return L"
   ]
  },
  {
   "cell_type": "markdown",
   "metadata": {},
   "source": [
    "### 7.3 Test for Cyclicity\n",
    "\n",
    "Write a program that takes the head of a singly linked list and returns null if there does not exist a cycle, and the node at the start of the cycle, if a cycle is present."
   ]
  },
  {
   "cell_type": "code",
   "execution_count": 2,
   "metadata": {},
   "outputs": [],
   "source": [
    "def test_for_cyclicity(L):\n",
    "    faster = L\n",
    "    slower = L\n",
    "    while faster != None and faster.next != None:\n",
    "        faster = faster.next.next\n",
    "        slower = slower.next\n",
    "        if faster == slow:\n",
    "            break\n",
    "    if faster == None or faster.next == None:\n",
    "        return None\n",
    "    slower = L\n",
    "    while faster != slower:\n",
    "        faster = faster.next\n",
    "        slower = slower.next\n",
    "    return faster"
   ]
  },
  {
   "cell_type": "markdown",
   "metadata": {},
   "source": [
    "### 7.4 Test for Overlapping Lists - Lists are Cycle-Free\n",
    "\n",
    "Write a program that takes two cycle-free singly linked lists, and determines if there exists a node that is common to both lists."
   ]
  },
  {
   "cell_type": "code",
   "execution_count": 3,
   "metadata": {},
   "outputs": [],
   "source": [
    "def test_overlapping_lists(l1, l2):\n",
    "    curr1 = l1\n",
    "    curr2 = l2\n",
    "    while curr1.next != None:\n",
    "        curr1 = curr1.next\n",
    "    while curr2.next != None:\n",
    "        curr2 = curr2.next\n",
    "    if curr1 == curr2:\n",
    "        return True\n",
    "    else:\n",
    "        False"
   ]
  },
  {
   "cell_type": "markdown",
   "metadata": {},
   "source": [
    "### 7.7 Remove the Kth Last Element from a List\n",
    "\n",
    "Given a singly linked list and an integer k, write a program to remove the kth last element from the list. Your algorithm cannot use more than a few words of storage, regardless of the length of the list. In particular, you cannot assume that it is possible to record the length of the list."
   ]
  },
  {
   "cell_type": "code",
   "execution_count": 4,
   "metadata": {},
   "outputs": [],
   "source": [
    "def remove_kth_last(L, k):\n",
    "    faster = L\n",
    "    slower = L\n",
    "    for _ in range(k):\n",
    "        faster = faster.next\n",
    "    while faster.next != None:\n",
    "        faster = faster.next\n",
    "        slower = slower.next\n",
    "    return slower"
   ]
  },
  {
   "cell_type": "markdown",
   "metadata": {},
   "source": [
    "### 7.10 Implement Even-Odd Merge\n",
    "\n",
    "Write a program that computes the even-odd merge."
   ]
  },
  {
   "cell_type": "code",
   "execution_count": 16,
   "metadata": {},
   "outputs": [],
   "source": [
    "def even_odd_merge(L):\n",
    "    if not L:\n",
    "        return None\n",
    "    even = L\n",
    "    if even.next != None:\n",
    "        odd = even.next\n",
    "    else:\n",
    "        return L\n",
    "    curr = odd\n",
    "    while curr.next:\n",
    "        even.next = curr.next\n",
    "        even = even.next\n",
    "        if even.next:\n",
    "            curr.next = even.next\n",
    "        else:\n",
    "            curr.next = None\n",
    "            break\n",
    "        curr = curr.next\n",
    "\n",
    "    even.next = odd\n",
    "    return L"
   ]
  },
  {
   "cell_type": "markdown",
   "metadata": {},
   "source": [
    "### 7.11 Test Whether a Singly Linked List is Palindromic\n",
    "\n",
    "Write a program that tests whether a singly linked list is palindromic."
   ]
  },
  {
   "cell_type": "code",
   "execution_count": 17,
   "metadata": {},
   "outputs": [],
   "source": [
    "def palindromic_list(L):\n",
    "    slow = fast = L\n",
    "    while fast and fast.next:\n",
    "        slow = slow.next\n",
    "        fast = fast.next.next\n",
    "    first_head, second_head = L, reverse_lists(slow)\n",
    "    while first_head and second_head:\n",
    "        if first_head.data != second_head.data:\n",
    "            return False\n",
    "        else:\n",
    "            first_head = first_head.next\n",
    "            second_head = second_head.next\n",
    "    return True\n",
    "    \n",
    "def reverse_list(L):\n",
    "    if L == None:\n",
    "        return None\n",
    "    curr = L\n",
    "    prev = None\n",
    "    while curr != None:\n",
    "        temp = curr.next\n",
    "        curr.next = prev\n",
    "        prev = curr\n",
    "        curr = temp\n",
    "    return prev"
   ]
  }
 ],
 "metadata": {
  "kernelspec": {
   "display_name": "Python 3",
   "language": "python",
   "name": "python3"
  },
  "language_info": {
   "codemirror_mode": {
    "name": "ipython",
    "version": 3
   },
   "file_extension": ".py",
   "mimetype": "text/x-python",
   "name": "python",
   "nbconvert_exporter": "python",
   "pygments_lexer": "ipython3",
   "version": "3.7.3"
  }
 },
 "nbformat": 4,
 "nbformat_minor": 2
}
