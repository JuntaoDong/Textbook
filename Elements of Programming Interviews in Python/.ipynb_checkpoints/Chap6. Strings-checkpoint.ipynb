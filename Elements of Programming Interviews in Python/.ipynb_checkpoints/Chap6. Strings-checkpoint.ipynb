{
 "cells": [
  {
   "cell_type": "markdown",
   "metadata": {},
   "source": [
    "1, 2, 4, 5, 6, 7, 8, 9, 11\n",
    "\n",
    "### 6.1 Interconvert Strings and Integeres\n",
    "\n",
    "Implement an integer to string conversion function, and a string to interger conversion function."
   ]
  },
  {
   "cell_type": "code",
   "execution_count": 32,
   "metadata": {},
   "outputs": [],
   "source": [
    "import functools\n",
    "import string\n",
    "\n",
    "def conversion(x):\n",
    "    if isinstance(x, int):\n",
    "        negative = False\n",
    "        print('Integer')\n",
    "        if x < 0:\n",
    "            x = -x\n",
    "            negative = True      \n",
    "        result = []\n",
    "        while x > 0:\n",
    "            result.append(chr(ord('0') + x % 10))\n",
    "            x //= 10 \n",
    "        return ('-' if negative else '') + ''.join(reversed(result))\n",
    "    elif isinstance(x, str):\n",
    "        return functools.reduce(lambda running_sum, c: running_sum * 10 + string.digits.index(c), x[x[0] == '-':], 0) * (-1 if x[0] == '-' else 1)     \n",
    "    else:\n",
    "        raise TypeError(\"Please input a string or an integer!\")"
   ]
  },
  {
   "cell_type": "markdown",
   "metadata": {},
   "source": [
    "### 6.2 Base Conversion\n",
    "Write a program that performs base conversion. The input is a string, and interger b1, and another integer b2. The string represents an interger base b1. The output should be the string representing the integer in base b2."
   ]
  },
  {
   "cell_type": "code",
   "execution_count": null,
   "metadata": {},
   "outputs": [],
   "source": []
  }
 ],
 "metadata": {
  "kernelspec": {
   "display_name": "Python 3",
   "language": "python",
   "name": "python3"
  },
  "language_info": {
   "codemirror_mode": {
    "name": "ipython",
    "version": 3
   },
   "file_extension": ".py",
   "mimetype": "text/x-python",
   "name": "python",
   "nbconvert_exporter": "python",
   "pygments_lexer": "ipython3",
   "version": "3.7.3"
  }
 },
 "nbformat": 4,
 "nbformat_minor": 2
}
