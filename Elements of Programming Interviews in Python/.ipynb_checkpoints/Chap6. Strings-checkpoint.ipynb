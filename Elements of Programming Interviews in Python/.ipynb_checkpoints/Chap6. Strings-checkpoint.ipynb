{
 "cells": [
  {
   "cell_type": "markdown",
   "metadata": {},
   "source": [
    "### 6.1 Interconvert Strings and Integeres\n",
    "\n",
    "Implement an integer to string conversion function, and a string to interger conversion function."
   ]
  },
  {
   "cell_type": "code",
   "execution_count": 4,
   "metadata": {},
   "outputs": [],
   "source": [
    "def conversion(x):\n",
    "    if isinstance(x, int):\n",
    "        if x < 0:\n",
    "            x = -x\n",
    "            negative = True      \n",
    "        result = []\n",
    "        while x > 0:\n",
    "            result.append(chr(ord('0') + x % 10))\n",
    "            x //= 10 \n",
    "        return ('-' if negative==True else '')''.join(reversed(result))\n",
    "    elif isinstance(x, str):\n",
    "        \n",
    "        \n",
    "    else:\n",
    "        raise TypeError(\"Please input a string or an integer!\")"
   ]
  },
  {
   "cell_type": "code",
   "execution_count": 5,
   "metadata": {},
   "outputs": [
    {
     "name": "stdout",
     "output_type": "stream",
     "text": [
      "1\n"
     ]
    }
   ],
   "source": [
    "conversion(1)"
   ]
  }
 ],
 "metadata": {
  "kernelspec": {
   "display_name": "Python 3",
   "language": "python",
   "name": "python3"
  },
  "language_info": {
   "codemirror_mode": {
    "name": "ipython",
    "version": 3
   },
   "file_extension": ".py",
   "mimetype": "text/x-python",
   "name": "python",
   "nbconvert_exporter": "python",
   "pygments_lexer": "ipython3",
   "version": "3.7.3"
  }
 },
 "nbformat": 4,
 "nbformat_minor": 2
}
