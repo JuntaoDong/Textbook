{
 "cells": [
  {
   "cell_type": "markdown",
   "metadata": {},
   "source": [
    "1, 2, 4, 5, 6, 7, 8, 9, 11\n",
    "\n",
    "### 6.1 Interconvert Strings and Integeres\n",
    "\n",
    "Implement an integer to string conversion function, and a string to interger conversion function."
   ]
  },
  {
   "cell_type": "code",
   "execution_count": 32,
   "metadata": {},
   "outputs": [],
   "source": [
    "import functools\n",
    "import string\n",
    "\n",
    "def conversion(x):\n",
    "    if isinstance(x, int):\n",
    "        negative = False\n",
    "        print('Integer')\n",
    "        if x < 0:\n",
    "            x = -x\n",
    "            negative = True      \n",
    "        result = []\n",
    "        while x > 0:\n",
    "            result.append(chr(ord('0') + x % 10))\n",
    "            x //= 10 \n",
    "        return ('-' if negative else '') + ''.join(reversed(result))\n",
    "    elif isinstance(x, str):\n",
    "        return functools.reduce(lambda running_sum, c: running_sum * 10 + string.digits.index(c), x[x[0] == '-':], 0) * (-1 if x[0] == '-' else 1)     \n",
    "    else:\n",
    "        raise TypeError(\"Please input a string or an integer!\")"
   ]
  },
  {
   "cell_type": "markdown",
   "metadata": {},
   "source": [
    "### 6.2 Base Conversion\n",
    "Write a program that performs base conversion. The input is a string, and interger b1, and another integer b2. The string represents an interger base b1. The output should be the string representing the integer in base b2."
   ]
  },
  {
   "cell_type": "code",
   "execution_count": 35,
   "metadata": {},
   "outputs": [
    {
     "data": {
      "text/plain": [
       "'1A7'"
      ]
     },
     "execution_count": 35,
     "metadata": {},
     "output_type": "execute_result"
    }
   ],
   "source": [
    "def BaseConversion(n, b1, b2):\n",
    "    if isinstance(n, str):\n",
    "        negative = True if n[0] == '-' else False\n",
    "        decimal = functools.reduce(lambda running_sum, c: running_sum * b1 + string.hexdigits.index(c), n[negative:], 0)\n",
    "        return ('-' if negative == True else '') + ('0' if decimal == 0 else conversionHelper(decimal, b2))\n",
    "            \n",
    "    else:\n",
    "        raise TypeError('''The type of the first argument is string. \n",
    "                        Please retry with a string that represents an integer.\n",
    "                        ''')\n",
    "\n",
    "def conversionHelper(decimal, base):\n",
    "    return ('' if decimal == 0 else\n",
    "            conversionHelper(decimal // base, base) +\n",
    "            string.hexdigits[decimal % base].upper())\n",
    "\n",
    "BaseConversion('615', 7, 13)"
   ]
  },
  {
   "cell_type": "markdown",
   "metadata": {},
   "source": [
    "### 6.4 Replace and Remove\n",
    "\n",
    "Write a program which takes as input an array of characters, and removes each 'b' and replaces each 'a' by two 'd's. Specifically, along with the array, you are provided an integer-valued size. Size denotes the nuumber of entries of the array that the operation is to be applied to."
   ]
  },
  {
   "cell_type": "code",
   "execution_count": 50,
   "metadata": {},
   "outputs": [
    {
     "data": {
      "text/plain": [
       "['d', 'd', 'c', 'd', 'd', 'd', 'd']"
      ]
     },
     "execution_count": 50,
     "metadata": {},
     "output_type": "execute_result"
    }
   ],
   "source": [
    "def replace_and_remove(s, size):\n",
    "    write_idx, a = 0, 0\n",
    "    for i in range(size):\n",
    "        if s[i] != 'b':\n",
    "            s[write_idx] = s[i]\n",
    "            write_idx += 1\n",
    "        if s[i] == 'a':\n",
    "            a += 1\n",
    "    curr_idx = write_idx - 1\n",
    "    write_idx = curr_idx + a\n",
    "    new_size = write_idx + 1\n",
    "    while curr_idx >= 0:\n",
    "        if s[curr_idx] == 'a':\n",
    "            s[write_idx-1:write_idx + 1] = 'dd'\n",
    "            write_idx -= 2\n",
    "        else:\n",
    "            s[write_idx] = s[curr_idx]\n",
    "            write_idx -= 1\n",
    "        curr_idx -= 1\n",
    "    return s\n",
    "\n",
    "replace_and_remove(['a','c','a','a', None, None, None], 4)"
   ]
  },
  {
   "cell_type": "markdown",
   "metadata": {},
   "source": [
    "### 6.5 Test Palindromicity\n",
    "\n",
    "Implement a function which takes as input a string s and returns true if s is a palindromic string."
   ]
  },
  {
   "cell_type": "code",
   "execution_count": 65,
   "metadata": {},
   "outputs": [
    {
     "data": {
      "text/plain": [
       "True"
      ]
     },
     "execution_count": 65,
     "metadata": {},
     "output_type": "execute_result"
    }
   ],
   "source": [
    "def test_palindromicity(s):\n",
    "    left = 0\n",
    "    right = len(s) - 1\n",
    "    while left < right:\n",
    "        while not s[left].isalnum() and left < right:\n",
    "            left += 1\n",
    "        while not s[right].isalnum() and left < right:\n",
    "            right -= 1\n",
    "        if s[left].lower() != s[right].lower():\n",
    "            return False\n",
    "        left += 1\n",
    "        right -= 1\n",
    "    return True\n",
    "\n",
    "test_palindromicity('A man, a plan, a canal, Panama.')"
   ]
  },
  {
   "cell_type": "markdown",
   "metadata": {},
   "source": [
    "### 6.6 Reverse All the Words in a Sentence\n",
    "\n",
    "Implement a function for reversing the words in a string s."
   ]
  },
  {
   "cell_type": "code",
   "execution_count": 100,
   "metadata": {},
   "outputs": [
    {
     "name": "stdout",
     "output_type": "stream",
     "text": [
      "3\n",
      "9\n",
      "-1\n"
     ]
    },
    {
     "data": {
      "text/plain": [
       "bytearray(b'Bob likes Alice')"
      ]
     },
     "execution_count": 100,
     "metadata": {},
     "output_type": "execute_result"
    }
   ],
   "source": [
    "def reverse_words(s):\n",
    "    def reverse_words_helper(s, start, end):\n",
    "        while start < end:\n",
    "            s[start], s[end] = s[end], s[start]\n",
    "            start, end = start + 1, end - 1\n",
    "            \n",
    "    start = 0\n",
    "    end = len(s) - 1\n",
    "    reverse_words_helper(s, start, end)\n",
    "    while True:\n",
    "        space_idx = s.find(b' ', start)\n",
    "        print(space_idx)\n",
    "        if space_idx < 0:\n",
    "            reverse_words_helper(s, start, end)\n",
    "            break\n",
    "        reverse_words_helper(s, start, space_idx - 1)\n",
    "        start = space_idx + 1\n",
    "    return s\n",
    "\n",
    "reverse_words(bytearray('Alice likes Bob', 'utf-8'))        "
   ]
  },
  {
   "cell_type": "markdown",
   "metadata": {},
   "source": [
    "### 6.7 Compute All Mnemonics for a Phone Number\n",
    "\n",
    "Write a program which takes as input a phone number, specified as a string of digits, and returns all possible character sequences that correspond to the phone number. The cell phone keypad is specified by a mapping that takes a digit and returns the corresponding set of characters. The character sequences do not have to be legal words or phrases."
   ]
  },
  {
   "cell_type": "code",
   "execution_count": 103,
   "metadata": {},
   "outputs": [
    {
     "data": {
      "text/plain": [
       "324"
      ]
     },
     "execution_count": 103,
     "metadata": {},
     "output_type": "execute_result"
    }
   ],
   "source": [
    "MAPPING = (0, 1, 'ABC', 'DEF', 'GHI', 'JKL', 'MNO', 'PQRS', 'TUV', 'WXYZ')\n",
    "def mnemonics(n):\n",
    "    def mnemonics_helper(digit):\n",
    "        if digit == len(n):\n",
    "            result.append(''.join(partial_mnemonic))\n",
    "        else:\n",
    "            for letter in MAPPING[int(n[digit])]:\n",
    "                partial_mnemonic[digit] = letter\n",
    "                mnemonics_helper(digit + 1)\n",
    "            \n",
    "    \n",
    "    result, partial_mnemonic = [], [0] * len(n)\n",
    "    mnemonics_helper(0)\n",
    "    return result\n",
    "\n",
    "result = mnemonics('23745')\n",
    "len(result)"
   ]
  },
  {
   "cell_type": "markdown",
   "metadata": {},
   "source": [
    "### 6.8 The Look-and-Say Problem\n",
    "\n",
    "Write a program that takes as input an interger n and returns the nth integer in the look-and-say sequence. Return the result as a string.\n",
    "\n"
   ]
  },
  {
   "cell_type": "code",
   "execution_count": 104,
   "metadata": {},
   "outputs": [
    {
     "data": {
      "text/plain": [
       "'1211'"
      ]
     },
     "execution_count": 104,
     "metadata": {},
     "output_type": "execute_result"
    }
   ],
   "source": [
    "import math\n",
    "def look_and_say(n):\n",
    "    def next_num(s):\n",
    "        result, i = [], 0\n",
    "        while i < len(s):\n",
    "            count = 1\n",
    "            while i + 1 < len(s) and s[i] == s[i + 1]:\n",
    "                count += 1\n",
    "                i += 1\n",
    "            result.append(str(count) + s[i])\n",
    "            i += 1\n",
    "        return ''.join(result)\n",
    "            \n",
    "    s = '1'\n",
    "    for _ in range(1, n):\n",
    "        s = next_num(s)\n",
    "    return s\n",
    "    \n",
    "look_and_say(4)"
   ]
  },
  {
   "cell_type": "markdown",
   "metadata": {},
   "source": [
    "### 6.9 Convert from Roman to Decimal\n",
    "\n",
    "Write a program which takes as input a valid Roman number string s and returns the integer it corresponds to.\n",
    "\n"
   ]
  },
  {
   "cell_type": "code",
   "execution_count": 106,
   "metadata": {},
   "outputs": [
    {
     "data": {
      "text/plain": [
       "59"
      ]
     },
     "execution_count": 106,
     "metadata": {},
     "output_type": "execute_result"
    }
   ],
   "source": [
    "def roman_to_decimal(R):\n",
    "    mapping = {'I': 1, 'V': 5, 'X': 10, 'L': 50, 'C': 100, 'D': 500, 'M': 1000}\n",
    "\n",
    "    return functools.reduce(lambda val, i: val + (-mapping[R[i]] if mapping[R[i]] < mapping[R[i + 1]] else mapping[R[i]]), reversed(range(len(R) - 1)), mapping[R[-1]])\n",
    "\n",
    "roman_to_decimal('LIX')        "
   ]
  },
  {
   "cell_type": "markdown",
   "metadata": {},
   "source": [
    "### 6.11 Write a String Sinusoidally\n",
    "\n",
    "Write a program which takes as input a string s and returns the snakestring of s."
   ]
  },
  {
   "cell_type": "code",
   "execution_count": 109,
   "metadata": {},
   "outputs": [
    {
     "data": {
      "text/plain": [
       "'e lHloWrdlo!'"
      ]
     },
     "execution_count": 109,
     "metadata": {},
     "output_type": "execute_result"
    }
   ],
   "source": [
    "def snakestring(s):\n",
    "    result = []\n",
    "    for i in range(1, len(s), 4):\n",
    "        result.append(s[i])\n",
    "    for i in range(0, len(s), 2):\n",
    "        result.append(s[i])\n",
    "    for i in range(3, len(s), 4):\n",
    "        result.append(s[i])\n",
    "    return ''.join(result)\n",
    "\n",
    "snakestring('Hello World!')"
   ]
  }
 ],
 "metadata": {
  "kernelspec": {
   "display_name": "Python 3",
   "language": "python",
   "name": "python3"
  },
  "language_info": {
   "codemirror_mode": {
    "name": "ipython",
    "version": 3
   },
   "file_extension": ".py",
   "mimetype": "text/x-python",
   "name": "python",
   "nbconvert_exporter": "python",
   "pygments_lexer": "ipython3",
   "version": "3.7.3"
  }
 },
 "nbformat": 4,
 "nbformat_minor": 2
}
