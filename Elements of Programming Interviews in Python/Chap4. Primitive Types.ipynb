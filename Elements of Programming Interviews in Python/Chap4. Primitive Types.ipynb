{
 "cells": [
  {
   "cell_type": "markdown",
   "metadata": {},
   "source": [
    "1, 7, 8, 3, 11, 9\n",
    "\n",
    "### 4.1 Computing the Parity of a Word\n",
    "\n",
    "The parity of a binary word is 1 if the number of 1s in the word is odd; otherwise, it is 0. How would you compute the parity of a very large number of 64-bit words?"
   ]
  },
  {
   "cell_type": "code",
   "execution_count": 6,
   "metadata": {},
   "outputs": [
    {
     "data": {
      "text/plain": [
       "0"
      ]
     },
     "execution_count": 6,
     "metadata": {},
     "output_type": "execute_result"
    }
   ],
   "source": [
    "# x & (x - 1) equals x with its lowerst set bit erased\n",
    "def parity(x):\n",
    "    result = 0\n",
    "    while x:\n",
    "        result ^= 1\n",
    "        x &= x - 1\n",
    "    return result\n",
    "\n",
    "parity(15)"
   ]
  },
  {
   "cell_type": "markdown",
   "metadata": {},
   "source": [
    "### 4.7 Compute x<sup>y</sup>\n",
    "\n",
    "Write a program that takes a double x and an interger y and returns x<sup>y</sup>. You can igonore overflow and underflow."
   ]
  },
  {
   "cell_type": "code",
   "execution_count": 7,
   "metadata": {},
   "outputs": [],
   "source": [
    "def compute_power(x, y):\n",
    "    result, power = 1.0, y\n",
    "    if y < 0:\n",
    "        x, power = 1.0 / x, -y\n",
    "    while power:\n",
    "        if power & 1:\n",
    "            result *= x\n",
    "        result = x * x\n",
    "        power >>= 1\n",
    "    return result"
   ]
  },
  {
   "cell_type": "markdown",
   "metadata": {},
   "source": [
    "### 4.8 Reverse Digits\n",
    "\n",
    "Write a program which takes an interger and returns the interger corresponding to the digits of the input written in reverse order. "
   ]
  },
  {
   "cell_type": "code",
   "execution_count": 9,
   "metadata": {},
   "outputs": [
    {
     "data": {
      "text/plain": [
       "21"
      ]
     },
     "execution_count": 9,
     "metadata": {},
     "output_type": "execute_result"
    }
   ],
   "source": [
    "def reverse_digits(n):\n",
    "    negative = False\n",
    "    result = 0\n",
    "    if n < 0:\n",
    "        negative = True\n",
    "        n = -n\n",
    "    while n > 0:\n",
    "        result *= 10\n",
    "        result += n % 10\n",
    "        n = n // 10\n",
    "    if negative == True:\n",
    "        return -result\n",
    "    else:\n",
    "        return result\n",
    "    \n",
    "reverse_digits(12)"
   ]
  },
  {
   "cell_type": "markdown",
   "metadata": {},
   "source": [
    "### 4.3 Reverse Bits\n",
    "\n",
    "Write a program that takes a 64-bit unsigned interger and returns the 64-bit unsigned interger consisting of the bits of the input in reverse order."
   ]
  },
  {
   "cell_type": "code",
   "execution_count": null,
   "metadata": {},
   "outputs": [],
   "source": []
  },
  {
   "cell_type": "markdown",
   "metadata": {},
   "source": [
    "### 4.11 Rectangle Intersection\n",
    "\n",
    "Write a program which tests if two rectangles have a nonempty intersection. If the intersection is nonempty, return the rectangle formed by their intersection.\n",
    "\n",
    "### 4.9 Check if a Decimal Interger is a Palindrome\n",
    "\n",
    "Write a program that takes an integer and determines if that integer's representation as a decimal string is a palindrome."
   ]
  }
 ],
 "metadata": {
  "kernelspec": {
   "display_name": "Python 3",
   "language": "python",
   "name": "python3"
  },
  "language_info": {
   "codemirror_mode": {
    "name": "ipython",
    "version": 3
   },
   "file_extension": ".py",
   "mimetype": "text/x-python",
   "name": "python",
   "nbconvert_exporter": "python",
   "pygments_lexer": "ipython3",
   "version": "3.7.3"
  }
 },
 "nbformat": 4,
 "nbformat_minor": 2
}
