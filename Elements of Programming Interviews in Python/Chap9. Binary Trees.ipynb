{
 "cells": [
  {
   "cell_type": "markdown",
   "metadata": {},
   "source": [
    "1, 4, 2, 12, 11, 13, 16"
   ]
  },
  {
   "cell_type": "code",
   "execution_count": null,
   "metadata": {},
   "outputs": [],
   "source": [
    "class BinaryTreeNode:\n",
    "    def __init__(self, data=None, left=None, right=None):\n",
    "        self.data = data\n",
    "        self.left = left\n",
    "        self.right = right"
   ]
  },
  {
   "cell_type": "markdown",
   "metadata": {},
   "source": [
    "### 9.1 Test if a Binary Tree is Height-Balanced\n",
    "\n",
    "Write a program that takes as input the root of a binary tree and checks whether the tree is height-balanced."
   ]
  },
  {
   "cell_type": "code",
   "execution_count": 1,
   "metadata": {},
   "outputs": [],
   "source": [
    "import collections\n",
    "\n",
    "def test_height_balanced(root):\n",
    "    StatusWithHeight = collections.namedtuple('StateWithHeight', ('balanced', 'height'))\n",
    "    def balance_checker(node): \n",
    "        if not node:\n",
    "            return StatusWithHeight(True, -1)\n",
    "        left = balance_checker(node.left)\n",
    "        if not left.balanced:\n",
    "            return StatusWithHeight(False, 0)\n",
    "        right = balance_checker(node.right)\n",
    "        if not right.balanced:\n",
    "            return StatusWithHeight(False, 0)\n",
    "        is_balanced = (abs(left.height - right.height) <= 1)    \n",
    "        height = max(left.height, right.height) + 1\n",
    "        return StatusWithHeight(is_balanced, height)\n",
    "    return balance_checker(root).is_balanced"
   ]
  },
  {
   "cell_type": "markdown",
   "metadata": {},
   "source": [
    "### 9.4 Compute the LCA When Nodes Have Parent Pointers\n",
    "\n",
    "Given two nodes in a binary tree, design an algorithm that computes their LCA. Assume that each node has a parent pointer."
   ]
  },
  {
   "cell_type": "code",
   "execution_count": null,
   "metadata": {},
   "outputs": [],
   "source": [
    "def compute_lca(n1, n2):\n",
    "    depth1 = 0\n",
    "    depth2 = 0\n",
    "    curr1 = n1\n",
    "    curr2 = n2\n",
    "    while curr1.parent:\n",
    "        depth1 += 1\n",
    "        curr1 = curr1.parent\n",
    "    while curr2.parent:\n",
    "        depth2 += 1\n",
    "        curr2 = curr2.parent\n",
    "    curr1, curr2 = n1, n2\n",
    "    if depth1 > depth2:\n",
    "        for _ in range(depth1 - depth2):\n",
    "            curr1 = curr1.parent\n",
    "    elif depth1 < depth2:\n",
    "        for _ in range(depth2 - depth1):\n",
    "            curr2 = curr2.parent\n",
    "    while curr1 != curr2:\n",
    "        curr1 = curr1.parent\n",
    "        curr2 = curr2.parent\n",
    "    return curr1"
   ]
  },
  {
   "cell_type": "markdown",
   "metadata": {},
   "source": [
    "### 9.2 Test if a Binary Tree is Symmetric\n",
    "\n",
    "Write a program that checks whether a binary tree is symmetric."
   ]
  },
  {
   "cell_type": "code",
   "execution_count": null,
   "metadata": {},
   "outputs": [],
   "source": [
    "def is_symmetric(root):\n",
    "    def is_mirror(left, right):\n",
    "        if left == None and right == None:\n",
    "            return True\n",
    "        elif left and right:\n",
    "            return (left.data == right.data) and is_mirror(left.left, right.right) and is_mirror(left.right, right.left)\n",
    "        return False\n",
    "    if not root:\n",
    "        return True\n",
    "    return is_mirror(root.left, root.right)"
   ]
  },
  {
   "cell_type": "markdown",
   "metadata": {},
   "source": [
    "### 9.12 Reconstruct a Binary Tree from Traversal Data\n",
    "\n",
    "Given an inorder traversal sequence and a preorder traversal sequence of a binary tree write a program to reconstruct the tree. Assume each node has a unique key."
   ]
  },
  {
   "cell_type": "code",
   "execution_count": 12,
   "metadata": {},
   "outputs": [],
   "source": [
    "def reconstruct_binary_tree(inorder, preorder):\n",
    "    inorder_hash = {data: i for i, data in enumerate(inorder)}\n",
    "    def reconstruct_helper(preorder_start, preorder_end,\n",
    "                           inorder_start, inorder_end):\n",
    "        if preorder_end <= preorder_start or inorder_end <= inorder_start:\n",
    "            return None\n",
    "        root_inorder_idx = inorder_hash[preorder[preorder_start]]\n",
    "        left_subtree_size = root_inorder_idx - inorder_start\n",
    "        return BinaryTreeNode(preorder[preorder_start], \n",
    "                              reconstruct_helper(preorder_start + 1, preorder_start + 1 + left_subtree_size, inorder_start, root_inorder_idx),\n",
    "                              reconstruct_helper(preorder_start + 1 + left_subtree_size, preorder_end, root_inorder_idx + 1, inorder_end))\n",
    "    return reconstruct_helper(0, len(preorder), 0, len(inorder))"
   ]
  },
  {
   "cell_type": "markdown",
   "metadata": {},
   "source": [
    "### 9.11 Implement an Inorder Traversal with O(1) Space\n",
    "\n",
    "Write a nonrecursive program for computing the inorder traversal sequence for a binary tree. Assume nodes have parent fields."
   ]
  },
  {
   "cell_type": "code",
   "execution_count": null,
   "metadata": {},
   "outputs": [],
   "source": [
    "def inorder(root):\n",
    "    curr = root\n",
    "    prev = None\n",
    "    result = []\n",
    "    while curr:\n",
    "        if prev == curr.parent:\n",
    "            if curr.left:\n",
    "                curr = curr.left\n",
    "            else:\n",
    "                result.append(curr.data)\n",
    "                prev = curr\n",
    "                curr = curr.parent.right if curr.parent.right else curr.parent\n",
    "        elif prev = curr.left:\n",
    "            result.append(curr.data)\n",
    "            prev = curr\n",
    "            curr = curr.parent\n",
    "            \n",
    "        \n",
    "        "
   ]
  },
  {
   "cell_type": "code",
   "execution_count": 13,
   "metadata": {},
   "outputs": [
    {
     "name": "stdout",
     "output_type": "stream",
     "text": [
      "1\n"
     ]
    }
   ],
   "source": [
    "next = 1\n",
    "print(next)"
   ]
  },
  {
   "cell_type": "markdown",
   "metadata": {},
   "source": [
    "### 9.13 Reconstruct a Binary Tree from a Preorder Traversal with Markers\n",
    "\n",
    "Design an algorithm for reconstructing a binary tree from a preorder traversal visit sequence that uses null to mark empty children."
   ]
  },
  {
   "cell_type": "code",
   "execution_count": null,
   "metadata": {},
   "outputs": [],
   "source": []
  },
  {
   "cell_type": "markdown",
   "metadata": {},
   "source": [
    "### 9.16 Compute the Right Sibling Tree\n",
    "\n",
    "Write a program that takes a perfect binary tree, and sets each node's level-next feild to the node on its right, if one exists."
   ]
  },
  {
   "cell_type": "code",
   "execution_count": null,
   "metadata": {},
   "outputs": [],
   "source": []
  }
 ],
 "metadata": {
  "kernelspec": {
   "display_name": "Python 3",
   "language": "python",
   "name": "python3"
  },
  "language_info": {
   "codemirror_mode": {
    "name": "ipython",
    "version": 3
   },
   "file_extension": ".py",
   "mimetype": "text/x-python",
   "name": "python",
   "nbconvert_exporter": "python",
   "pygments_lexer": "ipython3",
   "version": "3.7.3"
  }
 },
 "nbformat": 4,
 "nbformat_minor": 2
}
