{
 "cells": [
  {
   "cell_type": "markdown",
   "metadata": {},
   "source": [
    "1, 4, 2, 12, 11, 13, 16"
   ]
  },
  {
   "cell_type": "code",
   "execution_count": null,
   "metadata": {},
   "outputs": [],
   "source": [
    "class BinaryTreeNode:\n",
    "    def __init__(self, data=None, left=None, right=None):\n",
    "        self.data = data\n",
    "        self.left = left\n",
    "        self.right = right"
   ]
  },
  {
   "cell_type": "markdown",
   "metadata": {},
   "source": [
    "### 9.1 Test if a Binary Tree is Height-Balanced\n",
    "\n",
    "Write a program that takes as input the root of a binary tree and checks whether the tree is height-balanced."
   ]
  },
  {
   "cell_type": "code",
   "execution_count": 1,
   "metadata": {},
   "outputs": [],
   "source": [
    "import collections\n",
    "\n",
    "def test_height_balanced(root):\n",
    "    StatusWithHeight = collections.namedtuple('StateWithHeight', ('balanced', 'height'))\n",
    "    def balance_checker(node): \n",
    "        if not node:\n",
    "            return StatusWithHeight(True, -1)\n",
    "        left = balance_checker(node.left)\n",
    "        if not left.balanced:\n",
    "            return StatusWithHeight(False, 0)\n",
    "        right = balance_checker(node.right)\n",
    "        if not right.balanced:\n",
    "            return StatusWithHeight(False, 0)\n",
    "        is_balanced = (abs(left.height - right.height) <= 1)    \n",
    "        height = max(left.height, right.height) + 1\n",
    "        return StatusWithHeight(is_balanced, height)\n",
    "    return balance_checker(root).is_balanced"
   ]
  },
  {
   "cell_type": "markdown",
   "metadata": {},
   "source": [
    "### 9.4 Compute the LCA When Nodes Have Parent Pointers\n",
    "\n",
    "Given two nodes in a binary tree, design an algorithm that computes their LCA. Assume that each node has a parent pointer."
   ]
  },
  {
   "cell_type": "code",
   "execution_count": null,
   "metadata": {},
   "outputs": [],
   "source": [
    "def compute_lca(n1, n2):\n",
    "    depth1 = 0\n",
    "    depth2 = 0\n",
    "    curr1 = n1\n",
    "    curr2 = n2\n",
    "    while curr1.parent:\n",
    "        depth1 += 1\n",
    "        curr1 = curr1.parent\n",
    "    while curr2.parent:\n",
    "        depth2 += 1\n",
    "        curr2 = curr2.parent\n",
    "    curr1, curr2 = n1, n2\n",
    "    if depth1 > depth2:\n",
    "        for _ in range(depth1 - depth2):\n",
    "            curr1 = curr1.parent\n",
    "    elif depth1 < depth2:\n",
    "        for _ in range(depth2 - depth1):\n",
    "            curr2 = curr2.parent\n",
    "    while curr1 != curr2:\n",
    "        curr1 = curr1.parent\n",
    "        curr2 = curr2.parent\n",
    "    return curr1"
   ]
  },
  {
   "cell_type": "markdown",
   "metadata": {},
   "source": [
    "### 9.2 Test if a Binary Tree is Symmetric\n",
    "\n",
    "Write a program that checks whether a binary tree is symmetric."
   ]
  },
  {
   "cell_type": "code",
   "execution_count": null,
   "metadata": {},
   "outputs": [],
   "source": [
    "def is_symmetric(root):\n",
    "    def is_mirror(left, right):\n",
    "        if left == None and right == None:\n",
    "            return True\n",
    "        elif left and right:\n",
    "            return (left.data == right.data) and is_mirror(left.left, right.right) and is_mirror(left.right, right.left)\n",
    "        return False\n",
    "    if not root:\n",
    "        return True\n",
    "    return is_mirror(root.left, root.right)"
   ]
  },
  {
   "cell_type": "markdown",
   "metadata": {},
   "source": [
    "### 9.12 Reconstruct a Binary Tree from Traversal Data\n",
    "\n",
    "Given an inorder traversal sequence and a preorder traversal sequence of a binary tree write a program to reconstruct the tree. Assume each node has a unique key."
   ]
  },
  {
   "cell_type": "code",
   "execution_count": null,
   "metadata": {},
   "outputs": [],
   "source": [
    "def reconstruct_binary_tree(inorder, preorder):\n",
    "    root = BinaryTreeNode(preorder[0])"
   ]
  },
  {
   "cell_type": "markdown",
   "metadata": {},
   "source": [
    "### 9.11"
   ]
  }
 ],
 "metadata": {
  "kernelspec": {
   "display_name": "Python 3",
   "language": "python",
   "name": "python3"
  },
  "language_info": {
   "codemirror_mode": {
    "name": "ipython",
    "version": 3
   },
   "file_extension": ".py",
   "mimetype": "text/x-python",
   "name": "python",
   "nbconvert_exporter": "python",
   "pygments_lexer": "ipython3",
   "version": "3.7.3"
  }
 },
 "nbformat": 4,
 "nbformat_minor": 2
}
