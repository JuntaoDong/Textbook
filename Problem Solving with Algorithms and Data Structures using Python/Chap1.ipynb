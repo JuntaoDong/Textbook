{
 "cells": [
  {
   "cell_type": "markdown",
   "metadata": {},
   "source": [
    "# Chapter 1\n",
    "1. Implement the simple methods getNum and getDen that will return the numerator and denominator of a fraction.\n"
   ]
  },
  {
   "cell_type": "code",
   "execution_count": 3,
   "metadata": {},
   "outputs": [
    {
     "name": "stdout",
     "output_type": "stream",
     "text": [
      "1\n",
      "3\n"
     ]
    }
   ],
   "source": [
    "class Fraction:\n",
    "    def __init__(self, top, bot):\n",
    "        self.num = top\n",
    "        self.den = bot\n",
    "    def getNum(self):\n",
    "        return self.num\n",
    "    def getDen(self):\n",
    "        return self.den\n",
    "\n",
    "def main():\n",
    "    f = Fraction(1, 3)\n",
    "    print(f.getNum())\n",
    "    print(f.getDen())\n",
    "\n",
    "if __name__ == \"__main__\":\n",
    "    main()"
   ]
  },
  {
   "cell_type": "markdown",
   "metadata": {},
   "source": [
    "2. In many ways it would be better if all fractions were maintained in lowest terms right from the start. Modify the constructor for the Fraction class so that GCD is used to reduce fractions immediately. Notice that this means the __add__ function no longer needs to reduce. Make the necessary modifications.\n"
   ]
  },
  {
   "cell_type": "code",
   "execution_count": 4,
   "metadata": {},
   "outputs": [
    {
     "name": "stdout",
     "output_type": "stream",
     "text": [
      "1/2\n"
     ]
    }
   ],
   "source": [
    "def gcd(m, n):\n",
    "    while m%n != 0:\n",
    "        oldm = m\n",
    "        oldn = n\n",
    "        \n",
    "        m = oldn\n",
    "        n = oldm%oldn\n",
    "    return n\n",
    "\n",
    "class Fraction:\n",
    "    def __init__(self, top, bot):\n",
    "        common = gcd(top, bot)\n",
    "        self.num = top//common\n",
    "        self.den = bot//common\n",
    "    def __str__(self):\n",
    "        return str(self.num)+\"/\"+str(self.den)\n",
    "    \n",
    "def main():\n",
    "    f = Fraction(4, 8)\n",
    "    print(f)\n",
    "\n",
    "if __name__ == \"__main__\":\n",
    "    main()"
   ]
  },
  {
   "cell_type": "markdown",
   "metadata": {},
   "source": [
    "3. Implement the remaining simple arithmetic operators (__sub__, __mul__, and __truediv__).\n"
   ]
  },
  {
   "cell_type": "code",
   "execution_count": 3,
   "metadata": {},
   "outputs": [
    {
     "name": "stdout",
     "output_type": "stream",
     "text": [
      "1/2\n",
      "1/6\n",
      "1/6\n",
      "3/2\n"
     ]
    }
   ],
   "source": [
    "def gcd(m, n):\n",
    "    while m%n != 0:\n",
    "        oldm = m\n",
    "        oldn = n\n",
    "        \n",
    "        m = oldn\n",
    "        n = oldm%oldn\n",
    "    return n\n",
    "\n",
    "class Fraction:\n",
    "    def __init__(self, top, bot):\n",
    "        common = gcd(top, bot)\n",
    "        self.num = top//common\n",
    "        self.den = bot//common\n",
    "    def __str__(self):\n",
    "        return str(self.num)+\"/\"+str(self.den)\n",
    "    def __sub__(self, f2):\n",
    "        new_num = self.num*f2.den - self.den*f2.num\n",
    "        new_den = self.den * f2.den\n",
    "        return Fraction(new_num, new_den)\n",
    "    def __mul__(self, f2):\n",
    "        new_num = self.num*f2.num\n",
    "        new_den = self.den*f2.den\n",
    "        return Fraction(new_num, new_den)\n",
    "    def __truediv__(self, f2):\n",
    "        new_num = self.num*f2.den\n",
    "        new_den = self.den*f2.num\n",
    "        return Fraction(new_num, new_den)        \n",
    "    \n",
    "def main():\n",
    "    f = Fraction(4, 8)\n",
    "    print(f)\n",
    "    f2 = Fraction(1, 3)\n",
    "    print(f-f2)\n",
    "    print(f*f2)\n",
    "    print(f/f2)\n",
    "\n",
    "if __name__ == \"__main__\":\n",
    "    main()"
   ]
  },
  {
   "cell_type": "markdown",
   "metadata": {},
   "source": [
    "4. Implement the remaining relational operators (__gt__, __ge__, __lt__, __le__, and __ne__)\n"
   ]
  },
  {
   "cell_type": "code",
   "execution_count": 7,
   "metadata": {},
   "outputs": [
    {
     "name": "stdout",
     "output_type": "stream",
     "text": [
      "1/2\n",
      "1/6\n",
      "1/6\n",
      "3/2\n",
      "True\n"
     ]
    }
   ],
   "source": [
    "def gcd(m, n):\n",
    "    while m%n != 0:\n",
    "        oldm = m\n",
    "        oldn = n\n",
    "        \n",
    "        m = oldn\n",
    "        n = oldm%oldn\n",
    "    return n\n",
    "\n",
    "class Fraction:\n",
    "    def __init__(self, top, bot):\n",
    "        common = gcd(top, bot)\n",
    "        self.num = top//common\n",
    "        self.den = bot//common\n",
    "    def __str__(self):\n",
    "        return str(self.num)+\"/\"+str(self.den)\n",
    "    def __add__(self, f2):\n",
    "        new_num = self.num*f2.den + self.den*f2.num\n",
    "        new_den = self.den * f2.den\n",
    "        return Fraction(new_num, new_den)\n",
    "    def __sub__(self, f2):\n",
    "        new_num = self.num*f2.den - self.den*f2.num\n",
    "        new_den = self.den * f2.den\n",
    "        return Fraction(new_num, new_den)\n",
    "    def __mul__(self, f2):\n",
    "        new_num = self.num*f2.num\n",
    "        new_den = self.den*f2.den\n",
    "        return Fraction(new_num, new_den)\n",
    "    def __truediv__(self, f2):\n",
    "        new_num = self.num*f2.den\n",
    "        new_den = self.den*f2.num\n",
    "        return Fraction(new_num, new_den)\n",
    "    def __gt__(self, f2):\n",
    "        if self.num*f2.den > f2.num*self.den:\n",
    "            return True\n",
    "        else:\n",
    "            return False\n",
    "    def __ge__(self, f2):\n",
    "        if self.num*f2.den >= f2.num*self.den:\n",
    "            return True\n",
    "        else:\n",
    "            return False\n",
    "    def __lt__(self, f2):\n",
    "        if self.num*f2.den < f2.num*self.den:\n",
    "            return True\n",
    "        else:\n",
    "            return False\n",
    "    def __le__(self, f2):\n",
    "        if self.num*f2.den <= f2.num*self.den:\n",
    "            return True\n",
    "        else:\n",
    "            return False  \n",
    "    def __ne__(self, f2):\n",
    "        if self.num*f2.den != f2.num*self.den:\n",
    "            return True\n",
    "        else:\n",
    "            return False   \n",
    "        \n",
    "    \n",
    "def main():\n",
    "    f = Fraction(4, 8)\n",
    "    print(f)\n",
    "    f2 = Fraction(1, 3)\n",
    "    print(f-f2)\n",
    "    print(f*f2)\n",
    "    print(f/f2)\n",
    "    print(f!=f2)\n",
    "\n",
    "if __name__ == \"__main__\":\n",
    "    main()"
   ]
  },
  {
   "cell_type": "markdown",
   "metadata": {},
   "source": [
    "5. Modify the constructor for the fraction class so that it checks to make sure that the numerator and denominator are both integers. If either is not an integer the constructor should raise an exception.\n"
   ]
  },
  {
   "cell_type": "code",
   "execution_count": 10,
   "metadata": {},
   "outputs": [
    {
     "ename": "RuntimeError",
     "evalue": "Please make sure that the numerator and denominator are both integers!",
     "output_type": "error",
     "traceback": [
      "\u001b[1;31m---------------------------------------------------------------------------\u001b[0m",
      "\u001b[1;31mRuntimeError\u001b[0m                              Traceback (most recent call last)",
      "\u001b[1;32m<ipython-input-10-4d496045ebfa>\u001b[0m in \u001b[0;36m<module>\u001b[1;34m()\u001b[0m\n\u001b[0;32m     71\u001b[0m \u001b[1;33m\u001b[0m\u001b[0m\n\u001b[0;32m     72\u001b[0m \u001b[1;32mif\u001b[0m \u001b[0m__name__\u001b[0m \u001b[1;33m==\u001b[0m \u001b[1;34m\"__main__\"\u001b[0m\u001b[1;33m:\u001b[0m\u001b[1;33m\u001b[0m\u001b[0m\n\u001b[1;32m---> 73\u001b[1;33m     \u001b[0mmain\u001b[0m\u001b[1;33m(\u001b[0m\u001b[1;33m)\u001b[0m\u001b[1;33m\u001b[0m\u001b[0m\n\u001b[0m",
      "\u001b[1;32m<ipython-input-10-4d496045ebfa>\u001b[0m in \u001b[0;36mmain\u001b[1;34m()\u001b[0m\n\u001b[0;32m     62\u001b[0m \u001b[1;33m\u001b[0m\u001b[0m\n\u001b[0;32m     63\u001b[0m \u001b[1;32mdef\u001b[0m \u001b[0mmain\u001b[0m\u001b[1;33m(\u001b[0m\u001b[1;33m)\u001b[0m\u001b[1;33m:\u001b[0m\u001b[1;33m\u001b[0m\u001b[0m\n\u001b[1;32m---> 64\u001b[1;33m     \u001b[0mf\u001b[0m \u001b[1;33m=\u001b[0m \u001b[0mFraction\u001b[0m\u001b[1;33m(\u001b[0m\u001b[1;36m4.2\u001b[0m\u001b[1;33m,\u001b[0m \u001b[1;36m8\u001b[0m\u001b[1;33m)\u001b[0m\u001b[1;33m\u001b[0m\u001b[0m\n\u001b[0m\u001b[0;32m     65\u001b[0m     \u001b[0mprint\u001b[0m\u001b[1;33m(\u001b[0m\u001b[0mf\u001b[0m\u001b[1;33m)\u001b[0m\u001b[1;33m\u001b[0m\u001b[0m\n\u001b[0;32m     66\u001b[0m     \u001b[0mf2\u001b[0m \u001b[1;33m=\u001b[0m \u001b[0mFraction\u001b[0m\u001b[1;33m(\u001b[0m\u001b[1;36m1\u001b[0m\u001b[1;33m,\u001b[0m \u001b[1;36m3\u001b[0m\u001b[1;33m)\u001b[0m\u001b[1;33m\u001b[0m\u001b[0m\n",
      "\u001b[1;32m<ipython-input-10-4d496045ebfa>\u001b[0m in \u001b[0;36m__init__\u001b[1;34m(self, top, bot)\u001b[0m\n\u001b[0;32m     11\u001b[0m     \u001b[1;32mdef\u001b[0m \u001b[0m__init__\u001b[0m\u001b[1;33m(\u001b[0m\u001b[0mself\u001b[0m\u001b[1;33m,\u001b[0m \u001b[0mtop\u001b[0m\u001b[1;33m,\u001b[0m \u001b[0mbot\u001b[0m\u001b[1;33m)\u001b[0m\u001b[1;33m:\u001b[0m\u001b[1;33m\u001b[0m\u001b[0m\n\u001b[0;32m     12\u001b[0m         \u001b[1;32mif\u001b[0m \u001b[0mtype\u001b[0m\u001b[1;33m(\u001b[0m\u001b[0mtop\u001b[0m\u001b[1;33m)\u001b[0m\u001b[1;33m!=\u001b[0m\u001b[0mint\u001b[0m \u001b[1;32mor\u001b[0m \u001b[0mtype\u001b[0m\u001b[1;33m(\u001b[0m\u001b[0mbot\u001b[0m\u001b[1;33m)\u001b[0m\u001b[1;33m!=\u001b[0m\u001b[0mint\u001b[0m\u001b[1;33m:\u001b[0m\u001b[1;33m\u001b[0m\u001b[0m\n\u001b[1;32m---> 13\u001b[1;33m             \u001b[1;32mraise\u001b[0m \u001b[0mRuntimeError\u001b[0m\u001b[1;33m(\u001b[0m\u001b[1;34m\"Please make sure that the numerator and denominator are both integers!\"\u001b[0m\u001b[1;33m)\u001b[0m\u001b[1;33m\u001b[0m\u001b[0m\n\u001b[0m\u001b[0;32m     14\u001b[0m         \u001b[1;32melse\u001b[0m\u001b[1;33m:\u001b[0m\u001b[1;33m\u001b[0m\u001b[0m\n\u001b[0;32m     15\u001b[0m             \u001b[0mcommon\u001b[0m \u001b[1;33m=\u001b[0m \u001b[0mgcd\u001b[0m\u001b[1;33m(\u001b[0m\u001b[0mtop\u001b[0m\u001b[1;33m,\u001b[0m \u001b[0mbot\u001b[0m\u001b[1;33m)\u001b[0m\u001b[1;33m\u001b[0m\u001b[0m\n",
      "\u001b[1;31mRuntimeError\u001b[0m: Please make sure that the numerator and denominator are both integers!"
     ]
    }
   ],
   "source": [
    "def gcd(m, n):\n",
    "    while m%n != 0:\n",
    "        oldm = m\n",
    "        oldn = n\n",
    "        \n",
    "        m = oldn\n",
    "        n = oldm%oldn\n",
    "    return n\n",
    "\n",
    "class Fraction:\n",
    "    def __init__(self, top, bot):\n",
    "        if type(top)!=int or type(bot)!=int:\n",
    "            raise RuntimeError(\"Please make sure that the numerator and denominator are both integers!\")\n",
    "        else:\n",
    "            common = gcd(top, bot)\n",
    "            self.num = top//common\n",
    "            self.den = bot//common\n",
    "    def __str__(self):\n",
    "        return str(self.num)+\"/\"+str(self.den)\n",
    "    def __add__(self, f2):\n",
    "        new_num = self.num*f2.den + self.den*f2.num\n",
    "        new_den = self.den * f2.den\n",
    "        return Fraction(new_num, new_den)\n",
    "    def __sub__(self, f2):\n",
    "        new_num = self.num*f2.den - self.den*f2.num\n",
    "        new_den = self.den * f2.den\n",
    "        return Fraction(new_num, new_den)\n",
    "    def __mul__(self, f2):\n",
    "        new_num = self.num*f2.num\n",
    "        new_den = self.den*f2.den\n",
    "        return Fraction(new_num, new_den)\n",
    "    def __truediv__(self, f2):\n",
    "        new_num = self.num*f2.den\n",
    "        new_den = self.den*f2.num\n",
    "        return Fraction(new_num, new_den)\n",
    "    def __gt__(self, f2):\n",
    "        if self.num*f2.den > f2.num*self.den:\n",
    "            return True\n",
    "        else:\n",
    "            return False\n",
    "    def __ge__(self, f2):\n",
    "        if self.num*f2.den >= f2.num*self.den:\n",
    "            return True\n",
    "        else:\n",
    "            return False\n",
    "    def __lt__(self, f2):\n",
    "        if self.num*f2.den < f2.num*self.den:\n",
    "            return True\n",
    "        else:\n",
    "            return False\n",
    "    def __le__(self, f2):\n",
    "        if self.num*f2.den <= f2.num*self.den:\n",
    "            return True\n",
    "        else:\n",
    "            return False  \n",
    "    def __ne__(self, f2):\n",
    "        if self.num*f2.den != f2.num*self.den:\n",
    "            return True\n",
    "        else:\n",
    "            return False   \n",
    "        \n",
    "    \n",
    "def main():\n",
    "    f = Fraction(4.2, 8)\n",
    "    print(f)\n",
    "    f2 = Fraction(1, 3)\n",
    "    print(f-f2)\n",
    "    print(f*f2)\n",
    "    print(f/f2)\n",
    "    print(f!=f2)\n",
    "\n",
    "if __name__ == \"__main__\":\n",
    "    main()"
   ]
  },
  {
   "cell_type": "markdown",
   "metadata": {},
   "source": [
    "6. In the definition of fractions we assumed that negative fractions have a negative numerator and a positive denominator. Using a negative denominator would cause some of the relational operators to give incorrect results. In general, this is an unnecessary constraint. Modify the constructor to allow the user to pass a negative denominator so that all of the operators continue to work properly.\n"
   ]
  },
  {
   "cell_type": "markdown",
   "metadata": {},
   "source": [
    "7. Research the __radd__ method. How does it differ from __add__? When is it used? Implement __radd__.\n"
   ]
  },
  {
   "cell_type": "markdown",
   "metadata": {},
   "source": [
    "8. Repeat the last question but this time consider the __iadd__ method.\n"
   ]
  },
  {
   "cell_type": "markdown",
   "metadata": {},
   "source": [
    "9. Research the __repr__ method. How does it differ from __str__? When is it used? Implement __repr__.\n"
   ]
  },
  {
   "cell_type": "markdown",
   "metadata": {},
   "source": [
    "10. Research other types of gates that exist (such as NAND, NOR, and XOR). Add them to the circuit hierarchy. How much additional coding did you need to do?\n"
   ]
  },
  {
   "cell_type": "markdown",
   "metadata": {},
   "source": [
    "11. The most simple arithmetic circuit is known as the half-adder. Research the simple half-adder circuit. Implement this circuit.\n"
   ]
  },
  {
   "cell_type": "markdown",
   "metadata": {},
   "source": [
    "12. Now extend that circuit and implement an 8 bit full-adder.\n"
   ]
  },
  {
   "cell_type": "markdown",
   "metadata": {},
   "source": [
    "13. The circuit simulation shown in this chapter works in a backward direction. In other words, given a circuit, the output is produced by working back through the input values, which in turn cause other outputs to be queried. This continues until external input lines are found, at which point the user is asked for values. Modify the implementation so that the action is in the forward direction; upon receiving inputs the circuit produces an output.\n"
   ]
  },
  {
   "cell_type": "markdown",
   "metadata": {},
   "source": [
    "14. Design a class to represent a playing card. Now design a class to represent a deck of cards. Using these two classes, implement a favorite card game.\n"
   ]
  },
  {
   "cell_type": "markdown",
   "metadata": {},
   "source": [
    "15. Find a Sudoku puzzle in the local newspaper. Write a program to solve the puzzle."
   ]
  }
 ],
 "metadata": {
  "kernelspec": {
   "display_name": "Python 3",
   "language": "python",
   "name": "python3"
  },
  "language_info": {
   "codemirror_mode": {
    "name": "ipython",
    "version": 3
   },
   "file_extension": ".py",
   "mimetype": "text/x-python",
   "name": "python",
   "nbconvert_exporter": "python",
   "pygments_lexer": "ipython3",
   "version": "3.6.3"
  }
 },
 "nbformat": 4,
 "nbformat_minor": 2
}
