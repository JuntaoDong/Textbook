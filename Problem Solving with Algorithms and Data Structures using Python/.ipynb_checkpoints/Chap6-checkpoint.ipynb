{
 "cells": [
  {
   "cell_type": "code",
   "execution_count": 6,
   "metadata": {},
   "outputs": [
    {
     "name": "stdout",
     "output_type": "stream",
     "text": [
      "2\n",
      "-----\n",
      "2\n",
      "1\n",
      "5\n",
      "4\n"
     ]
    }
   ],
   "source": [
    "class binary_tree:\n",
    "    def __init__(self, rootObj):\n",
    "        self.key = rootObj\n",
    "        self.leftChild = None\n",
    "        self.rightChild = None\n",
    "        \n",
    "    def insertLeft(self, newNode):\n",
    "        if isinstance(newNode, binary_tree):\n",
    "            t = newNode\n",
    "        else:\n",
    "            t = binary_tree(newNode)\n",
    "            \n",
    "        if self.leftChild is not None:\n",
    "            t.leftChild = self.leftChild\n",
    "        self.leftChild = t\n",
    "        \n",
    "    def insertRight(self, newNode):\n",
    "        if isinstance(newNode, binary_tree):\n",
    "            t = newNode\n",
    "        else:\n",
    "            t = binary_tree(newNode)\n",
    "            \n",
    "        if self.rightChild is not None:\n",
    "            t.rightChild = self.rightChild\n",
    "        self.rightChild = t\n",
    "        \n",
    "    def isLeaf(self):\n",
    "        return not (self.leftChild or self.rightChild)\n",
    "    \n",
    "    def getRightChild(self):\n",
    "        return self.rightChild\n",
    "    \n",
    "    def getLeftChild(self):\n",
    "        return self.leftChild\n",
    "    \n",
    "    def setRootVal(self, obj):\n",
    "        self.key = obj\n",
    "        \n",
    "    def getRootVal(self):\n",
    "        return self.key\n",
    "    \n",
    "    def inOrder(self):\n",
    "        if self.leftChild:\n",
    "            self.leftChild.inOrder()\n",
    "        print(self.key)\n",
    "        if self.rightChild:\n",
    "            self.rightChild.inOrder()\n",
    "        \n",
    "    def postOrder(self):\n",
    "        if self.leftChild:\n",
    "            self.leftChild.postOrder()\n",
    "        if self.rightChild:\n",
    "            self.rightChild.postOrder()\n",
    "        print(self.key)\n",
    "        \n",
    "    def preOrder(self):\n",
    "        print(self.key)\n",
    "        if self.leftChild:\n",
    "            self.leftChild.preOrder()\n",
    "        if self.rightChild:\n",
    "            self.rightChild.preOrder()\n",
    "            \n",
    "    def printexp(self):\n",
    "        if self.leftChild:\n",
    "            print('(', end = ' ')\n",
    "            self.leftChild.printexp()\n",
    "        print(self.key)\n",
    "        if self.rightChild:\n",
    "            self.rightChild.printexp()\n",
    "            print(')', end = ' ')\n",
    "            \n",
    "    def postOrderEval(self):\n",
    "        opers = {'+':operator.add, '-':operator.sub, '*':operator.mul, '/':operator.truediv}\n",
    "        res1 = None\n",
    "        res2 = None\n",
    "        if self.leftChild:\n",
    "            res1 = self.leftChild.postOrderEval()\n",
    "        if self.rightChild:\n",
    "            res2 = self.rightChild.postOrderEval()\n",
    "        if res1 and res2:\n",
    "            return opers[self.key](res1, res2)\n",
    "        else:\n",
    "            return self.key\n",
    "\n",
    "test = binary_tree(1)\n",
    "test.insertLeft(2)\n",
    "print(test.getLeftChild().key)\n",
    "test.insertRight(4)\n",
    "test.insertRight(5)\n",
    "print('-----')\n",
    "test.inOrder()"
   ]
  },
  {
   "cell_type": "markdown",
   "metadata": {},
   "source": [
    "#### 1. Extend the buildParseTree function to handle mathematical expressions that do not have spaces between every character.\n"
   ]
  },
  {
   "cell_type": "code",
   "execution_count": 10,
   "metadata": {},
   "outputs": [
    {
     "name": "stdout",
     "output_type": "stream",
     "text": [
      "['(', '(', '10', '+', '5', ')', '*', '3', ')']\n",
      "10\n",
      "5\n",
      "+\n",
      "3\n",
      "*\n"
     ]
    }
   ],
   "source": [
    "from pythonds.basic import Stack\n",
    "from pythonds.trees import BinaryTree\n",
    "\n",
    "def buildParseTree(fpexp):\n",
    "    fplist = []\n",
    "    num = ''\n",
    "    i = 0\n",
    "    while i < len(fpexp):\n",
    "        if fpexp[i] in ['(', ')', '+', '-', '*', '/']:\n",
    "            fplist.append(fpexp[i])\n",
    "            i += 1\n",
    "        else:\n",
    "            num += fpexp[i] \n",
    "            i += 1\n",
    "            while fpexp[i] not in ['(', ')', '+', '-', '*', '/']:\n",
    "                num += fpexp[i]\n",
    "                i += 1\n",
    "            fplist.append(num)\n",
    "            num = ''   \n",
    "            \n",
    "    print(fplist)\n",
    "    pStack = Stack()\n",
    "    eTree = BinaryTree('')\n",
    "    pStack.push(eTree)\n",
    "    currentTree = eTree\n",
    "\n",
    "    for i in fplist:\n",
    "        if i == '(':\n",
    "            currentTree.insertLeft('')\n",
    "            pStack.push(currentTree)\n",
    "            currentTree = currentTree.getLeftChild()\n",
    "\n",
    "        elif i in ['+', '-', '*', '/']:\n",
    "            currentTree.setRootVal(i)\n",
    "            currentTree.insertRight('')\n",
    "            pStack.push(currentTree)\n",
    "            currentTree = currentTree.getRightChild()\n",
    "\n",
    "        elif i == ')':\n",
    "            currentTree = pStack.pop()\n",
    "\n",
    "        elif i not in ['+', '-', '*', '/', ')']:\n",
    "            try:\n",
    "                currentTree.setRootVal(int(i))\n",
    "                parent = pStack.pop()\n",
    "                currentTree = parent\n",
    "\n",
    "            except ValueError:\n",
    "                raise ValueError(\"token '{}' is not a valid integer\".format(i))\n",
    "\n",
    "    return eTree\n",
    "\n",
    "pt = buildParseTree(\"((10+5)*3)\")\n",
    "pt.postorder()  #defined and explained in the next section\n"
   ]
  },
  {
   "cell_type": "markdown",
   "metadata": {},
   "source": [
    "#### 2. Modify the buildParseTree and evaluate functions to handle boolean statements (and, or, and not). Remember that “not” is a unary operator, so this will complicate your code somewhat.\n"
   ]
  },
  {
   "cell_type": "code",
   "execution_count": 33,
   "metadata": {},
   "outputs": [
    {
     "name": "stdout",
     "output_type": "stream",
     "text": [
      "2\n",
      "3\n",
      "+\n",
      "3\n",
      "*\n",
      "2\n",
      "11\n",
      "and\n",
      "not\n",
      "\n",
      "or\n"
     ]
    }
   ],
   "source": [
    "from pythonds.basic import Stack\n",
    "from pythonds.trees import BinaryTree\n",
    "import operator\n",
    "\n",
    "def buildParseTree(fpexp):\n",
    "    fplist = fpexp.split()\n",
    "    pStack = Stack()\n",
    "    eTree = BinaryTree('')\n",
    "    pStack.push(eTree)\n",
    "    currentTree = eTree\n",
    "    \n",
    "    for i in fplist:\n",
    "        if i == '(':\n",
    "            currentTree.insertLeft('')\n",
    "            pStack.push(currentTree)\n",
    "            currentTree = currentTree.getLeftChild()\n",
    "        elif i in ['+', '-', '*', '/', 'and', 'or']:\n",
    "            currentTree.setRootVal(i)\n",
    "            currentTree.insertRight('')\n",
    "            pStack.push(currentTree)\n",
    "            currentTree = currentTree.getRightChild()\n",
    "        elif i == ')':\n",
    "            currentTree = pStack.pop()\n",
    "        elif i == 'not':\n",
    "            currentTree.setRootVal(i)\n",
    "            currentTree.insertLeft('')\n",
    "            pStack.push(currentTree)\n",
    "            currentTree = currentTree.getLeftChild()\n",
    "        elif i not in ['+', '-', '*', '/', 'and', 'or', 'not', '(', ')']:\n",
    "            try:\n",
    "                currentTree.setRootVal(int(i))\n",
    "                parent = pStack.pop()\n",
    "                currentTree = parent\n",
    "            except ValueError:\n",
    "                raise ValueError(\"token '{}' is not a valid integer\".format(i))\n",
    "                \n",
    "    return eTree\n",
    "\n",
    "def evaluate(parseTree):\n",
    "    opers = {'+':operator.add, '-':operator.sub, '*':operator.mul, '/':operator.truediv, \n",
    "             'and':operator.and_, 'or':operator.or_, 'not':operator.not_}\n",
    "    leftC = parseTree.getLeftChild()\n",
    "    rightC = parseTree.getRightChild()\n",
    "    if leftC and rightC:\n",
    "        fn = opers[parseTree.getRootVal()]\n",
    "        return fn(evaluate(leftC), evaluate(rightC))\n",
    "    else:\n",
    "        return parseTree.getRootVal()\n",
    "\n",
    "\n",
    "pt = buildParseTree(\"( ( ( 2 + 3 ) * 3 ) or ( not ( 2 and 11 ) ) )\")\n",
    "pt.postorder()\n",
    "#print(evaluate(pt))"
   ]
  },
  {
   "cell_type": "code",
   "execution_count": 31,
   "metadata": {},
   "outputs": [
    {
     "data": {
      "text/plain": [
       "''"
      ]
     },
     "execution_count": 31,
     "metadata": {},
     "output_type": "execute_result"
    }
   ],
   "source": [
    "_"
   ]
  },
  {
   "cell_type": "markdown",
   "metadata": {},
   "source": [
    "#### 3. Using the findSuccessor method, write a non-recursive inorder traversal for a binary search tree.\n"
   ]
  },
  {
   "cell_type": "code",
   "execution_count": null,
   "metadata": {},
   "outputs": [],
   "source": []
  },
  {
   "cell_type": "markdown",
   "metadata": {},
   "source": [
    "Modify the code for a binary search tree to make it threaded. Write a non-recursive inorder traversal method for the threaded binary search tree. A threaded binary tree maintains a reference from each node to its successor.\n",
    "Modify our implementation of the binary search tree so that it handles duplicate keys properly. That is, if a key is already in the tree then the new payload should replace the old rather than add another node with the same key.\n",
    "Create a binary heap with a limited heap size. In other words, the heap only keeps track of the n most important items. If the heap grows in size to more than n items the least important item is dropped.\n",
    "Clean up the printexp function so that it does not include an ‘extra’ set of parentheses around each number.\n",
    "Using the buildHeap method, write a sorting function that can sort a list in O(nlogn) time.\n",
    "Write a function that takes a parse tree for a mathematical expression and calculates the derivative of the expression with respect to some variable.\n",
    "Implement a binary heap as a max heap.\n",
    "Using the BinaryHeap class, implement a new class called PriorityQueue. Your PriorityQueue class should implement the constructor, plus the enqueue and dequeue methods."
   ]
  }
 ],
 "metadata": {
  "kernelspec": {
   "display_name": "Python 3",
   "language": "python",
   "name": "python3"
  },
  "language_info": {
   "codemirror_mode": {
    "name": "ipython",
    "version": 3
   },
   "file_extension": ".py",
   "mimetype": "text/x-python",
   "name": "python",
   "nbconvert_exporter": "python",
   "pygments_lexer": "ipython3",
   "version": "3.7.3"
  }
 },
 "nbformat": 4,
 "nbformat_minor": 2
}
