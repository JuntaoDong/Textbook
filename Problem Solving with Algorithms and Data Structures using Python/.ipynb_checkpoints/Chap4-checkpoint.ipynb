{
 "cells": [
  {
   "cell_type": "markdown",
   "metadata": {},
   "source": [
    "#### 1. Write a recursive function to compute the factorial of a number.\n"
   ]
  },
  {
   "cell_type": "code",
   "execution_count": 3,
   "metadata": {},
   "outputs": [
    {
     "name": "stdout",
     "output_type": "stream",
     "text": [
      "3628800\n"
     ]
    }
   ],
   "source": [
    "def recFact(n):\n",
    "    if n <= 1:\n",
    "        return 1\n",
    "    else:\n",
    "        return n * recFact(n-1)\n",
    "    \n",
    "print(recFact(10))"
   ]
  },
  {
   "cell_type": "markdown",
   "metadata": {},
   "source": [
    "#### 2. Write a recursive function to reverse a list.\n"
   ]
  },
  {
   "cell_type": "code",
   "execution_count": 20,
   "metadata": {},
   "outputs": [
    {
     "name": "stdout",
     "output_type": "stream",
     "text": [
      "['4', '3', '2', '1']\n"
     ]
    }
   ],
   "source": [
    "def revList(lst):\n",
    "    if len(lst) == 1:\n",
    "        return lst\n",
    "    else:\n",
    "        return revList(lst[1:])+[lst[0]]\n",
    "    \n",
    "s = [\"1\", \"2\", \"3\", \"4\"]\n",
    "print(revList(s))"
   ]
  },
  {
   "cell_type": "markdown",
   "metadata": {},
   "source": [
    "#### 3. Modify the recursive tree program using one or all of the following ideas:\n",
    "+ Modify the thickness of the branches so that as the branchLen gets smaller, the line gets thinner.\n",
    "+ Modify the color of the branches so that as the branchLen gets very short it is colored like a leaf.\n",
    "+ Modify the angle used in turning the turtle so that at each branch point the angle is selected at random in some range. For example choose the angle between 15 and 45 degrees. Play around to see what looks good.\n",
    "+ Modify the branchLen recursively so that instead of always subtracting the same amount you subtract a random amount in some range.\n",
    "\n",
    "If you implement all of the above ideas you will have a very realistic looking tree.\n"
   ]
  },
  {
   "cell_type": "markdown",
   "metadata": {},
   "source": [
    "\n",
    "\n",
    "\n",
    "\n",
    "\n",
    "Find or invent an algorithm for drawing a fractal mountain. Hint: One approach to this uses triangles again.\n",
    "\n",
    "Write a recursive function to compute the Fibonacci sequence. How does the performance of the recursive function compare to that of an iterative version?\n",
    "\n",
    "Implement a solution to the Tower of Hanoi using three stacks to keep track of the disks.\n",
    "\n",
    "Using the turtle graphics module, write a recursive program to display a Hilbert curve.\n",
    "\n",
    "Using the turtle graphics module, write a recursive program to display a Koch snowflake.\n",
    "\n",
    "Write a program to solve the following problem: You have two jugs: a 4-gallon jug and a 3-gallon jug. Neither of the jugs have markings on them. There is a pump that can be used to fill the jugs with water. How can you get exactly two gallons of water in the 4-gallon jug?\n",
    "\n",
    "Generalize the problem above so that the parameters to your solution include the sizes of each jug and the final amount of water to be left in the larger jug.\n",
    "\n",
    "Write a program that solves the following problem: Three missionaries and three cannibals come to a river and find a boat that holds two people. Everyone must get across the river to continue on the journey. However, if the cannibals ever outnumber the missionaries on either bank, the missionaries will be eaten. Find a series of crossings that will get everyone safely to the other side of the river.\n",
    "\n",
    "Modify the Tower of Hanoi program using turtle graphics to animate the movement of the disks. Hint: You can make multiple turtles and have them shaped like rectangles.\n",
    "\n",
    "Pascal’s triangle is a number triangle with numbers arranged in staggered rows such that\n",
    "\n",
    "anr=n!r!(n−r)!\n",
    "This equation is the equation for a binomial coefficient. You can build Pascal’s triangle by adding the two numbers that are diagonally above a number in the triangle. An example of Pascal’s triangle is shown below.\n",
    "\n",
    "        1\n",
    "      1   1\n",
    "    1   2   1\n",
    "  1   3   3   1\n",
    "1   4   6   4   1\n",
    "Write a program that prints out Pascal’s triangle. Your program should accept a parameter that tells how many rows of the triangle to print.\n",
    "\n",
    "Suppose you are a computer scientist/art thief who has broken into a major art gallery. All you have with you to haul out your stolen art is your knapsack which only holds W pounds of art, but for every piece of art you know its value and its weight. Write a dynamic programming function to help you maximize your profit. Here is a sample problem for you to use to get started: Suppose your knapsack can hold a total weight of 20. You have 5 items as follows:\n",
    "\n",
    "item     weight      value\n",
    "  1        2           3\n",
    "  2        3           4\n",
    "  3        4           8\n",
    "  4        5           8\n",
    "  5        9          10\n",
    "This problem is called the string edit distance problem, and is quite useful in many areas of research. Suppose that you want to transform the word “algorithm” into the word “alligator.” For each letter you can either copy the letter from one word to another at a cost of 5, you can delete a letter at cost of 20, or insert a letter at a cost of 20. The total cost to transform one word into another is used by spell check programs to provide suggestions for words that are close to one another. Use dynamic programming techniques to develop an algorithm that gives you the smallest edit distance between any two words."
   ]
  }
 ],
 "metadata": {
  "kernelspec": {
   "display_name": "Python 3",
   "language": "python",
   "name": "python3"
  },
  "language_info": {
   "codemirror_mode": {
    "name": "ipython",
    "version": 3
   },
   "file_extension": ".py",
   "mimetype": "text/x-python",
   "name": "python",
   "nbconvert_exporter": "python",
   "pygments_lexer": "ipython3",
   "version": "3.7.3"
  }
 },
 "nbformat": 4,
 "nbformat_minor": 2
}
