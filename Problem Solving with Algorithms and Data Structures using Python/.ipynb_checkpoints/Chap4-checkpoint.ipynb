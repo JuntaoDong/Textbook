{
 "cells": [
  {
   "cell_type": "markdown",
   "metadata": {},
   "source": [
    "#### 1. Write a recursive function to compute the factorial of a number.\n"
   ]
  },
  {
   "cell_type": "code",
   "execution_count": 1,
   "metadata": {},
   "outputs": [
    {
     "name": "stdout",
     "output_type": "stream",
     "text": [
      "3628800\n"
     ]
    }
   ],
   "source": [
    "def recFact(n):\n",
    "    if n <= 1:\n",
    "        return 1\n",
    "    else:\n",
    "        return n * recFact(n-1)\n",
    "    \n",
    "print(recFact(10))"
   ]
  },
  {
   "cell_type": "markdown",
   "metadata": {},
   "source": [
    "#### 2. Write a recursive function to reverse a list.\n"
   ]
  },
  {
   "cell_type": "code",
   "execution_count": 3,
   "metadata": {},
   "outputs": [
    {
     "name": "stdout",
     "output_type": "stream",
     "text": [
      "['4', '3', '2', '1']\n"
     ]
    }
   ],
   "source": [
    "def revList(lst):\n",
    "    if len(lst) == 1:\n",
    "        return lst\n",
    "    else:\n",
    "        return revList(lst[1:])+[lst[0]]\n",
    "    \n",
    "s = [\"1\", \"2\", \"3\", \"4\"]\n",
    "print(revList(s))"
   ]
  },
  {
   "cell_type": "markdown",
   "metadata": {},
   "source": [
    "#### 3. Modify the recursive tree program using one or all of the following ideas:\n",
    "+ Modify the thickness of the branches so that as the branchLen gets smaller, the line gets thinner.\n",
    "+ Modify the color of the branches so that as the branchLen gets very short it is colored like a leaf.\n",
    "+ Modify the angle used in turning the turtle so that at each branch point the angle is selected at random in some range. For example choose the angle between 15 and 45 degrees. Play around to see what looks good.\n",
    "+ Modify the branchLen recursively so that instead of always subtracting the same amount you subtract a random amount in some range.\n",
    "\n",
    "If you implement all of the above ideas you will have a very realistic looking tree.\n"
   ]
  },
  {
   "cell_type": "code",
   "execution_count": 37,
   "metadata": {},
   "outputs": [],
   "source": [
    "import turtle\n",
    "import random\n",
    "\n",
    "def tree(branchLen,t):\n",
    "    if branchLen > 5:\n",
    "        if branchLen < 20:\n",
    "            t.color(\"green\")\n",
    "        else:\n",
    "            t.color(\"brown\")\n",
    "        t.width(branchLen/5)\n",
    "        t.forward(branchLen)\n",
    "        \n",
    "        degree = random.randint(15,45)\n",
    "        sub = random.randint(7, 11)\n",
    "        t.right(degree)\n",
    "        tree(branchLen-sub,t)\n",
    "        t.left(2*degree)\n",
    "        tree(branchLen-sub,t)\n",
    "        t.right(degree)\n",
    "        t.backward(branchLen)\n",
    "\n",
    "def main():\n",
    "    t = turtle.Turtle()\n",
    "    myWin = turtle.Screen()\n",
    "    t.left(90) \n",
    "    t.up()\n",
    "    t.backward(100)\n",
    "    t.down()\n",
    "    tree(75,t)\n",
    "    myWin.exitonclick()\n",
    "\n",
    "main()\n"
   ]
  },
  {
   "cell_type": "markdown",
   "metadata": {},
   "source": [
    "![tree](./images/chap4tree.PNG)\n",
    "\n",
    "#### 4. Find or invent an algorithm for drawing a fractal mountain. Hint: One approach to this uses triangles again.\n"
   ]
  },
  {
   "cell_type": "code",
   "execution_count": 11,
   "metadata": {},
   "outputs": [],
   "source": [
    "import turtle\n",
    "import random\n",
    "\n",
    "def drawTriangle(points,myTurtle, visible):\n",
    "    myTurtle.up()\n",
    "    myTurtle.goto(points[0][0],points[0][1])\n",
    "    if visible == True:\n",
    "        myTurtle.down()\n",
    "    myTurtle.goto(points[1][0],points[1][1])\n",
    "    myTurtle.goto(points[2][0],points[2][1])\n",
    "    myTurtle.goto(points[0][0],points[0][1])\n",
    "    myTurtle.end_fill()\n",
    "\n",
    "def getConnector(p1,p2,degree):\n",
    "    random.seed(degree)\n",
    "    r = random.uniform(1.8, 2.2)\n",
    "    return ( (p1[0]+p2[0]) / r, (p1[1] + p2[1]) / r)\n",
    "\n",
    "def sierpinski(points,degree,myTurtle):\n",
    "    \n",
    "    if degree > 0:\n",
    "        drawTriangle(points,myTurtle, degree==1)\n",
    "        sierpinski([points[0],\n",
    "                        getConnector(points[0], points[1],degree),\n",
    "                        getConnector(points[0], points[2],degree)],\n",
    "                   degree-1, myTurtle)\n",
    "        sierpinski([points[1],\n",
    "                        getConnector(points[0], points[1],degree),\n",
    "                        getConnector(points[1], points[2],degree)],\n",
    "                   degree-1, myTurtle)\n",
    "        sierpinski([points[2],\n",
    "                        getConnector(points[2], points[1],degree),\n",
    "                        getConnector(points[0], points[2],degree)],\n",
    "                   degree-1, myTurtle)\n",
    "        sierpinski([getConnector(points[0], points[1],degree),\n",
    "                        getConnector(points[2], points[1],degree),\n",
    "                        getConnector(points[0], points[2],degree)],\n",
    "                   degree-1, myTurtle)\n",
    "\n",
    "def main():\n",
    "   myTurtle = turtle.Turtle()\n",
    "   myWin = turtle.Screen()\n",
    "   myPoints = [[-200,-100],[0,200],[200,-100]]\n",
    "   sierpinski(myPoints,5,myTurtle)\n",
    "   myWin.exitonclick()\n",
    "\n",
    "main()\n"
   ]
  },
  {
   "cell_type": "markdown",
   "metadata": {},
   "source": [
    "![mountain](./images/chap4mountain.PNG)\n",
    "#### 5. Write a recursive function to compute the Fibonacci sequence. How does the performance of the recursive function compare to that of an iterative version?\n"
   ]
  },
  {
   "cell_type": "code",
   "execution_count": 14,
   "metadata": {},
   "outputs": [
    {
     "name": "stdout",
     "output_type": "stream",
     "text": [
      "8\n"
     ]
    }
   ],
   "source": [
    "def Fibonacci(n):\n",
    "    if n == 0:\n",
    "        return 0\n",
    "    elif n == 1:\n",
    "        return 1\n",
    "    else:\n",
    "        return Fibonacci(n-1)+Fibonacci(n-2)\n",
    "    \n",
    "print(Fibonacci(6))\n",
    "        \n",
    "    "
   ]
  },
  {
   "cell_type": "markdown",
   "metadata": {},
   "source": [
    "#### 6. Implement a solution to the Tower of Hanoi using three stacks to keep track of the disks.\n"
   ]
  },
  {
   "cell_type": "code",
   "execution_count": 25,
   "metadata": {},
   "outputs": [
    {
     "name": "stdout",
     "output_type": "stream",
     "text": [
      "3\n",
      "[3, 2, 1]\n",
      "0\n",
      "0\n",
      "moving disk from <pythonds.basic.stack.Stack object at 0x000002448A741940> to <pythonds.basic.stack.Stack object at 0x000002448CA66B38>\n",
      "moving disk from <pythonds.basic.stack.Stack object at 0x000002448A741940> to <pythonds.basic.stack.Stack object at 0x000002448CA66390>\n",
      "moving disk from <pythonds.basic.stack.Stack object at 0x000002448CA66B38> to <pythonds.basic.stack.Stack object at 0x000002448CA66390>\n",
      "moving disk from <pythonds.basic.stack.Stack object at 0x000002448A741940> to <pythonds.basic.stack.Stack object at 0x000002448CA66B38>\n",
      "moving disk from <pythonds.basic.stack.Stack object at 0x000002448CA66390> to <pythonds.basic.stack.Stack object at 0x000002448A741940>\n",
      "moving disk from <pythonds.basic.stack.Stack object at 0x000002448CA66390> to <pythonds.basic.stack.Stack object at 0x000002448CA66B38>\n",
      "moving disk from <pythonds.basic.stack.Stack object at 0x000002448A741940> to <pythonds.basic.stack.Stack object at 0x000002448CA66B38>\n",
      "0\n",
      "3\n",
      "[3, 2, 1]\n",
      "0\n"
     ]
    }
   ],
   "source": [
    "from pythonds.basic.stack import Stack\n",
    "    \n",
    "def moveTower(height, fromPole, toPole, withPole):\n",
    "    if height >= 1:\n",
    "        moveTower(height-1, fromPole, withPole, toPole)\n",
    "        moveDisk(fromPole, toPole)\n",
    "        moveTower(height-1, withPole, toPole, fromPole)\n",
    "        \n",
    "def moveDisk(fp, tp):\n",
    "    tp.push(fp.pop())\n",
    "    print(\"moving disk from\",fp,\"to\",tp)\n",
    "    \n",
    "def initiatePole(height, pole):\n",
    "    while height > 0:\n",
    "        pole.push(height)\n",
    "        height -= 1\n",
    "    \n",
    "PoleA = Stack()\n",
    "PoleB = Stack()\n",
    "PoleC = Stack()\n",
    "height = 3\n",
    "initiatePole(height, PoleA)\n",
    "print(PoleA.size())\n",
    "print(PoleA.items)\n",
    "print(PoleB.size())\n",
    "print(PoleC.size())\n",
    "moveTower(height, PoleA, PoleB, PoleC)\n",
    "print(PoleA.size())\n",
    "print(PoleB.size())\n",
    "print(PoleB.items)\n",
    "print(PoleC.size())\n",
    "\n",
    "    "
   ]
  },
  {
   "cell_type": "code",
   "execution_count": null,
   "metadata": {},
   "outputs": [],
   "source": []
  },
  {
   "cell_type": "markdown",
   "metadata": {},
   "source": [
    "\n",
    "\n",
    "\n",
    "\n",
    "\n",
    "\n",
    "\n",
    "\n",
    "Using the turtle graphics module, write a recursive program to display a Hilbert curve.\n",
    "\n",
    "Using the turtle graphics module, write a recursive program to display a Koch snowflake.\n",
    "\n",
    "Write a program to solve the following problem: You have two jugs: a 4-gallon jug and a 3-gallon jug. Neither of the jugs have markings on them. There is a pump that can be used to fill the jugs with water. How can you get exactly two gallons of water in the 4-gallon jug?\n",
    "\n",
    "Generalize the problem above so that the parameters to your solution include the sizes of each jug and the final amount of water to be left in the larger jug.\n",
    "\n",
    "Write a program that solves the following problem: Three missionaries and three cannibals come to a river and find a boat that holds two people. Everyone must get across the river to continue on the journey. However, if the cannibals ever outnumber the missionaries on either bank, the missionaries will be eaten. Find a series of crossings that will get everyone safely to the other side of the river.\n",
    "\n",
    "Modify the Tower of Hanoi program using turtle graphics to animate the movement of the disks. Hint: You can make multiple turtles and have them shaped like rectangles.\n",
    "\n",
    "Pascal’s triangle is a number triangle with numbers arranged in staggered rows such that\n",
    "\n",
    "anr=n!r!(n−r)!\n",
    "This equation is the equation for a binomial coefficient. You can build Pascal’s triangle by adding the two numbers that are diagonally above a number in the triangle. An example of Pascal’s triangle is shown below.\n",
    "\n",
    "        1\n",
    "      1   1\n",
    "    1   2   1\n",
    "  1   3   3   1\n",
    "1   4   6   4   1\n",
    "Write a program that prints out Pascal’s triangle. Your program should accept a parameter that tells how many rows of the triangle to print.\n",
    "\n",
    "Suppose you are a computer scientist/art thief who has broken into a major art gallery. All you have with you to haul out your stolen art is your knapsack which only holds W pounds of art, but for every piece of art you know its value and its weight. Write a dynamic programming function to help you maximize your profit. Here is a sample problem for you to use to get started: Suppose your knapsack can hold a total weight of 20. You have 5 items as follows:\n",
    "\n",
    "item     weight      value\n",
    "  1        2           3\n",
    "  2        3           4\n",
    "  3        4           8\n",
    "  4        5           8\n",
    "  5        9          10\n",
    "This problem is called the string edit distance problem, and is quite useful in many areas of research. Suppose that you want to transform the word “algorithm” into the word “alligator.” For each letter you can either copy the letter from one word to another at a cost of 5, you can delete a letter at cost of 20, or insert a letter at a cost of 20. The total cost to transform one word into another is used by spell check programs to provide suggestions for words that are close to one another. Use dynamic programming techniques to develop an algorithm that gives you the smallest edit distance between any two words."
   ]
  },
  {
   "cell_type": "code",
   "execution_count": null,
   "metadata": {},
   "outputs": [],
   "source": []
  }
 ],
 "metadata": {
  "kernelspec": {
   "display_name": "Python 3",
   "language": "python",
   "name": "python3"
  },
  "language_info": {
   "codemirror_mode": {
    "name": "ipython",
    "version": 3
   },
   "file_extension": ".py",
   "mimetype": "text/x-python",
   "name": "python",
   "nbconvert_exporter": "python",
   "pygments_lexer": "ipython3",
   "version": "3.7.3"
  }
 },
 "nbformat": 4,
 "nbformat_minor": 2
}
