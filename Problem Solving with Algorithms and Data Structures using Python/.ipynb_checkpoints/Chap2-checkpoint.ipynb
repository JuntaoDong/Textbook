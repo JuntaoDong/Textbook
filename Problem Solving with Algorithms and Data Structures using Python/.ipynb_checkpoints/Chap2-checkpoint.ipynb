{
 "cells": [
  {
   "cell_type": "markdown",
   "metadata": {},
   "source": [
    "### 1. Devise an experiment to verify that the list index operator is O(1)"
   ]
  },
  {
   "cell_type": "code",
   "execution_count": 3,
   "metadata": {},
   "outputs": [
    {
     "name": "stdout",
     "output_type": "stream",
     "text": [
      "2.8809090551362715e-05\n",
      "5.9076869220575645e-05\n",
      "8.241587927670935e-05\n",
      "3.209113883428927e-05\n",
      "5.9076869220575645e-05\n",
      "3.136179476825873e-05\n",
      "5.834752515454511e-05\n",
      "5.871219718756038e-05\n",
      "3.500851509841141e-05\n"
     ]
    }
   ],
   "source": [
    "import timeit\n",
    "\n",
    "indexO = timeit.Timer(\"x[-1]\",\n",
    "                      \"from __main__ import x\")\n",
    "\n",
    "for i in range(1000000,10000000,1000000):\n",
    "    x = list(range(i))\n",
    "    t = indexO.timeit(number=1000)\n",
    "    print(t)"
   ]
  },
  {
   "cell_type": "markdown",
   "metadata": {},
   "source": [
    "### 2. Devise an experiment to verify that get item and set item are O(1) for dictionaries.\n"
   ]
  },
  {
   "cell_type": "code",
   "execution_count": 9,
   "metadata": {},
   "outputs": [
    {
     "name": "stdout",
     "output_type": "stream",
     "text": [
      "Get: 0.059s, Set: 0.064s\n",
      "Get: 0.064s, Set: 0.058s\n",
      "Get: 0.067s, Set: 0.066s\n",
      "Get: 0.056s, Set: 0.062s\n",
      "Get: 0.069s, Set: 0.065s\n",
      "Get: 0.061s, Set: 0.066s\n",
      "Get: 0.063s, Set: 0.063s\n",
      "Get: 0.063s, Set: 0.060s\n",
      "Get: 0.065s, Set: 0.065s\n"
     ]
    }
   ],
   "source": [
    "geti = timeit.Timer(\"x[9999]\",\n",
    "                    \"from __main__ import x\")\n",
    "seti = timeit.Timer(\"x[9999]=1\",\n",
    "                    \"from __main__ import x\")\n",
    "\n",
    "for i in range(10000, 100000, 10000):\n",
    "    x = {j:None for j in range(i)}\n",
    "    t_get = geti.timeit(number=1000000)\n",
    "    t_set = geti.timeit(number=1000000)\n",
    "    print(\"Get: %.3fs, Set: %.3fs\" % (t_get, t_set))\n",
    "    "
   ]
  },
  {
   "cell_type": "markdown",
   "metadata": {},
   "source": [
    "Devise an experiment that compares the performance of the del operator on lists and dictionaries.\n"
   ]
  },
  {
   "cell_type": "markdown",
   "metadata": {},
   "source": [
    "Given a list of numbers in random order, write an algorithm that works in O(nlog(n)) to find the kth smallest number in the list.\n"
   ]
  },
  {
   "cell_type": "markdown",
   "metadata": {},
   "source": [
    "Can you improve the algorithm from the previous problem to be linear? Explain."
   ]
  }
 ],
 "metadata": {
  "kernelspec": {
   "display_name": "Python 3",
   "language": "python",
   "name": "python3"
  },
  "language_info": {
   "codemirror_mode": {
    "name": "ipython",
    "version": 3
   },
   "file_extension": ".py",
   "mimetype": "text/x-python",
   "name": "python",
   "nbconvert_exporter": "python",
   "pygments_lexer": "ipython3",
   "version": "3.6.3"
  }
 },
 "nbformat": 4,
 "nbformat_minor": 2
}
