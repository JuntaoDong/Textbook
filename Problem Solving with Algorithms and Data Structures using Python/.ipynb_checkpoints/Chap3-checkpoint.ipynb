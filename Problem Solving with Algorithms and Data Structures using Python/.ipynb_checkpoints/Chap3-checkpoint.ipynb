{
 "cells": [
  {
   "cell_type": "markdown",
   "metadata": {},
   "source": [
    "#### 1. Modify the infix-to-postfix algorithm so that it can handle errors.\n"
   ]
  },
  {
   "cell_type": "code",
   "execution_count": 3,
   "metadata": {},
   "outputs": [
    {
     "name": "stdout",
     "output_type": "stream",
     "text": [
      "A B * C D * +\n",
      "A B + C * D E - F G + * -\n"
     ]
    },
    {
     "ename": "RuntimeError",
     "evalue": "Please input valid operators (+,-,*,/) or/and valid operands (A-Z, 0-9)!",
     "output_type": "error",
     "traceback": [
      "\u001b[1;31m---------------------------------------------------------------------------\u001b[0m",
      "\u001b[1;31mRuntimeError\u001b[0m                              Traceback (most recent call last)",
      "\u001b[1;32m<ipython-input-3-e63fa567cc02>\u001b[0m in \u001b[0;36m<module>\u001b[1;34m\u001b[0m\n\u001b[0;32m     39\u001b[0m \u001b[1;33m\u001b[0m\u001b[0m\n\u001b[0;32m     40\u001b[0m \u001b[1;31m# Below is a expression with a undefined opertor '**', it supposed to raise a runtime error.\u001b[0m\u001b[1;33m\u001b[0m\u001b[1;33m\u001b[0m\u001b[1;33m\u001b[0m\u001b[0m\n\u001b[1;32m---> 41\u001b[1;33m \u001b[0mprint\u001b[0m\u001b[1;33m(\u001b[0m\u001b[0minfixToPostfix\u001b[0m\u001b[1;33m(\u001b[0m\u001b[1;34m\"A ** B + C * D\"\u001b[0m\u001b[1;33m)\u001b[0m\u001b[1;33m)\u001b[0m\u001b[1;33m\u001b[0m\u001b[1;33m\u001b[0m\u001b[0m\n\u001b[0m",
      "\u001b[1;32m<ipython-input-3-e63fa567cc02>\u001b[0m in \u001b[0;36minfixToPostfix\u001b[1;34m(infixexpr)\u001b[0m\n\u001b[0;32m     28\u001b[0m             \u001b[0mopStack\u001b[0m\u001b[1;33m.\u001b[0m\u001b[0mpush\u001b[0m\u001b[1;33m(\u001b[0m\u001b[0mtoken\u001b[0m\u001b[1;33m)\u001b[0m\u001b[1;33m\u001b[0m\u001b[1;33m\u001b[0m\u001b[0m\n\u001b[0;32m     29\u001b[0m         \u001b[1;32melse\u001b[0m\u001b[1;33m:\u001b[0m\u001b[1;33m\u001b[0m\u001b[1;33m\u001b[0m\u001b[0m\n\u001b[1;32m---> 30\u001b[1;33m             \u001b[1;32mraise\u001b[0m \u001b[0mRuntimeError\u001b[0m\u001b[1;33m(\u001b[0m\u001b[1;34m\"Please input valid operators (+,-,*,/) or/and valid operands (A-Z, 0-9)!\"\u001b[0m\u001b[1;33m)\u001b[0m\u001b[1;33m\u001b[0m\u001b[1;33m\u001b[0m\u001b[0m\n\u001b[0m\u001b[0;32m     31\u001b[0m \u001b[1;33m\u001b[0m\u001b[0m\n\u001b[0;32m     32\u001b[0m     \u001b[1;32mwhile\u001b[0m \u001b[1;32mnot\u001b[0m \u001b[0mopStack\u001b[0m\u001b[1;33m.\u001b[0m\u001b[0misEmpty\u001b[0m\u001b[1;33m(\u001b[0m\u001b[1;33m)\u001b[0m\u001b[1;33m:\u001b[0m\u001b[1;33m\u001b[0m\u001b[1;33m\u001b[0m\u001b[0m\n",
      "\u001b[1;31mRuntimeError\u001b[0m: Please input valid operators (+,-,*,/) or/and valid operands (A-Z, 0-9)!"
     ]
    }
   ],
   "source": [
    "from pythonds.basic.stack import Stack\n",
    "\n",
    "def infixToPostfix(infixexpr):\n",
    "    prec = {}\n",
    "    prec[\"*\"] = 3\n",
    "    prec[\"/\"] = 3\n",
    "    prec[\"+\"] = 2\n",
    "    prec[\"-\"] = 2\n",
    "    prec[\"(\"] = 1\n",
    "    opStack = Stack()\n",
    "    postfixList = []\n",
    "    tokenList = infixexpr.split()\n",
    "    \n",
    "    for token in tokenList:\n",
    "        if token in \"ABCDEFGHIJKLMNOPQRSTUVWXYZ\" or token in \"0123456789\":\n",
    "            postfixList.append(token)\n",
    "        elif token == '(':\n",
    "            opStack.push(token)\n",
    "        elif token == ')':\n",
    "            topToken = opStack.pop()\n",
    "            while topToken != '(':\n",
    "                postfixList.append(topToken)\n",
    "                topToken = opStack.pop()\n",
    "        elif token in prec.keys():\n",
    "            while (not opStack.isEmpty()) and \\\n",
    "               (prec[opStack.peek()] >= prec[token]):\n",
    "                  postfixList.append(opStack.pop())\n",
    "            opStack.push(token)\n",
    "        else:\n",
    "            raise RuntimeError(\"Please input valid operators (+,-,*,/) or/and valid operands (A-Z, 0-9)!\")\n",
    "            \n",
    "    while not opStack.isEmpty():\n",
    "        postfixList.append(opStack.pop())\n",
    "    return \" \".join(postfixList)\n",
    "\n",
    "# Below are two valid expressions\n",
    "print(infixToPostfix(\"A * B + C * D\"))\n",
    "print(infixToPostfix(\"( A + B ) * C - ( D - E ) * ( F + G )\"))\n",
    "\n",
    "# Below is a expression with a undefined opertor '**', it supposed to raise a runtime error.\n",
    "print(infixToPostfix(\"A ** B + C * D\"))"
   ]
  },
  {
   "cell_type": "markdown",
   "metadata": {},
   "source": [
    "#### 2. Modify the postfix evaluation algorithm so that it can handle errors.\n"
   ]
  },
  {
   "cell_type": "code",
   "execution_count": 4,
   "metadata": {},
   "outputs": [
    {
     "name": "stdout",
     "output_type": "stream",
     "text": [
      "3.0\n"
     ]
    },
    {
     "ename": "RuntimeError",
     "evalue": "Please input single-digit integers or valid operators (+,-,*,/)!",
     "output_type": "error",
     "traceback": [
      "\u001b[1;31m---------------------------------------------------------------------------\u001b[0m",
      "\u001b[1;31mRuntimeError\u001b[0m                              Traceback (most recent call last)",
      "\u001b[1;32m<ipython-input-4-b67af735b653>\u001b[0m in \u001b[0;36m<module>\u001b[1;34m\u001b[0m\n\u001b[0;32m     32\u001b[0m \u001b[1;33m\u001b[0m\u001b[0m\n\u001b[0;32m     33\u001b[0m \u001b[1;31m# Below is a invalid expression with undefined operator\u001b[0m\u001b[1;33m\u001b[0m\u001b[1;33m\u001b[0m\u001b[1;33m\u001b[0m\u001b[0m\n\u001b[1;32m---> 34\u001b[1;33m \u001b[0mprint\u001b[0m\u001b[1;33m(\u001b[0m\u001b[0mpostfixEval\u001b[0m\u001b[1;33m(\u001b[0m\u001b[1;34m'7 8 + 3 2 ** /'\u001b[0m\u001b[1;33m)\u001b[0m\u001b[1;33m)\u001b[0m\u001b[1;33m\u001b[0m\u001b[1;33m\u001b[0m\u001b[0m\n\u001b[0m",
      "\u001b[1;32m<ipython-input-4-b67af735b653>\u001b[0m in \u001b[0;36mpostfixEval\u001b[1;34m(postfixExpr)\u001b[0m\n\u001b[0;32m     15\u001b[0m             \u001b[0moperandStack\u001b[0m\u001b[1;33m.\u001b[0m\u001b[0mpush\u001b[0m\u001b[1;33m(\u001b[0m\u001b[0mresult\u001b[0m\u001b[1;33m)\u001b[0m\u001b[1;33m\u001b[0m\u001b[1;33m\u001b[0m\u001b[0m\n\u001b[0;32m     16\u001b[0m         \u001b[1;32melse\u001b[0m\u001b[1;33m:\u001b[0m\u001b[1;33m\u001b[0m\u001b[1;33m\u001b[0m\u001b[0m\n\u001b[1;32m---> 17\u001b[1;33m             \u001b[1;32mraise\u001b[0m \u001b[0mRuntimeError\u001b[0m\u001b[1;33m(\u001b[0m\u001b[1;34m\"Please input single-digit integers or valid operators (+,-,*,/)!\"\u001b[0m\u001b[1;33m)\u001b[0m\u001b[1;33m\u001b[0m\u001b[1;33m\u001b[0m\u001b[0m\n\u001b[0m\u001b[0;32m     18\u001b[0m     \u001b[1;32mreturn\u001b[0m \u001b[0moperandStack\u001b[0m\u001b[1;33m.\u001b[0m\u001b[0mpop\u001b[0m\u001b[1;33m(\u001b[0m\u001b[1;33m)\u001b[0m\u001b[1;33m\u001b[0m\u001b[1;33m\u001b[0m\u001b[0m\n\u001b[0;32m     19\u001b[0m \u001b[1;33m\u001b[0m\u001b[0m\n",
      "\u001b[1;31mRuntimeError\u001b[0m: Please input single-digit integers or valid operators (+,-,*,/)!"
     ]
    }
   ],
   "source": [
    "from pythonds.basic.stack import Stack\n",
    "\n",
    "def postfixEval(postfixExpr):\n",
    "    operandStack = Stack()\n",
    "    tokenList = postfixExpr.split()\n",
    "    opertorList = [\"*\", \"/\", \"+\", \"-\"]\n",
    "    \n",
    "    for token in tokenList:\n",
    "        if token in \"0123456789\":\n",
    "            operandStack.push(int(token))\n",
    "        elif token in opertorList:\n",
    "            operand2 = operandStack.pop()\n",
    "            operand1 = operandStack.pop()\n",
    "            result = doMath(token, operand1, operand2)\n",
    "            operandStack.push(result)\n",
    "        else:\n",
    "            raise RuntimeError(\"Please input single-digit integers or valid operators (+,-,*,/)!\")\n",
    "    return operandStack.pop()\n",
    "\n",
    "def doMath(op, op1, op2):\n",
    "    if op == \"*\":\n",
    "        return op1 * op2\n",
    "    elif op == \"/\":\n",
    "        return op1 / op2\n",
    "    elif op == \"+\":\n",
    "        return op1 + op2\n",
    "    else:\n",
    "        return op1 - op2\n",
    "\n",
    "# Below is a valid expression\n",
    "print(postfixEval('7 8 + 3 2 + /'))\n",
    "\n",
    "# Below is a invalid expression with undefined operator\n",
    "print(postfixEval('7 8 + 3 2 ** /'))"
   ]
  },
  {
   "cell_type": "markdown",
   "metadata": {},
   "source": [
    "#### 3. Implement a direct infix evaluator that combines the functionality of infix-to-postfix conversion and the postfix evaluation algorithm. Your evaluator should process infix tokens from left to right and use two stacks, one for operators and one for operands, to perform the evaluation.\n"
   ]
  },
  {
   "cell_type": "code",
   "execution_count": 5,
   "metadata": {},
   "outputs": [
    {
     "name": "stdout",
     "output_type": "stream",
     "text": [
      "14\n"
     ]
    }
   ],
   "source": [
    "def directEval(infixexpr):\n",
    "    return postfixEval(infixToPostfix(infixexpr))\n",
    "\n",
    "print(directEval(\"1 * 2 + 3 * 4\"))"
   ]
  },
  {
   "cell_type": "markdown",
   "metadata": {},
   "source": [
    "#### 4. Turn your direct infix evaluator from the previous problem into a calculator.\n"
   ]
  },
  {
   "cell_type": "code",
   "execution_count": 6,
   "metadata": {},
   "outputs": [
    {
     "name": "stdin",
     "output_type": "stream",
     "text": [
      " 1 * 2 + 3 * 4\n"
     ]
    },
    {
     "name": "stdout",
     "output_type": "stream",
     "text": [
      "14\n"
     ]
    }
   ],
   "source": [
    "def directCalc():\n",
    "    expr = input()\n",
    "    return postfixEval(infixToPostfix(expr))\n",
    "\n",
    "print(directCalc())"
   ]
  },
  {
   "cell_type": "markdown",
   "metadata": {},
   "source": [
    "#### 5. Implement the Queue ADT, using a list such that the rear of the queue is at the end of the list.\n"
   ]
  },
  {
   "cell_type": "code",
   "execution_count": 7,
   "metadata": {
    "collapsed": true
   },
   "outputs": [],
   "source": [
    "class Queue1:\n",
    "    def __init__(self):\n",
    "        self.items = []\n",
    "    def enqueue(self, item):\n",
    "        return self.items.append(item)\n",
    "    def dequeue(self):\n",
    "        return self.items.pop(0)\n",
    "    def isEmpty(self):\n",
    "        return self.items == []\n",
    "    def size(self):\n",
    "        return len(self.items)"
   ]
  },
  {
   "cell_type": "markdown",
   "metadata": {},
   "source": [
    "#### 6. Design and implement an experiment to do benchmark comparisons of the two queue implementations. What can you learn from such an experiment?\n"
   ]
  },
  {
   "cell_type": "code",
   "execution_count": 8,
   "metadata": {},
   "outputs": [
    {
     "name": "stdout",
     "output_type": "stream",
     "text": [
      "0.002225958000011019 0.028577159000008123\n",
      "0.011134166999994477 0.001715782000005106\n"
     ]
    }
   ],
   "source": [
    "import timeit\n",
    "\n",
    "class Queue2:\n",
    "    def __init__(self):\n",
    "        self.items = []\n",
    "    def enqueue(self, item):\n",
    "        return self.items.insert(0, item)\n",
    "    def dequeue(self):\n",
    "        return self.items.pop()\n",
    "    def isEmpty(self):\n",
    "        return self.items == []\n",
    "    def size(self):\n",
    "        return len(self.items)\n",
    "\n",
    "# Benchmark Comparisons Experiment\n",
    "q1 = Queue1()\n",
    "q2 = Queue2()\n",
    "\n",
    "enq1 = timeit.Timer(\"q1.enqueue(0)\", \"from __main__ import q1\")\n",
    "enq2 = timeit.Timer(\"q2.enqueue(0)\", \"from __main__ import q2\")\n",
    "\n",
    "timeeq1 = enq1.timeit(number=10000)\n",
    "timeeq2 = enq2.timeit(number=10000)\n",
    "\n",
    "print(timeeq1, timeeq2)\n",
    "\n",
    "deq1 = timeit.Timer(\"q1.dequeue()\", \"from __main__ import q1\")\n",
    "deq2 = timeit.Timer(\"q2.dequeue()\", \"from __main__ import q2\")\n",
    "\n",
    "timedeq1 = deq1.timeit(number=10000)\n",
    "timedeq2 = deq2.timeit(number=10000)\n",
    "\n",
    "print(timedeq1, timedeq2)"
   ]
  },
  {
   "cell_type": "markdown",
   "metadata": {},
   "source": [
    "#### 7. It is possible to implement a queue such that both enqueue and dequeue have O(1) performance on average. In this case it means that most of the time enqueue and dequeue will be O(1) except in one particular circumstance where dequeue will be O(n).\n",
    "\n",
    "To achieve O(1) in both enqueue and dequeue, I found this [thread](https://stackoverflow.com/questions/69192/how-to-implement-a-queue-using-two-stacks) on StackOverflow. Implement a queue by using two stacks.\n"
   ]
  },
  {
   "cell_type": "code",
   "execution_count": 9,
   "metadata": {},
   "outputs": [
    {
     "name": "stdout",
     "output_type": "stream",
     "text": [
      "0.002820372999991605\n",
      "0.010819820000008917\n"
     ]
    }
   ],
   "source": [
    "from pythonds.basic.stack import Stack\n",
    "\n",
    "class Queue3:\n",
    "    \n",
    "    def __init__(self):\n",
    "        self.inbox = Stack()\n",
    "        self.outbox = Stack()\n",
    "        \n",
    "    def enqueue(self, item):\n",
    "        return self.inbox.push(item)\n",
    "    \n",
    "    def dequeue(self):\n",
    "        if self.outbox.isEmpty():\n",
    "            for i in range(self.inbox.size()):\n",
    "                self.outbox.push(self.inbox.pop())\n",
    "        return self.outbox.pop()\n",
    "    \n",
    "    def isEmpty(self):\n",
    "        return self.inbox.size()==0 and self.outbox.size()==0\n",
    "    \n",
    "    def size(self):\n",
    "        return self.inbox.size()+self.outbox.size()\n",
    "    \n",
    "q3 = Queue3()\n",
    "\n",
    "enq3 = timeit.Timer(\"q3.enqueue(0)\", \"from __main__ import q3\")\n",
    "timeeq3 = enq3.timeit(number=10000)\n",
    "print(timeeq3)\n",
    "\n",
    "deq3 = timeit.Timer(\"q3.dequeue()\", \"from __main__ import q3\")\n",
    "timedeq3 = deq3.timeit(number=10000)\n",
    "print(timedeq3)\n"
   ]
  },
  {
   "cell_type": "markdown",
   "metadata": {},
   "source": [
    "#### 8. Consider a real life situation. Formulate a question and then design a simulation that can help to answer it. Possible situations include:\n",
    "+ Cars lined up at a car wash\n",
    "+ Customers at a grocery store check-out\n",
    "+ Airplanes taking off and landing on a runway\n",
    "+ A bank teller\n",
    "#### Be sure to state any assumptions that you make and provide any probabilistic data that must be considered as part of the scenario.\n"
   ]
  },
  {
   "cell_type": "code",
   "execution_count": 10,
   "metadata": {},
   "outputs": [
    {
     "name": "stdout",
     "output_type": "stream",
     "text": [
      "The average waiting time is 25.33 mins and 13 cars are still in the line\n",
      "The average waiting time is 22.50 mins and 11 cars are still in the line\n",
      "The average waiting time is 25.57 mins and 12 cars are still in the line\n",
      "The average waiting time is 23.14 mins and 12 cars are still in the line\n",
      "The average waiting time is 29.86 mins and 18 cars are still in the line\n",
      "The average waiting time is 25.17 mins and 22 cars are still in the line\n",
      "The average waiting time is 7.80 mins and 19 cars are still in the line\n",
      "The average waiting time is 23.29 mins and 16 cars are still in the line\n",
      "The average waiting time is 19.75 mins and 11 cars are still in the line\n",
      "The average waiting time is 30.10 mins and 15 cars are still in the line\n"
     ]
    }
   ],
   "source": [
    "'''\n",
    "Cars lined up at a car wash simulation\n",
    "Assumptiom: Only one car can enter into the mechine at any time.\n",
    "\n",
    "To design this simulation I create three classes for the three real-world objects: CarWasher, Cars, and WashQueue.\n",
    "The CarWasher class track whether it has a current task. If it does, then it's busy and the amout of time needed can be computed from the number of cars in the line.\n",
    "The constructor will also allow the package setting to be initialized. Based on package selection, the total washing time may vary.\n",
    "\n",
    "'''\n",
    "\n",
    "class CarWasher:\n",
    "    \n",
    "    def __init__(self, package):\n",
    "        if package == 'A':\n",
    "            self.time = 5\n",
    "        elif package == 'B':\n",
    "            self.time = 6\n",
    "        elif package == 'C':\n",
    "            self.time = 7\n",
    "        else:\n",
    "            raise RuntimeError(\"Please select valid package from A, B, or C!\")\n",
    "        self.currentTask = None\n",
    "        self.timeRemaining = 0\n",
    "    \n",
    "    def tick(self):\n",
    "        if self.currentTask != None:\n",
    "            self.timeRemaining = self.timeRemaining - 1\n",
    "            if self.timeRemaining <= 0:\n",
    "                self.currentTask = None\n",
    "                \n",
    "    def busy(self):\n",
    "        if self.currentTask != None:\n",
    "            return True\n",
    "        else:\n",
    "            return False\n",
    "        \n",
    "    def startNext(self, nextcar):\n",
    "        self.currentTask = nextcar\n",
    "        self.timeRemaining = nextcar.getTime()\n",
    "        \n",
    "\n",
    "class Car:\n",
    "    \n",
    "    def __init__(self, time):\n",
    "        self.timestamp = time\n",
    "    \n",
    "    def getTime(self):\n",
    "        return self.timestamp\n",
    "    \n",
    "    def waitTime(self, currenttime):\n",
    "        return currenttime - self.timestamp\n",
    "    \n",
    "\n",
    "from pythonds.basic.queue import Queue\n",
    "import random\n",
    "\n",
    "def simulation(numMin, package):\n",
    "    \n",
    "    carwasher = CarWasher(package)\n",
    "    washQueue = Queue()\n",
    "    waitingTime = []\n",
    "    \n",
    "    for currentMin in range(numMin):\n",
    "        \n",
    "        if newWashTask():\n",
    "            newCar = Car(currentMin)\n",
    "            washQueue.enqueue(newCar)\n",
    "            \n",
    "        if (not carwasher.busy()) and (not washQueue.isEmpty()):\n",
    "            nexttask = washQueue.dequeue()\n",
    "            waitingTime.append(nexttask.waitTime(currentMin))\n",
    "            carwasher.startNext(nexttask)\n",
    "            \n",
    "        carwasher.tick()\n",
    "        \n",
    "    averageWait = sum(waitingTime)/len(waitingTime)\n",
    "    print(\"The average waiting time is %.2f mins and %d cars are still in the line\" % (averageWait, washQueue.size()))\n",
    "\n",
    "def newWashTask():\n",
    "    num = random.randrange(1, 7)\n",
    "    if num == 6:\n",
    "        return True\n",
    "    else:\n",
    "        return False\n",
    "    \n",
    "for i in range(10):\n",
    "    simulation(120, 'A')"
   ]
  },
  {
   "cell_type": "markdown",
   "metadata": {},
   "source": [
    "#### 9. Modify the Hot Potato simulation to allow for a randomly chosen counting value so that each pass is not predictable from the previous one.\n"
   ]
  },
  {
   "cell_type": "code",
   "execution_count": 11,
   "metadata": {},
   "outputs": [
    {
     "name": "stdout",
     "output_type": "stream",
     "text": [
      "Kent\n"
     ]
    }
   ],
   "source": [
    "from pythonds.basic.queue import Queue\n",
    "import random\n",
    "\n",
    "def hotPotato(namelist):\n",
    "    simqueue = Queue()\n",
    "    for name in namelist:\n",
    "        simqueue.enqueue(name)\n",
    "        \n",
    "    while simqueue.size() > 1:\n",
    "        num = random.randrange(1, 8)\n",
    "        for i in range(num):\n",
    "            simqueue.enqueue(simqueue.dequeue())\n",
    "            \n",
    "        simqueue.dequeue()\n",
    "    \n",
    "    return simqueue.dequeue()\n",
    "\n",
    "print(hotPotato([\"Bill\",\"David\",\"Susan\",\"Jane\",\"Kent\",\"Brad\"]))"
   ]
  },
  {
   "cell_type": "markdown",
   "metadata": {},
   "source": [
    "#### 10. Implement a radix sorting machine. A radix sort for base 10 integers is a mechanical sorting technique that utilizes a collection of bins, one main bin and 10 digit bins. Each bin acts like a queue and maintains its values in the order that they arrive. The algorithm begins by placing each number in the main bin. Then it considers each value digit by digit. The first value is removed and placed in a digit bin corresponding to the digit being considered. For example, if the ones digit is being considered, 534 is placed in digit bin 4 and 667 is placed in digit bin 7. Once all the values are placed in the corresponding digit bins, the values are collected from bin 0 to bin 9 and placed back in the main bin. The process continues with the tens digit, the hundreds, and so on. After the last digit is processed, the main bin contains the values in order.\n"
   ]
  },
  {
   "cell_type": "code",
   "execution_count": 12,
   "metadata": {
    "collapsed": true
   },
   "outputs": [
    {
     "name": "stdout",
     "output_type": "stream",
     "text": [
      "[2, 3, 10, 20, 115]\n"
     ]
    }
   ],
   "source": [
    "import math\n",
    "from pythonds.basic.queue import Queue\n",
    "def find_max_length(numbers):\n",
    "    # https://stackoverflow.com/questions/2189800/length-of-an-integer-in-python\n",
    "    max_length = 1\n",
    "    for number in numbers:\n",
    "        if number > 0:\n",
    "            digits = int(math.log10(number))+1\n",
    "        elif number == 0:\n",
    "            digits = 1\n",
    "        if digits > max_length:\n",
    "            max_length = digits\n",
    "    return max_length\n",
    "\n",
    "def radixSort(numbers):\n",
    "    baskets = [Queue() for i in range(10)]\n",
    "    max_length = find_max_length(numbers)\n",
    "    for j in range(max_length):\n",
    "        for n in numbers:\n",
    "            # The following method to get digit is faster than conversion to strings.\n",
    "            # https://stackoverflow.com/questions/21270320/turn-a-single-number-into-single-digits-python\n",
    "            digit = n // 10**j % 10\n",
    "            baskets[digit].enqueue(n)\n",
    "        index = 0\n",
    "        for basket in baskets:\n",
    "            while not basket.isEmpty():\n",
    "                numbers[index] = basket.dequeue()\n",
    "                index += 1\n",
    "    return numbers\n",
    "\n",
    "print(radixSort([2, 10, 115, 3, 20]))"
   ]
  },
  {
   "cell_type": "markdown",
   "metadata": {},
   "source": [
    "#### 11. Another example of the parentheses matching problem comes from hypertext markup language (HTML). In HTML, tags exist in both opening and closing forms and must be balanced to properly describe a web document. This very simple HTML document:\n",
    "```\n",
    "<html>\n",
    "   <head>\n",
    "      <title>\n",
    "         Example\n",
    "      </title>\n",
    "   </head>\n",
    "\n",
    "   <body>\n",
    "      <h1>Hello, world</h1>\n",
    "   </body>\n",
    "</html>\n",
    "```\n",
    "#### is intended only to show the matching and nesting structure for tags in the language. Write a program that can check an HTML document for proper opening and closing tags.\n"
   ]
  },
  {
   "cell_type": "code",
   "execution_count": 13,
   "metadata": {},
   "outputs": [
    {
     "name": "stdout",
     "output_type": "stream",
     "text": [
      "push <html>\n",
      "push <head>\n",
      "push <title>\n",
      "pop <title>\n",
      "pop <head>\n",
      "push <body>\n",
      "push <h1>\n",
      "pop <h1>\n",
      "pop <body>\n",
      "pop <html>\n",
      "True\n"
     ]
    }
   ],
   "source": [
    "import re\n",
    "from pythonds.basic.stack import Stack\n",
    "\n",
    "def htmlChecker(codeString):\n",
    "    s = Stack()\n",
    "    balanced = True\n",
    "    tags = codeString.strip().replace(\" \", \"\").split(\"\\n\")\n",
    "    index = 0\n",
    "    p1 = re.compile('<\\w')\n",
    "    p2 = re.compile('</\\w')\n",
    "    while index < len(tags) and balanced:\n",
    "        tag = tags[index]\n",
    "        if p1.match(tag):\n",
    "            s.push(tag)\n",
    "            print('push', tag)\n",
    "        elif p2.match(tag):\n",
    "            if s.isEmpty():\n",
    "                balanced = False\n",
    "            else:\n",
    "                top = s.pop()\n",
    "                print('pop', top)\n",
    "                if not matches(top, tag):\n",
    "                    balanced = False\n",
    "        index = index + 1\n",
    "    if balanced and s.isEmpty():\n",
    "        return True\n",
    "    else:\n",
    "        return False\n",
    "    \n",
    "def matches(open, close):\n",
    "    open = open[1:]\n",
    "    close = close[2:]\n",
    "    return open == close\n",
    "\n",
    "code = \"\"\"\n",
    "<html>\n",
    "   <head>\n",
    "      <title>\n",
    "         Example\n",
    "      </title>\n",
    "   </head>\n",
    "\n",
    "   <body>\n",
    "      <h1>\n",
    "          Hello, world\n",
    "      </h1>\n",
    "   </body>\n",
    "</html>\"\"\"\n",
    "\n",
    "print(htmlChecker(code))\n",
    "            "
   ]
  },
  {
   "cell_type": "markdown",
   "metadata": {},
   "source": [
    "#### 12. Extend the program from Listing 2.15 to handle palindromes with spaces. For example, I PREFER PI is a palindrome that reads the same forward and backward if you ignore the blank characters.\n"
   ]
  },
  {
   "cell_type": "code",
   "execution_count": 14,
   "metadata": {},
   "outputs": [
    {
     "name": "stdout",
     "output_type": "stream",
     "text": [
      "True\n"
     ]
    }
   ],
   "source": [
    "from pythonds.basic.deque import Deque\n",
    "\n",
    "def palChecker(aString):\n",
    "    chardeque = Deque()\n",
    "    \n",
    "    for ch in aString.replace(\" \", \"\"):\n",
    "        chardeque.addRear(ch)\n",
    "        \n",
    "    stillEqual = True\n",
    "    \n",
    "    while chardeque.size() > 1 and stillEqual:\n",
    "        first = chardeque.removeFront()\n",
    "        last = chardeque.removeRear()\n",
    "        if first != last:\n",
    "            stillEqual = False\n",
    "    \n",
    "    return stillEqual\n",
    "\n",
    "print(palChecker(\"I PREFER PI\"))"
   ]
  },
  {
   "cell_type": "markdown",
   "metadata": {},
   "source": [
    "#### 13. To implement the length method, we counted the number of nodes in the list. An alternative strategy would be to store the number of nodes in the list as an additional piece of data in the head of the list. Modify the UnorderedList class to include this information and rewrite the length method.\n",
    "#### 14. Implement the remove method so that it works correctly in the case where the item is not in the list.\n",
    "#### 15. Modify the list classes to allow duplicates. Which methods will be impacted by this change?\n",
    "    search and remove\n",
    "#### 16. Implement the __str__ method in the UnorderedList class. What would be a good string representation for a list?\n",
    "#### 17. Implement __str__ method so that lists are displayed the Python way (with square brackets).\n",
    "#### 18. Implement the remaining operations defined in the UnorderedList ADT (append, index, pop, insert).\n"
   ]
  },
  {
   "cell_type": "markdown",
   "metadata": {},
   "source": [
    "#### 19. Implement a slice method for the UnorderedList class. It should take two parameters, start and stop, and return a copy of the list starting at the start position and going up to but not including the stop position.\n"
   ]
  },
  {
   "cell_type": "code",
   "execution_count": 58,
   "metadata": {},
   "outputs": [
    {
     "name": "stdout",
     "output_type": "stream",
     "text": [
      "7\n",
      "True\n",
      "False\n",
      "True\n",
      "8\n",
      "7\n",
      "6\n",
      "5\n",
      "False\n",
      "Please make sure the item is in the list!\n",
      "[100, 26, 17, 77, 31]\n",
      "[100, 26, 17, 77, 31, 12]\n",
      "4\n",
      "[100, 26, 17, 77, 31]\n",
      "[26, 17, 77, 31]\n",
      "[26, 17, 88, 77, 31]\n",
      "[17, 88, 77]\n"
     ]
    }
   ],
   "source": [
    "class Node:\n",
    "    def __init__(self, initdata):\n",
    "        self.data = initdata\n",
    "        self.next = None\n",
    "        \n",
    "    def getData(self):\n",
    "        return self.data\n",
    "    \n",
    "    def getNext(self):\n",
    "        return self.next\n",
    "    \n",
    "    def setData(self, newdata):\n",
    "        self.data = newdata\n",
    "        \n",
    "    def setNext(self, newnext):\n",
    "        self.next = newnext\n",
    "        \n",
    "class UnorderedList:\n",
    "    \n",
    "    def __init__(self):\n",
    "        self.head = None\n",
    "        self.length = 0\n",
    "        \n",
    "    def __str__(self):\n",
    "        current = self.head\n",
    "        lst = []\n",
    "        while current:\n",
    "            lst.append(current.getData())\n",
    "            current = current.getNext()\n",
    "        return str(lst)\n",
    "        \n",
    "    def isEmpty(self):\n",
    "        return self.head == None\n",
    "    \n",
    "    def add(self, item):\n",
    "        temp = Node(item)\n",
    "        temp.setNext(self.head)\n",
    "        self.head = temp\n",
    "        self.length += 1\n",
    "    \n",
    "    def search(self, item):\n",
    "        current = self.head\n",
    "        found = False\n",
    "        while current != None and not found:\n",
    "            if current.getData() == item:\n",
    "                found = True\n",
    "            else:\n",
    "                current = current.getNext()\n",
    "                \n",
    "        return found\n",
    "    \n",
    "    def remove(self, item):\n",
    "        current = self.head\n",
    "        previous = None\n",
    "        found = False\n",
    "        while not found and current:\n",
    "            if current.getData() == item:\n",
    "                found = True\n",
    "            else:\n",
    "                previous = current\n",
    "                current = current.getNext()\n",
    "        if found:        \n",
    "            if previous == None:\n",
    "                self.head = current.getNext()\n",
    "            else:\n",
    "                previous.setNext(current.getNext())\n",
    "            self.length -= 1\n",
    "        else:\n",
    "            print(\"Please make sure the item is in the list!\")\n",
    "            \n",
    "    def append(self, item):\n",
    "        newnode = Node(item)\n",
    "        current = self.head\n",
    "        while current.getNext():\n",
    "            current = current.getNext()\n",
    "        current.setNext(newnode)\n",
    "        self.length += 1\n",
    "    \n",
    "    def index(self, item):\n",
    "        current = self.head\n",
    "        index = 0\n",
    "        while current:\n",
    "            if current.getData() == item:\n",
    "                return index\n",
    "            else:\n",
    "                current = current.getNext()\n",
    "                index += 1\n",
    "        \n",
    "        raise RuntimeError(\"The item is not in the list!\")   \n",
    "    \n",
    "    def pop(self, pos = None):\n",
    "        current = self.head\n",
    "        prev = None\n",
    "        if pos == None:\n",
    "            while current.getNext():\n",
    "                prev = current\n",
    "                current = current.getNext()\n",
    "            prev.setNext(None)\n",
    "            self.length -= 1\n",
    "            return current.getData()\n",
    "        elif pos < self.length and pos > 0:\n",
    "            while pos > 0:\n",
    "                prev = current\n",
    "                current = current.getNext()\n",
    "                pos -= 1\n",
    "            prev.setNext(current.getNext())\n",
    "            current.setNext(None)\n",
    "            self.length -= 1\n",
    "            return current.getData()\n",
    "        elif pos == 0:\n",
    "            prev = current\n",
    "            current = current.getNext()\n",
    "            prev.setNext(None)\n",
    "            self.head = current\n",
    "            self.length -= 1\n",
    "            return prev.getData()\n",
    "        else:\n",
    "            raise RuntimeError(\"Index out of range!\")            \n",
    "    \n",
    "    def insert(self, pos, item):\n",
    "        current = self.head\n",
    "        prev = None\n",
    "        newnode = Node(item)\n",
    "        if not self.head:\n",
    "            self.head = newnode\n",
    "            self.length += 1\n",
    "        elif pos < self.length:\n",
    "            while pos > 0:\n",
    "                prev = current\n",
    "                current = current.getNext()\n",
    "                pos -= 1\n",
    "            prev.setNext(newnode)\n",
    "            newnode.setNext(current)\n",
    "            self.length += 1\n",
    "        else:\n",
    "            raise RuntimeError(\"Index out of range!\")\n",
    "            \n",
    "    def slice(self, start, stop):\n",
    "        current = self.head\n",
    "        prev = None\n",
    "        index = 0\n",
    "        while index < start:\n",
    "            prev = current\n",
    "            current = current.getNext()\n",
    "            index += 1\n",
    "        slice_list = UnorderedList()\n",
    "        slice_list.head = current\n",
    "        while index < stop:\n",
    "            prev = current\n",
    "            current = current.getNext()\n",
    "            index += 1\n",
    "        prev.setNext(None)\n",
    "\n",
    "        return slice_list\n",
    "            \n",
    "    \n",
    "            \n",
    "mylist = UnorderedList()\n",
    "\n",
    "mylist.add(31)\n",
    "mylist.add(77)\n",
    "mylist.add(17)\n",
    "mylist.add(93)\n",
    "mylist.add(26)\n",
    "mylist.add(54)\n",
    "mylist.add(31)\n",
    "\n",
    "print(mylist.length)\n",
    "print(mylist.search(93))\n",
    "print(mylist.search(100))\n",
    "\n",
    "mylist.add(100)\n",
    "print(mylist.search(100))\n",
    "print(mylist.length)\n",
    "\n",
    "mylist.remove(54)\n",
    "print(mylist.length)\n",
    "mylist.remove(93)\n",
    "print(mylist.length)\n",
    "mylist.remove(31)\n",
    "print(mylist.length)\n",
    "print(mylist.search(93))\n",
    "mylist.remove(4)\n",
    "print(mylist)\n",
    "mylist.append(12)\n",
    "print(mylist)\n",
    "print(mylist.index(31))\n",
    "mylist.pop()\n",
    "print(mylist)\n",
    "mylist.pop(0)\n",
    "print(mylist)\n",
    "mylist.insert(2, 88)\n",
    "print(mylist)\n",
    "print(mylist.slice(1,4))"
   ]
  },
  {
   "cell_type": "markdown",
   "metadata": {},
   "source": [
    "#### 20. Implement the remaining operations defined in the OrderedList ADT.\n"
   ]
  },
  {
   "cell_type": "code",
   "execution_count": 47,
   "metadata": {},
   "outputs": [
    {
     "name": "stdout",
     "output_type": "stream",
     "text": [
      "6\n",
      "True\n",
      "False\n",
      "[17, 26, 31, 54, 77, 93]\n",
      "[17, 26, 31, 77, 93]\n",
      "[17, 26, 31, 77]\n",
      "0\n",
      "17\n",
      "[26, 31, 77]\n"
     ]
    }
   ],
   "source": [
    "class OrderedList:\n",
    "    def __init__(self):\n",
    "        self.head = None\n",
    "        \n",
    "    def __str__(self):\n",
    "        current = self.head\n",
    "        lst = []\n",
    "        while current:\n",
    "            lst.append(current.getData())\n",
    "            current = current.getNext()\n",
    "        return str(lst)\n",
    "    \n",
    "    def search(self, item):\n",
    "        current = self.head\n",
    "        found = False\n",
    "        stop = False\n",
    "        while current != None and not found and not stop:\n",
    "            if current.getData() == item:\n",
    "                found = True\n",
    "            else:\n",
    "                if current.getData() > item:\n",
    "                    stop = True\n",
    "                else:\n",
    "                    current = current.getNext()\n",
    "                    \n",
    "        return found\n",
    "    \n",
    "    def add(self, item):\n",
    "        current = self.head\n",
    "        previous = None\n",
    "        stop = False\n",
    "        while current != None and not stop:\n",
    "            if current.getData() > item:\n",
    "                stop = True\n",
    "            else:\n",
    "                previous = current\n",
    "                current = current.getNext()\n",
    "                \n",
    "        temp = Node(item)\n",
    "        if previous == None:\n",
    "            temp.setNext(self.head)\n",
    "            self.head = temp\n",
    "        else:\n",
    "            temp.setNext(current)\n",
    "            previous.setNext(temp)\n",
    "            \n",
    "    def remove(self, item):\n",
    "        current = self.head\n",
    "        previous = None\n",
    "        stop = False\n",
    "        while current != None and not stop:\n",
    "            if current.getData() > item:\n",
    "                stop = True\n",
    "                break\n",
    "            elif current.getData() < item:\n",
    "                previous = current\n",
    "                current = current.getNext()\n",
    "            else:\n",
    "                previous.setNext(current.getNext())\n",
    "                current.setNext(None)\n",
    "                break\n",
    "        if current == None or stop == True:\n",
    "            raise RuntimeError(\"The item is not in the list!\")\n",
    "            \n",
    "    def isEmpty(self):\n",
    "        return self.head == None\n",
    "    \n",
    "    def size(self):\n",
    "        current = self.head\n",
    "        count = 0\n",
    "        while current != None:\n",
    "            count += 1\n",
    "            current = current.getNext()\n",
    "            \n",
    "        return count\n",
    "    \n",
    "    def index(self, item):\n",
    "        current = self.head\n",
    "        index = 0\n",
    "        while current:\n",
    "            if current.getData() == item:\n",
    "                return index\n",
    "            else:\n",
    "                current = current.getNext()\n",
    "                index += 1\n",
    "        \n",
    "        raise RuntimeError(\"The item is not in the list!\") \n",
    "        \n",
    "    def pop(self, pos=None):\n",
    "        current = self.head\n",
    "        prev = None\n",
    "        if pos == None:\n",
    "            while current.getNext():\n",
    "                prev = current\n",
    "                current = current.getNext()\n",
    "            prev.setNext(None)\n",
    "            return current.getData()\n",
    "        elif pos < self.size() and pos > 0:\n",
    "            while pos > 0:\n",
    "                prev = current\n",
    "                current = current.getNext()\n",
    "                pos -= 1\n",
    "            prev.setNext(current.getNext())\n",
    "            current.setNext(None)\n",
    "            return current.getData()\n",
    "        elif pos == 0:\n",
    "            prev = current\n",
    "            current = current.getNext()\n",
    "            prev.setNext(None)\n",
    "            self.head = current\n",
    "            return prev.getData()\n",
    "        else:\n",
    "            raise RuntimeError(\"Index out of range!\")   \n",
    "        \n",
    "        \n",
    "mylist = OrderedList()\n",
    "mylist.add(31)\n",
    "mylist.add(77)\n",
    "mylist.add(17)\n",
    "mylist.add(93)\n",
    "mylist.add(26)\n",
    "mylist.add(54)\n",
    "\n",
    "print(mylist.size())\n",
    "print(mylist.search(93))\n",
    "print(mylist.search(100))\n",
    "print(mylist)\n",
    "mylist.remove(54)\n",
    "print(mylist)\n",
    "mylist.remove(93)\n",
    "print(mylist)\n",
    "print(mylist.index(17))\n",
    "print(mylist.pop(0))\n",
    "print(mylist)\n",
    "\n"
   ]
  },
  {
   "cell_type": "markdown",
   "metadata": {},
   "source": [
    "#### 21. Consider the relationship between Unordered and Ordered lists. Is it possible that inheritance could be used to build a more efficient implementation? Implement this inheritance hierarchy.\n",
    "Question: how to disable function append and insert from the parent class?"
   ]
  },
  {
   "cell_type": "code",
   "execution_count": 63,
   "metadata": {},
   "outputs": [
    {
     "name": "stdout",
     "output_type": "stream",
     "text": [
      "6\n",
      "True\n",
      "False\n",
      "[17, 26, 31, 54, 77, 93]\n",
      "[17, 26, 31, 77, 93]\n",
      "[17, 26, 31, 77]\n",
      "0\n",
      "26\n",
      "[17, 31, 77]\n",
      "[17, 31, 77]\n"
     ]
    }
   ],
   "source": [
    "class OrderedList2(UnorderedList):\n",
    "    def __init__(self):\n",
    "        UnorderedList.__init__(self)\n",
    "        \n",
    "    def add(self, item):\n",
    "        current = self.head\n",
    "        previous = None\n",
    "        stop = False\n",
    "        while current != None and not stop:\n",
    "            if current.getData() > item:\n",
    "                stop = True\n",
    "            else:\n",
    "                previous = current\n",
    "                current = current.getNext()\n",
    "                \n",
    "        temp = Node(item)\n",
    "        if previous == None:\n",
    "            temp.setNext(self.head)\n",
    "            self.head = temp\n",
    "        else:\n",
    "            temp.setNext(current)\n",
    "            previous.setNext(temp)\n",
    "        self.length += 1\n",
    "            \n",
    "            \n",
    "mylist = OrderedList2()\n",
    "mylist.add(31)\n",
    "mylist.add(77)\n",
    "mylist.add(17)\n",
    "mylist.add(93)\n",
    "mylist.add(26)\n",
    "mylist.add(54)\n",
    "\n",
    "print(mylist.length)\n",
    "print(mylist.search(93))\n",
    "print(mylist.search(100))\n",
    "print(mylist)\n",
    "mylist.remove(54)\n",
    "print(mylist)\n",
    "mylist.remove(93)\n",
    "print(mylist)\n",
    "print(mylist.index(17))\n",
    "print(mylist.pop(1))\n",
    "print(mylist)\n",
    "print(mylist)\n"
   ]
  },
  {
   "cell_type": "markdown",
   "metadata": {},
   "source": [
    "#### 22. Implement a stack using linked lists.\n"
   ]
  },
  {
   "cell_type": "code",
   "execution_count": 60,
   "metadata": {},
   "outputs": [
    {
     "name": "stdout",
     "output_type": "stream",
     "text": [
      "True\n",
      "3\n",
      "15\n",
      "15\n",
      "2\n",
      "10\n"
     ]
    }
   ],
   "source": [
    "class Stack():\n",
    "    def __init__(self):\n",
    "        self.items = UnorderedList()\n",
    "    \n",
    "    def isEmpty(self):\n",
    "        if self.items.length == 0:\n",
    "            return True\n",
    "        else:\n",
    "            return False\n",
    "        \n",
    "    def push(self, item):\n",
    "        self.items.add(item)\n",
    "        \n",
    "    def pop(self):\n",
    "        return self.items.pop(0)\n",
    "        \n",
    "    def peek(self):\n",
    "        return self.items.head.getData()  \n",
    "        \n",
    "    def size(self):\n",
    "        return self.items.length\n",
    "    \n",
    "lls = Stack()\n",
    "print(lls.isEmpty())\n",
    "lls.push(5)\n",
    "lls.push(10)\n",
    "lls.push(15)\n",
    "print(lls.size())\n",
    "print(lls.peek())\n",
    "print(lls.pop())\n",
    "print(lls.size())\n",
    "print(lls.peek())\n"
   ]
  },
  {
   "cell_type": "markdown",
   "metadata": {},
   "source": [
    "#### 23. Implement a queue using linked lists.\n"
   ]
  },
  {
   "cell_type": "code",
   "execution_count": 65,
   "metadata": {},
   "outputs": [
    {
     "name": "stdout",
     "output_type": "stream",
     "text": [
      "True\n",
      "3\n",
      "5\n",
      "2\n"
     ]
    }
   ],
   "source": [
    "class Queue:\n",
    "    def __init__(self):\n",
    "        self.items = UnorderedList()\n",
    "        \n",
    "    def enqueue(self, item):\n",
    "        self.items.add(item)\n",
    "        \n",
    "    def dequeue(self):\n",
    "        return self.items.pop()\n",
    "        \n",
    "    def isEmpty(self):\n",
    "        return self.items.length == 0\n",
    "        \n",
    "    def size(self):\n",
    "        return self.items.length\n",
    "    \n",
    "lsq = Queue()\n",
    "print(lsq.isEmpty())\n",
    "lsq.enqueue(5)\n",
    "lsq.enqueue(10)\n",
    "lsq.enqueue(15)\n",
    "print(lsq.size())\n",
    "print(lsq.dequeue())\n",
    "print(lsq.size())\n",
    "        "
   ]
  },
  {
   "cell_type": "markdown",
   "metadata": {},
   "source": [
    "#### 24. Implement a deque using linked lists.\n"
   ]
  },
  {
   "cell_type": "code",
   "execution_count": 66,
   "metadata": {},
   "outputs": [
    {
     "name": "stdout",
     "output_type": "stream",
     "text": [
      "True\n",
      "4\n",
      "100\n",
      "9\n",
      "2\n"
     ]
    }
   ],
   "source": [
    "class Deque:\n",
    "    def __init__(self):\n",
    "        self.items = UnorderedList()\n",
    "        \n",
    "    def addFront(self, item):\n",
    "        self.items.add(item)\n",
    "        \n",
    "    def addRear(self, item):\n",
    "        self.items.append(item)\n",
    "        \n",
    "    def removeFront(self):\n",
    "        return self.items.pop(0)\n",
    "        \n",
    "    def removeRear(self):\n",
    "        return self.items.pop()\n",
    "        \n",
    "    def isEmpty(self):\n",
    "        return self.items.length == 0\n",
    "        \n",
    "    def size(self):\n",
    "        return self.items.length\n",
    "    \n",
    "lsd = Deque()\n",
    "print(lsd.isEmpty())\n",
    "# 100, 4, 888, 9\n",
    "lsd.addFront(4)\n",
    "lsd.addFront(100)\n",
    "lsd.addRear(888)\n",
    "lsd.addRear(9)\n",
    "print(lsd.size())\n",
    "print(lsd.removeFront())    # 100\n",
    "print(lsd.removeRear())    # 9\n",
    "print(lsd.size())    # 2"
   ]
  },
  {
   "cell_type": "markdown",
   "metadata": {},
   "source": [
    "#### 25. Design and implement an experiment that will compare the performance of a Python list with a list implemented as a linked list.\n"
   ]
  },
  {
   "cell_type": "markdown",
   "metadata": {},
   "source": [
    "#### 26. Design and implement an experiment that will compare the performance of the Python list based stack and queue with the linked list implementation.\n"
   ]
  },
  {
   "cell_type": "markdown",
   "metadata": {},
   "source": [
    "#### 27. The linked list implementation given above is called a singly linked list because each node has a single reference to the next node in sequence. An alternative implementation is known as a doubly linked list. In this implementation, each node has a reference to the next node (commonly called next) as well as a reference to the preceding node (commonly called back). The head reference also contains two references, one to the first node in the linked list and one to the last. Code this implementation in Python.\n"
   ]
  },
  {
   "cell_type": "markdown",
   "metadata": {},
   "source": [
    "#### 28. Create an implementation of a queue that would have an average performance of O(1) for enqueue and dequeue operations."
   ]
  }
 ],
 "metadata": {
  "kernelspec": {
   "display_name": "Python 3",
   "language": "python",
   "name": "python3"
  },
  "language_info": {
   "codemirror_mode": {
    "name": "ipython",
    "version": 3
   },
   "file_extension": ".py",
   "mimetype": "text/x-python",
   "name": "python",
   "nbconvert_exporter": "python",
   "pygments_lexer": "ipython3",
   "version": "3.7.3"
  }
 },
 "nbformat": 4,
 "nbformat_minor": 2
}
