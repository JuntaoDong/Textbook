{
 "cells": [
  {
   "cell_type": "markdown",
   "metadata": {},
   "source": [
    "#### 1. Write a recursive function to compute the factorial of a number.\n"
   ]
  },
  {
   "cell_type": "code",
   "execution_count": 1,
   "metadata": {},
   "outputs": [
    {
     "name": "stdout",
     "output_type": "stream",
     "text": [
      "3628800\n"
     ]
    }
   ],
   "source": [
    "def recFact(n):\n",
    "    if n <= 1:\n",
    "        return 1\n",
    "    else:\n",
    "        return n * recFact(n-1)\n",
    "    \n",
    "print(recFact(10))"
   ]
  },
  {
   "cell_type": "markdown",
   "metadata": {},
   "source": [
    "#### 2. Write a recursive function to reverse a list.\n"
   ]
  },
  {
   "cell_type": "code",
   "execution_count": 3,
   "metadata": {},
   "outputs": [
    {
     "name": "stdout",
     "output_type": "stream",
     "text": [
      "['4', '3', '2', '1']\n"
     ]
    }
   ],
   "source": [
    "def revList(lst):\n",
    "    if len(lst) == 1:\n",
    "        return lst\n",
    "    else:\n",
    "        return revList(lst[1:])+[lst[0]]\n",
    "    \n",
    "s = [\"1\", \"2\", \"3\", \"4\"]\n",
    "print(revList(s))"
   ]
  },
  {
   "cell_type": "markdown",
   "metadata": {},
   "source": [
    "#### 3. Modify the recursive tree program using one or all of the following ideas:\n",
    "+ Modify the thickness of the branches so that as the branchLen gets smaller, the line gets thinner.\n",
    "+ Modify the color of the branches so that as the branchLen gets very short it is colored like a leaf.\n",
    "+ Modify the angle used in turning the turtle so that at each branch point the angle is selected at random in some range. For example choose the angle between 15 and 45 degrees. Play around to see what looks good.\n",
    "+ Modify the branchLen recursively so that instead of always subtracting the same amount you subtract a random amount in some range.\n",
    "\n",
    "If you implement all of the above ideas you will have a very realistic looking tree.\n"
   ]
  },
  {
   "cell_type": "code",
   "execution_count": 37,
   "metadata": {},
   "outputs": [],
   "source": [
    "import turtle\n",
    "import random\n",
    "\n",
    "def tree(branchLen,t):\n",
    "    if branchLen > 5:\n",
    "        if branchLen < 20:\n",
    "            t.color(\"green\")\n",
    "        else:\n",
    "            t.color(\"brown\")\n",
    "        t.width(branchLen/5)\n",
    "        t.forward(branchLen)\n",
    "        \n",
    "        degree = random.randint(15,45)\n",
    "        sub = random.randint(7, 11)\n",
    "        t.right(degree)\n",
    "        tree(branchLen-sub,t)\n",
    "        t.left(2*degree)\n",
    "        tree(branchLen-sub,t)\n",
    "        t.right(degree)\n",
    "        t.backward(branchLen)\n",
    "\n",
    "def main():\n",
    "    t = turtle.Turtle()\n",
    "    myWin = turtle.Screen()\n",
    "    t.left(90) \n",
    "    t.up()\n",
    "    t.backward(100)\n",
    "    t.down()\n",
    "    tree(75,t)\n",
    "    myWin.exitonclick()\n",
    "\n",
    "main()\n"
   ]
  },
  {
   "cell_type": "markdown",
   "metadata": {},
   "source": [
    "![tree](./images/chap4tree.PNG)\n",
    "\n",
    "#### 4. Find or invent an algorithm for drawing a fractal mountain. Hint: One approach to this uses triangles again.\n"
   ]
  },
  {
   "cell_type": "code",
   "execution_count": 11,
   "metadata": {},
   "outputs": [],
   "source": [
    "import turtle\n",
    "import random\n",
    "\n",
    "def drawTriangle(points,myTurtle, visible):\n",
    "    myTurtle.up()\n",
    "    myTurtle.goto(points[0][0],points[0][1])\n",
    "    if visible == True:\n",
    "        myTurtle.down()\n",
    "    myTurtle.goto(points[1][0],points[1][1])\n",
    "    myTurtle.goto(points[2][0],points[2][1])\n",
    "    myTurtle.goto(points[0][0],points[0][1])\n",
    "\n",
    "def getConnector(p1,p2,degree):\n",
    "    random.seed(degree)\n",
    "    r = random.uniform(1.8, 2.2)\n",
    "    return ( (p1[0]+p2[0]) / r, (p1[1] + p2[1]) / r)\n",
    "\n",
    "def sierpinski(points,degree,myTurtle):\n",
    "    \n",
    "    if degree > 0:\n",
    "        drawTriangle(points,myTurtle, degree==1)\n",
    "        sierpinski([points[0],\n",
    "                        getConnector(points[0], points[1],degree),\n",
    "                        getConnector(points[0], points[2],degree)],\n",
    "                   degree-1, myTurtle)\n",
    "        sierpinski([points[1],\n",
    "                        getConnector(points[0], points[1],degree),\n",
    "                        getConnector(points[1], points[2],degree)],\n",
    "                   degree-1, myTurtle)\n",
    "        sierpinski([points[2],\n",
    "                        getConnector(points[2], points[1],degree),\n",
    "                        getConnector(points[0], points[2],degree)],\n",
    "                   degree-1, myTurtle)\n",
    "        sierpinski([getConnector(points[0], points[1],degree),\n",
    "                        getConnector(points[2], points[1],degree),\n",
    "                        getConnector(points[0], points[2],degree)],\n",
    "                   degree-1, myTurtle)\n",
    "\n",
    "def main():\n",
    "   myTurtle = turtle.Turtle()\n",
    "   myWin = turtle.Screen()\n",
    "   myPoints = [[-200,-100],[0,200],[200,-100]]\n",
    "   sierpinski(myPoints,5,myTurtle)\n",
    "   myWin.exitonclick()\n",
    "\n",
    "main()\n"
   ]
  },
  {
   "cell_type": "markdown",
   "metadata": {},
   "source": [
    "![mountain](./images/chap4mountain.PNG)\n",
    "#### 5. Write a recursive function to compute the Fibonacci sequence. How does the performance of the recursive function compare to that of an iterative version?\n"
   ]
  },
  {
   "cell_type": "code",
   "execution_count": 14,
   "metadata": {},
   "outputs": [
    {
     "name": "stdout",
     "output_type": "stream",
     "text": [
      "8\n"
     ]
    }
   ],
   "source": [
    "def Fibonacci(n):\n",
    "    if n == 0:\n",
    "        return 0\n",
    "    elif n == 1:\n",
    "        return 1\n",
    "    else:\n",
    "        return Fibonacci(n-1)+Fibonacci(n-2)\n",
    "    \n",
    "print(Fibonacci(6))\n",
    "        \n",
    "    "
   ]
  },
  {
   "cell_type": "markdown",
   "metadata": {},
   "source": [
    "#### 6. Implement a solution to the Tower of Hanoi using three stacks to keep track of the disks.\n"
   ]
  },
  {
   "cell_type": "code",
   "execution_count": 25,
   "metadata": {},
   "outputs": [
    {
     "name": "stdout",
     "output_type": "stream",
     "text": [
      "3\n",
      "[3, 2, 1]\n",
      "0\n",
      "0\n",
      "moving disk from <pythonds.basic.stack.Stack object at 0x000002448A741940> to <pythonds.basic.stack.Stack object at 0x000002448CA66B38>\n",
      "moving disk from <pythonds.basic.stack.Stack object at 0x000002448A741940> to <pythonds.basic.stack.Stack object at 0x000002448CA66390>\n",
      "moving disk from <pythonds.basic.stack.Stack object at 0x000002448CA66B38> to <pythonds.basic.stack.Stack object at 0x000002448CA66390>\n",
      "moving disk from <pythonds.basic.stack.Stack object at 0x000002448A741940> to <pythonds.basic.stack.Stack object at 0x000002448CA66B38>\n",
      "moving disk from <pythonds.basic.stack.Stack object at 0x000002448CA66390> to <pythonds.basic.stack.Stack object at 0x000002448A741940>\n",
      "moving disk from <pythonds.basic.stack.Stack object at 0x000002448CA66390> to <pythonds.basic.stack.Stack object at 0x000002448CA66B38>\n",
      "moving disk from <pythonds.basic.stack.Stack object at 0x000002448A741940> to <pythonds.basic.stack.Stack object at 0x000002448CA66B38>\n",
      "0\n",
      "3\n",
      "[3, 2, 1]\n",
      "0\n"
     ]
    }
   ],
   "source": [
    "from pythonds.basic.stack import Stack\n",
    "    \n",
    "def moveTower(height, fromPole, toPole, withPole):\n",
    "    if height >= 1:\n",
    "        moveTower(height-1, fromPole, withPole, toPole)\n",
    "        moveDisk(fromPole, toPole)\n",
    "        moveTower(height-1, withPole, toPole, fromPole)\n",
    "        \n",
    "def moveDisk(fp, tp):\n",
    "    tp.push(fp.pop())\n",
    "    print(\"moving disk from\",fp,\"to\",tp)\n",
    "    \n",
    "def initiatePole(height, pole):\n",
    "    while height > 0:\n",
    "        pole.push(height)\n",
    "        height -= 1\n",
    "    \n",
    "PoleA = Stack()\n",
    "PoleB = Stack()\n",
    "PoleC = Stack()\n",
    "height = 3\n",
    "initiatePole(height, PoleA)\n",
    "print(PoleA.size())\n",
    "print(PoleA.items)\n",
    "print(PoleB.size())\n",
    "print(PoleC.size())\n",
    "moveTower(height, PoleA, PoleB, PoleC)\n",
    "print(PoleA.size())\n",
    "print(PoleB.size())\n",
    "print(PoleB.items)\n",
    "print(PoleC.size())\n",
    "\n",
    "    "
   ]
  },
  {
   "cell_type": "markdown",
   "metadata": {},
   "source": [
    "#### 7. Using the turtle graphics module, write a recursive program to display a Hilbert curve.\n"
   ]
  },
  {
   "cell_type": "code",
   "execution_count": 61,
   "metadata": {},
   "outputs": [],
   "source": [
    "# algo: http://www.fundza.com/algorithmic/space_filling/hilbert/basics/\n",
    "import turtle\n",
    "\n",
    "def hilbert(x, y, xi, xj, yi, yj, n, myTurtle):\n",
    "    if n <= 0:\n",
    "        myTurtle.goto(x+(xi+yi)/2, y+(xj+yj)/2)\n",
    "    else:\n",
    "        hilbert(x, y, yi/2, yj/2, xi/2, xj/2, n-1, myTurtle)\n",
    "        hilbert(x+xi/2,      y+xj/2 ,     xi/2, xj/2,  yi/2,  yj/2, n-1, myTurtle)\n",
    "        hilbert(x+xi/2+yi/2, y+xj/2+yj/2, xi/2, xj/2,  yi/2,  yj/2, n-1, myTurtle)\n",
    "        hilbert(x+xi/2+yi,   y+xj/2+yj,  -yi/2,-yj/2, -xi/2, -xj/2, n-1, myTurtle)\n",
    "\n",
    "def main():\n",
    "    myTurtle = turtle.Turtle()\n",
    "    myWin = turtle.Screen()\n",
    "    myTurtle.up()\n",
    "    myTurtle.goto(-200,-200)\n",
    "    myTurtle.down()\n",
    "    hilbert(-200, -200, 200, 0, 0, 200, 4, myTurtle)\n",
    "    myWin.exitonclick()\n",
    "\n",
    "main()\n"
   ]
  },
  {
   "cell_type": "markdown",
   "metadata": {},
   "source": [
    "![hilbert](./images/chap4hilbert.PNG)\n",
    "#### 8. Using the turtle graphics module, write a recursive program to display a Koch snowflake.\n"
   ]
  },
  {
   "cell_type": "code",
   "execution_count": 72,
   "metadata": {},
   "outputs": [],
   "source": [
    "import turtle\n",
    "    \n",
    "def Koch(length, level, myTurtle):\n",
    "    if level == 1:\n",
    "        myTurtle.forward(length)\n",
    "        return\n",
    "    length /= 3\n",
    "    Koch(length, level-1, myTurtle)\n",
    "    myTurtle.left(60)\n",
    "    Koch(length, level-1, myTurtle)\n",
    "    myTurtle.right(120)\n",
    "    Koch(length, level-1, myTurtle)\n",
    "    myTurtle.left(60)\n",
    "    Koch(length, level-1, myTurtle)\n",
    "    \n",
    "def main():\n",
    "    myTurtle = turtle.Turtle()\n",
    "    myWin = turtle.Screen()\n",
    "    length = 300\n",
    "    level = 4\n",
    "    Koch(length, level, myTurtle)\n",
    "    myTurtle.right(120)\n",
    "    Koch(length, level, myTurtle)\n",
    "    myTurtle.right(120)\n",
    "    Koch(length, level, myTurtle)\n",
    "    myWin.exitonclick()\n",
    "    \n",
    "main()\n",
    "    "
   ]
  },
  {
   "cell_type": "markdown",
   "metadata": {},
   "source": [
    "![snowflake](./images/chap4snowflake.PNG)\n",
    "#### 9. Write a program to solve the following problem: You have two jugs: a 4-gallon jug and a 3-gallon jug. Neither of the jugs have markings on them. There is a pump that can be used to fill the jugs with water. How can you get exactly two gallons of water in the 4-gallon jug?\n",
    "#### 10. Generalize the problem above so that the parameters to your solution include the sizes of each jug and the final amount of water to be left in the larger jug.\n"
   ]
  },
  {
   "cell_type": "code",
   "execution_count": 79,
   "metadata": {},
   "outputs": [
    {
     "name": "stdout",
     "output_type": "stream",
     "text": [
      "jugA: 0\n",
      "jubB: 0\n",
      "Filling jugA\n",
      "Pouring jugA to jugB\n",
      "Emptying jugB\n",
      "Pouring jugA to jugB\n",
      "Filling jugA\n",
      "Pouring jugA to jugB\n",
      "Emptying jugB\n",
      "Succeed!\n",
      "jugA: 2\n",
      "jubB: 0\n"
     ]
    }
   ],
   "source": [
    "class State:\n",
    "    # jugA 4 gallons\n",
    "    # jugB 3 gallons\n",
    "    def __init__(self, jugA, jugB):\n",
    "        self.jugA = jugA\n",
    "        self.jugB = jugB\n",
    "        \n",
    "    def __str__(self):\n",
    "        return 'jugA: ' + str(self.jugA) + '\\njubB: ' + str(self.jugB)\n",
    "    \n",
    "    def fillA(self):\n",
    "        self.jugA = 4\n",
    "        return 'Filling jugA'\n",
    "        \n",
    "    def fillB(self):\n",
    "        self.jugB = 3\n",
    "        return 'Filling jugB'\n",
    "        \n",
    "    def emptyA(self):\n",
    "        self.jugA = 0\n",
    "        return 'Emptying jugA'\n",
    "    \n",
    "    def emptyB(self):\n",
    "        self.jugB = 0\n",
    "        return 'Emptying jugB'\n",
    "        \n",
    "    def pourAtoB(self):\n",
    "        spaceB = 3 - self.jugB\n",
    "        if self.jugA > spaceB:\n",
    "            self.jugB = 3\n",
    "            self.jugA = self.jugA - spaceB\n",
    "        else:\n",
    "            self.jugB = self.jugB + self.jugA\n",
    "            self.jugA = 0\n",
    "        return 'Pouring jugA to jugB'\n",
    "            \n",
    "    def pourBtoA(self):\n",
    "        spaceA = 4 - self.jugA\n",
    "        if self.jugB > spaceA:\n",
    "            self.jugA = 4\n",
    "            self.jugB = self.jugB - spaceA\n",
    "        else:\n",
    "            self.jugA = self.jugA + self.jugB\n",
    "            self.jugB = 0\n",
    "        return 'Pouring jugB to jugA'\n",
    "        \n",
    "def gcd(a, b):\n",
    "    if b == 0:\n",
    "        return a\n",
    "    return gcd(b, a%b)\n",
    "        \n",
    "def move(start, goal):\n",
    "    if goal.jugA > 4:\n",
    "        return\n",
    "    if (goal.jugA % gcd(4, 3)) != 0:\n",
    "        return\n",
    "    print(start.fillA())\n",
    "    print(start.pourAtoB())\n",
    "    print(start.emptyB())\n",
    "    if start.jugA == goal.jugA:\n",
    "        print('Succeed!')\n",
    "        return\n",
    "    else:\n",
    "        print(start.pourAtoB())\n",
    "        move(start, goal)\n",
    "        \n",
    "start = State(0,0)\n",
    "goal = State(2,0)\n",
    "print(start)\n",
    "move(start, goal)\n",
    "print(start)"
   ]
  },
  {
   "cell_type": "markdown",
   "metadata": {},
   "source": [
    "#### 11. Write a program that solves the following problem: Three missionaries and three cannibals come to a river and find a boat that holds two people. Everyone must get across the river to continue on the journey. However, if the cannibals ever outnumber the missionaries on either bank, the missionaries will be eaten. Find a series of crossings that will get everyone safely to the other side of the river.\n"
   ]
  },
  {
   "cell_type": "code",
   "execution_count": 97,
   "metadata": {},
   "outputs": [
    {
     "name": "stdout",
     "output_type": "stream",
     "text": [
      "\n",
      "    Bank 1: 3 cannibal(s), 3 missionary/ies\n",
      "    Bank 2: 0 cannibal(s), 0 missionary/ies\n",
      "    Boat: 0 cannibal(s), 0 missionary/ies\n",
      "    \n",
      "\n",
      "    Bank 1: 2 cannibal(s), 2 missionary/ies\n",
      "    Bank 2: 0 cannibal(s), 0 missionary/ies\n",
      "    Boat: 1 cannibal(s), 1 missionary/ies\n",
      "    \n",
      "\n",
      "    Bank 1: 2 cannibal(s), 2 missionary/ies\n",
      "    Bank 2: 0 cannibal(s), 1 missionary/ies\n",
      "    Boat: 1 cannibal(s), 0 missionary/ies\n",
      "    \n",
      "\n",
      "    Bank 1: 1 cannibal(s), 2 missionary/ies\n",
      "    Bank 2: 0 cannibal(s), 1 missionary/ies\n",
      "    Boat: 2 cannibal(s), 0 missionary/ies\n",
      "    \n",
      "\n",
      "    Bank 1: 1 cannibal(s), 2 missionary/ies\n",
      "    Bank 2: 1 cannibal(s), 1 missionary/ies\n",
      "    Boat: 1 cannibal(s), 0 missionary/ies\n",
      "    \n",
      "\n",
      "    Bank 1: 1 cannibal(s), 1 missionary/ies\n",
      "    Bank 2: 1 cannibal(s), 1 missionary/ies\n",
      "    Boat: 1 cannibal(s), 1 missionary/ies\n",
      "    \n",
      "\n",
      "    Bank 1: 1 cannibal(s), 1 missionary/ies\n",
      "    Bank 2: 1 cannibal(s), 2 missionary/ies\n",
      "    Boat: 1 cannibal(s), 0 missionary/ies\n",
      "    \n",
      "\n",
      "    Bank 1: 0 cannibal(s), 1 missionary/ies\n",
      "    Bank 2: 1 cannibal(s), 2 missionary/ies\n",
      "    Boat: 2 cannibal(s), 0 missionary/ies\n",
      "    \n",
      "\n",
      "    Bank 1: 0 cannibal(s), 1 missionary/ies\n",
      "    Bank 2: 2 cannibal(s), 2 missionary/ies\n",
      "    Boat: 1 cannibal(s), 0 missionary/ies\n",
      "    \n",
      "\n",
      "    Bank 1: 0 cannibal(s), 0 missionary/ies\n",
      "    Bank 2: 2 cannibal(s), 2 missionary/ies\n",
      "    Boat: 1 cannibal(s), 1 missionary/ies\n",
      "    \n",
      "\n",
      "    Bank 1: 0 cannibal(s), 0 missionary/ies\n",
      "    Bank 2: 3 cannibal(s), 3 missionary/ies\n",
      "    Boat: 0 cannibal(s), 0 missionary/ies\n",
      "    \n"
     ]
    }
   ],
   "source": [
    "def print_state(dct1, dct2, dct3):\n",
    "    msg = \"\"\"\n",
    "    Bank 1: {} cannibal(s), {} missionary/ies\n",
    "    Bank 2: {} cannibal(s), {} missionary/ies\n",
    "    Boat: {} cannibal(s), {} missionary/ies\n",
    "    \"\"\"\n",
    "    print(msg.format(dct1['c'], dct1['m'], dct2['c'], dct2['m'],\n",
    "                     dct3['c'], dct3['m']))\n",
    "\n",
    "def miss_cann(b1, b2, bo):\n",
    "    if all(x == 0 for x in b2.values()):  # bank2 is empty\n",
    "        print_state(b1, b2, bo)\n",
    "        b1['c'] -= 1  # 1 cannibal leaves bank1 and ...\n",
    "        bo['c'] += 1  # ... goes on board\n",
    "\n",
    "    b1['m'] -= 1  # 1 missionary leaves bank1 and ...\n",
    "    bo['m'] += 1  # ... goes on board\n",
    "    print_state(b1, b2, bo)\n",
    "\n",
    "    if all(x == 0 for x in b1.values()):  # bank1 is empty\n",
    "        bo['c'], bo['m'] = 0, 0  # 1 cannibal and 1 missionary go out of boat\n",
    "        b2['c'] += 1  # 1 cannibal steps out on bank2\n",
    "        b2['m'] += 1  # 1 missionary steps out on bank2\n",
    "        print_state(b1, b2, bo)\n",
    "        return  # final condition is met\n",
    "\n",
    "    bo['m'] -= 1  # 1 missionary goes out of boat and ...\n",
    "    b2['m'] += 1  # ... steps out on bank2\n",
    "    print_state(b1, b2, bo)\n",
    "\n",
    "    b1['c'] -= 1  # 1 cannibal leaves bank1 and ...\n",
    "    bo['c'] += 1  # ... goes on board\n",
    "    print_state(b1, b2, bo)\n",
    "\n",
    "    bo['c'] -= 1  # 1 cannibal goes out of boat and ...\n",
    "    b2['c'] += 1  # ... steps out on bank2\n",
    "    print_state(b1, b2, bo)\n",
    "\n",
    "    miss_cann(b1, b2, bo)  # another series of crossings\n",
    "\n",
    "\n",
    "def main():\n",
    "    miss_cann(b1,b2,bo)\n",
    "\n",
    "\n",
    "if __name__ == '__main__':\n",
    "    b1 = {'m':3, 'c':3}\n",
    "    b2 = {'m':0, 'c':0}\n",
    "    bo = {'m':0, 'c':0}\n",
    "    main()  "
   ]
  },
  {
   "cell_type": "markdown",
   "metadata": {},
   "source": [
    "#### 12. Modify the Tower of Hanoi program using turtle graphics to animate the movement of the disks. Hint: You can make multiple turtles and have them shaped like rectangles.\n"
   ]
  },
  {
   "cell_type": "code",
   "execution_count": null,
   "metadata": {},
   "outputs": [],
   "source": [
    "from pythonds.basic.stack import Stack\n",
    "    \n",
    "def moveTower(height, fromPole, toPole, withPole):\n",
    "    if height >= 1:\n",
    "        moveTower(height-1, fromPole, withPole, toPole)\n",
    "        moveDisk(fromPole, toPole)\n",
    "        moveTower(height-1, withPole, toPole, fromPole)\n",
    "        \n",
    "def moveDisk(fp, tp):\n",
    "    tp.push(fp.pop())\n",
    "    print(\"moving disk from\",fp,\"to\",tp)\n",
    "    \n",
    "def initiatePole(height, pole):\n",
    "    while height > 0:\n",
    "        pole.push(height)\n",
    "        height -= 1\n",
    "    \n",
    "PoleA = Stack()\n",
    "PoleB = Stack()\n",
    "PoleC = Stack()\n",
    "height = 3\n",
    "initiatePole(height, PoleA)\n",
    "print(PoleA.size())\n",
    "print(PoleA.items)\n",
    "print(PoleB.size())\n",
    "print(PoleC.size())\n",
    "moveTower(height, PoleA, PoleB, PoleC)\n",
    "print(PoleA.size())\n",
    "print(PoleB.size())\n",
    "print(PoleB.items)\n",
    "print(PoleC.size())\n",
    "\n",
    "    "
   ]
  },
  {
   "cell_type": "markdown",
   "metadata": {},
   "source": [
    "#### 13. Pascal’s triangle is a number triangle with numbers arranged in staggered rows such that\n",
    "#### anr=n!/(r!(n−r)!)\n",
    "\n",
    "#### This equation is the equation for a binomial coefficient. You can build Pascal’s triangle by adding the two numbers that are diagonally above a number in the triangle. An example of Pascal’s triangle is shown below.\n",
    "\n",
    "             1\n",
    "           1   1\n",
    "         1   2   1\n",
    "       1   3   3   1\n",
    "     1   4   6   4   1\n",
    "\n",
    "#### Write a program that prints out Pascal’s triangle. Your program should accept a parameter that tells how many rows of the triangle to print."
   ]
  },
  {
   "cell_type": "code",
   "execution_count": 106,
   "metadata": {},
   "outputs": [
    {
     "name": "stdout",
     "output_type": "stream",
     "text": [
      "[[1], [1, 1], [1, 2, 1], [1, 3, 3, 1], [1, 4, 6, 4, 1], [1, 5, 10, 10, 5, 1], [1, 6, 15, 20, 15, 6, 1]]\n"
     ]
    }
   ],
   "source": [
    "class pascal:\n",
    "    def __init__(self, n):\n",
    "        # n: number of rows\n",
    "        self.n = n\n",
    "    \n",
    "    def generate(self):\n",
    "        triangle = []\n",
    "        \n",
    "        for row_num in range(self.n):\n",
    "            row = [None for i in range(row_num+1)]\n",
    "            row[0], row[-1] = 1, 1\n",
    "            for i in range(1, row_num):\n",
    "                row[i] = triangle[row_num-1][i-1] + triangle[row_num-1][i]\n",
    "                \n",
    "            triangle.append(row)\n",
    "        \n",
    "        return triangle\n",
    "    \n",
    "    \n",
    "test = pascal(7)\n",
    "print(test.generate())\n",
    "\n",
    "    "
   ]
  },
  {
   "cell_type": "markdown",
   "metadata": {},
   "source": [
    "#### 14. Suppose you are a computer scientist/art thief who has broken into a major art gallery. All you have with you to haul out your stolen art is your knapsack which only holds W pounds of art, but for every piece of art you know its value and its weight. Write a dynamic programming function to help you maximize your profit. Here is a sample problem for you to use to get started: Suppose your knapsack can hold a total weight of 20. You have 5 items as follows:\n",
    "\n",
    "    item     weight      value\n",
    "\n",
    "      1        2           3\n",
    "  \n",
    "      2        3           4\n",
    "  \n",
    "      3        4           8\n",
    "  \n",
    "      4        5           8\n",
    "  \n",
    "      5        9          10\n"
   ]
  },
  {
   "cell_type": "code",
   "execution_count": 118,
   "metadata": {},
   "outputs": [
    {
     "name": "stdout",
     "output_type": "stream",
     "text": [
      "29\n"
     ]
    }
   ],
   "source": [
    "# Dynamic programming method\n",
    "# n: items left to review\n",
    "# c: remaining capacity\n",
    "def Knapsack(n, c, weight, value):\n",
    "    arr = [[None for i in range(n+1)] for j in range(c+1)]\n",
    "    if arr[c][n]:\n",
    "        return arr[c][n]\n",
    "    if n==0 or c==0:\n",
    "        result = 0\n",
    "    elif weight[n-1] > c:\n",
    "        result = Knapsack(n-1, c, weight, value)\n",
    "    else:\n",
    "        # compare the values between keep the item or give up on the item\n",
    "        temp1 = Knapsack(n-1, c, weight, value) # give up\n",
    "        temp2 = value[n-1] + Knapsack(n-1, c-weight[n-1], weight, value) # keep\n",
    "        result = max(temp1, temp2)\n",
    "    arr[c][n] = result\n",
    "    return result\n",
    "    \n",
    "weight = [2, 3, 4, 5, 9]\n",
    "value = [3, 4, 8, 8, 10]\n",
    "print(Knapsack(5, 20, weight, value))\n",
    "        \n",
    "    "
   ]
  },
  {
   "cell_type": "markdown",
   "metadata": {},
   "source": [
    "#### 15. This problem is called the string edit distance problem, and is quite useful in many areas of research. Suppose that you want to transform the word “algorithm” into the word “alligator.” For each letter you can either copy the letter from one word to another at a cost of 5, you can delete a letter at cost of 20, or insert a letter at a cost of 20. The total cost to transform one word into another is used by spell check programs to provide suggestions for words that are close to one another. Use dynamic programming techniques to develop an algorithm that gives you the smallest edit distance between any two words."
   ]
  },
  {
   "cell_type": "code",
   "execution_count": null,
   "metadata": {},
   "outputs": [],
   "source": [
    "def spellCheck(s1, s2):\n",
    "    l1 = len(s1)\n",
    "    l2 = len(s2)\n",
    "    dist = 0\n",
    "    arr = [None for i in range(l+1)]\n",
    "    \n",
    "    if s1 == '':\n",
    "        dist += 20*l2\n",
    "        return dist\n",
    "    \n",
    "    if s2 == '':\n",
    "        dist += 20*l1\n",
    "        return dist\n",
    "    \n",
    "    if s1[l1-1] == s2[l2-1]:\n",
    "        return spellCheck(s1[:l1-1], s2[:l2-1])\n",
    "    \n",
    "    else:\n",
    "        dist = dist + min()\n",
    "        \n",
    "    \n",
    "        "
   ]
  },
  {
   "cell_type": "code",
   "execution_count": 123,
   "metadata": {},
   "outputs": [
    {
     "name": "stdout",
     "output_type": "stream",
     "text": [
      "2\n"
     ]
    }
   ],
   "source": [
    "a = 's'\n",
    "b = a[:-1]\n",
    "if b == None:\n",
    "    print(1)\n",
    "elif b == '':\n",
    "    print(2)"
   ]
  }
 ],
 "metadata": {
  "kernelspec": {
   "display_name": "Python 3",
   "language": "python",
   "name": "python3"
  },
  "language_info": {
   "codemirror_mode": {
    "name": "ipython",
    "version": 3
   },
   "file_extension": ".py",
   "mimetype": "text/x-python",
   "name": "python",
   "nbconvert_exporter": "python",
   "pygments_lexer": "ipython3",
   "version": "3.7.3"
  }
 },
 "nbformat": 4,
 "nbformat_minor": 2
}
