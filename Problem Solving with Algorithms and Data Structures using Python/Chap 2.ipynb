{
 "cells": [
  {
   "cell_type": "markdown",
   "metadata": {},
   "source": [
    "Devise an experiment to verify that the list index operator is O(1)\n",
    "Devise an experiment to verify that get item and set item are O(1) for dictionaries.\n",
    "Devise an experiment that compares the performance of the del operator on lists and dictionaries.\n",
    "Given a list of numbers in random order, write an algorithm that works in O(nlog(n)) to find the kth smallest number in the list.\n",
    "Can you improve the algorithm from the previous problem to be linear? Explain."
   ]
  }
 ],
 "metadata": {
  "kernelspec": {
   "display_name": "Python 3",
   "language": "python",
   "name": "python3"
  },
  "language_info": {
   "codemirror_mode": {
    "name": "ipython",
    "version": 3
   },
   "file_extension": ".py",
   "mimetype": "text/x-python",
   "name": "python",
   "nbconvert_exporter": "python",
   "pygments_lexer": "ipython3",
   "version": "3.6.3"
  }
 },
 "nbformat": 4,
 "nbformat_minor": 2
}
